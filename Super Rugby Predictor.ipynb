{
 "cells": [
  {
   "cell_type": "code",
   "execution_count": 1,
   "metadata": {
    "colab": {},
    "colab_type": "code",
    "id": "a1jqgM4V-5HE"
   },
   "outputs": [],
   "source": [
    "import pandas as pd\n",
    "import numpy as np\n",
    "from sklearn.model_selection import train_test_split\n",
    "from sklearn.ensemble import RandomForestRegressor\n",
    "from sklearn.preprocessing import StandardScaler\n",
    "from sklearn.svm import SVR"
   ]
  },
  {
   "cell_type": "code",
   "execution_count": 2,
   "metadata": {
    "colab": {},
    "colab_type": "code",
    "id": "8gZRyWwC_8Rz"
   },
   "outputs": [],
   "source": [
    "op_data = pd.read_csv(\"super_rugby_oddsportal.csv\")"
   ]
  },
  {
   "cell_type": "markdown",
   "metadata": {
    "colab_type": "text",
    "id": "Ub4JWYbxAMnw"
   },
   "source": [
    "## Data Cleaning and Pre-Processing\n",
    "\n",
    "Steps to carry out:\n",
    "\n",
    "- Column names *DONE*\n",
    "- Change categorical to numerical using one-hot encoding: Home team, away team  *DONE*\n",
    "- Drop date column *DONE*\n",
    "- Create response variable: home team margin (positive for home win, negative for away win)  *DONE*\n",
    "- Remove home score and away score after creating response *DONE*"
   ]
  },
  {
   "cell_type": "markdown",
   "metadata": {
    "colab_type": "text",
    "id": "Esi62bwpAnGI"
   },
   "source": [
    "#### Function which takes in CSV and spits out pandas dataframe with dummy variables"
   ]
  },
  {
   "cell_type": "code",
   "execution_count": 3,
   "metadata": {
    "colab": {},
    "colab_type": "code",
    "id": "dpysnlka1ABw"
   },
   "outputs": [],
   "source": [
    "# function to clean data\n",
    "\n",
    "def prep_data (raw_csv):\n",
    "  # read in data\n",
    "  temp = pd.read_csv(raw_csv, names=[\"date\", \"home_team\",\"away_team\",\"home_score\",\n",
    "                                    \"away_score\",\"playoff\",\"home_odds\",\"draw_odds\",\n",
    "                                    \"away_odds\",\"num_bookies\"])\n",
    "  \n",
    "  # drop incorrect first row\n",
    "  temp = temp.drop(index=[0])\n",
    "  \n",
    "  # drop date column\n",
    "  temp = temp.drop(\"date\", axis=1)\n",
    "  \n",
    "  # playoffs replace NaN with 0\n",
    "  temp.playoff.fillna(0, inplace=True)\n",
    "  \n",
    "  # playoffs replace Y with 1\n",
    "  temp.playoff.replace(\"Y\", 1, inplace=True)\n",
    "  \n",
    "  # drop any rows containing at least one NaN\n",
    "  temp = temp.dropna(axis=0, how=\"any\")\n",
    "  \n",
    "  # one hot encoding: find team names and append a prefix\n",
    "  temp['home_team'] = 'home_' + temp['home_team'].astype(str)\n",
    "  temp['away_team'] = 'away_' + temp['away_team'].astype(str)\n",
    "  \n",
    "  # create one hot df for home teams\n",
    "  one_hot_home = pd.get_dummies(temp.home_team)\n",
    "  one_hot_away = pd.get_dummies(temp.away_team)\n",
    "  \n",
    "  # append the one hot DFs to the primary df\n",
    "  \n",
    "  # Drop columns as they are now encoded\n",
    "  temp = temp.drop(labels=[\"home_team\", \"away_team\"], axis = 1)\n",
    "\n",
    "  # Join the encoded df\n",
    "  temp = temp.join(one_hot_home)\n",
    "  temp = temp.join(one_hot_away)\n",
    "\n",
    "  # convert score columns to numeric\n",
    "  temp[\"home_score\"] = temp[\"home_score\"].astype(dtype=np.int64)\n",
    "  temp[\"away_score\"] = temp[\"away_score\"].astype(dtype=np.int64)\n",
    "  \n",
    "  # create response variable for regression\n",
    "  temp['home_margin'] = temp.home_score - temp.away_score\n",
    "\n",
    "  # drop score columns\n",
    "  temp = temp.drop([\"home_score\", \"away_score\"], axis=1)\n",
    "  \n",
    "  return temp"
   ]
  },
  {
   "cell_type": "code",
   "execution_count": null,
   "metadata": {
    "colab": {},
    "colab_type": "code",
    "id": "r4o59T9BZLdQ"
   },
   "outputs": [],
   "source": [
    "new_data = prep_data(\"new_data_wk_2.csv\")"
   ]
  },
  {
   "cell_type": "markdown",
   "metadata": {
    "colab_type": "text",
    "id": "iOk84tBBTih5"
   },
   "source": [
    "## Model Preparation: Random Forest Regressor\n",
    "\n",
    "To do:\n",
    "\n",
    "- Train/test split\n",
    "- Set up random forest\n",
    "- Train\n",
    "- Check test accuracy\n",
    "- Predict with week 2 data"
   ]
  },
  {
   "cell_type": "code",
   "execution_count": null,
   "metadata": {
    "colab": {},
    "colab_type": "code",
    "id": "fuRKmrGTTlwV"
   },
   "outputs": [],
   "source": [
    "# set up train/test split with 80/20 proportion\n",
    "\n",
    "features = new_data[7:].drop([\"home_margin\"], axis = 1)\n",
    "response = new_data[7:].home_margin"
   ]
  },
  {
   "cell_type": "code",
   "execution_count": null,
   "metadata": {
    "colab": {},
    "colab_type": "code",
    "id": "jXOGFqOVVO-w"
   },
   "outputs": [],
   "source": [
    "# train test split from sklearn\n",
    "\n",
    "X_train, X_test, y_train, y_test = train_test_split(features, response, test_size=0.1)"
   ]
  },
  {
   "cell_type": "code",
   "execution_count": null,
   "metadata": {
    "colab": {},
    "colab_type": "code",
    "id": "DHdFN78BVVjR"
   },
   "outputs": [],
   "source": [
    "# random forest regressor\n",
    "\n",
    "# Instantiate model with 1000 decision trees\n",
    "rf = RandomForestRegressor(n_estimators = 1000, random_state = 101)"
   ]
  },
  {
   "cell_type": "code",
   "execution_count": null,
   "metadata": {
    "colab": {
     "base_uri": "https://localhost:8080/",
     "height": 122
    },
    "colab_type": "code",
    "executionInfo": {
     "elapsed": 7442,
     "status": "ok",
     "timestamp": 1550666946707,
     "user": {
      "displayName": "Kieran Donnelly",
      "photoUrl": "https://lh5.googleusercontent.com/-qOCnWQmSPhU/AAAAAAAAAAI/AAAAAAAA3YM/gLNo024IFgk/s64/photo.jpg",
      "userId": "08966570757713512847"
     },
     "user_tz": -120
    },
    "id": "EBYlp5u3VeYd",
    "outputId": "ce660828-3f04-43c9-b68b-d02aa762d8a6"
   },
   "outputs": [
    {
     "data": {
      "text/plain": [
       "RandomForestRegressor(bootstrap=True, criterion='mse', max_depth=None,\n",
       "           max_features='auto', max_leaf_nodes=None,\n",
       "           min_impurity_decrease=0.0, min_impurity_split=None,\n",
       "           min_samples_leaf=1, min_samples_split=2,\n",
       "           min_weight_fraction_leaf=0.0, n_estimators=1000, n_jobs=None,\n",
       "           oob_score=False, random_state=101, verbose=0, warm_start=False)"
      ]
     },
     "execution_count": 301,
     "metadata": {
      "tags": []
     },
     "output_type": "execute_result"
    }
   ],
   "source": [
    "# Train the model on training data\n",
    "rf.fit(X_train, y_train)"
   ]
  },
  {
   "cell_type": "markdown",
   "metadata": {
    "colab_type": "text",
    "id": "2m89a_evx1fo"
   },
   "source": [
    "#### Use week 2 from 2019 as test case"
   ]
  },
  {
   "cell_type": "code",
   "execution_count": null,
   "metadata": {
    "colab": {},
    "colab_type": "code",
    "id": "wyXEvczIx5-4"
   },
   "outputs": [],
   "source": [
    "X_test = new_data[:7].drop([\"home_margin\"], axis = 1)"
   ]
  },
  {
   "cell_type": "code",
   "execution_count": null,
   "metadata": {
    "colab": {},
    "colab_type": "code",
    "id": "OOvdi6F0WJgZ"
   },
   "outputs": [],
   "source": [
    "# Use the forest's predict method on the test data\n",
    "predictions = rf.predict(X_test)"
   ]
  },
  {
   "cell_type": "code",
   "execution_count": null,
   "metadata": {
    "colab": {},
    "colab_type": "code",
    "id": "AlqHsDIoXwWg"
   },
   "outputs": [],
   "source": [
    "# Calculate the absolute errors\n",
    "errors = abs(predictions - y_test)"
   ]
  },
  {
   "cell_type": "code",
   "execution_count": null,
   "metadata": {
    "colab": {
     "base_uri": "https://localhost:8080/",
     "height": 34
    },
    "colab_type": "code",
    "executionInfo": {
     "elapsed": 1009,
     "status": "ok",
     "timestamp": 1550664064886,
     "user": {
      "displayName": "Kieran Donnelly",
      "photoUrl": "https://lh5.googleusercontent.com/-qOCnWQmSPhU/AAAAAAAAAAI/AAAAAAAA3YM/gLNo024IFgk/s64/photo.jpg",
      "userId": "08966570757713512847"
     },
     "user_tz": -120
    },
    "id": "vlqYqagCXxgZ",
    "outputId": "39f2f88a-8edb-416e-da7a-83bc8b0bfe67"
   },
   "outputs": [
    {
     "name": "stdout",
     "output_type": "stream",
     "text": [
      "Mean Absolute Error: 15.33 points.\n"
     ]
    }
   ],
   "source": [
    "# Print out the mean absolute error (mae)\n",
    "print('Mean Absolute Error:', round(np.mean(errors), 2), 'points.')"
   ]
  },
  {
   "cell_type": "code",
   "execution_count": null,
   "metadata": {
    "colab": {},
    "colab_type": "code",
    "id": "EtMVf2jkhmNI"
   },
   "outputs": [],
   "source": [
    "# dataframe on preds\n",
    "predictions_rf_df = pd.DataFrame(data=predictions, columns=[\"predictions\"], index=X_test.index)"
   ]
  },
  {
   "cell_type": "code",
   "execution_count": null,
   "metadata": {
    "colab": {},
    "colab_type": "code",
    "id": "drch0sENYAMG"
   },
   "outputs": [],
   "source": [
    "# join test features with predictions\n",
    "result = X_test.join(round(predictions_rf_df))"
   ]
  },
  {
   "cell_type": "code",
   "execution_count": null,
   "metadata": {
    "colab": {
     "base_uri": "https://localhost:8080/",
     "height": 303
    },
    "colab_type": "code",
    "executionInfo": {
     "elapsed": 1080,
     "status": "ok",
     "timestamp": 1550669556304,
     "user": {
      "displayName": "Kieran Donnelly",
      "photoUrl": "https://lh5.googleusercontent.com/-qOCnWQmSPhU/AAAAAAAAAAI/AAAAAAAA3YM/gLNo024IFgk/s64/photo.jpg",
      "userId": "08966570757713512847"
     },
     "user_tz": -120
    },
    "id": "3rrEDZfTBCmm",
    "outputId": "d0609073-aa6c-4e66-e612-418a2c2256a7"
   },
   "outputs": [
    {
     "data": {
      "text/html": [
       "<div>\n",
       "<style scoped>\n",
       "    .dataframe tbody tr th:only-of-type {\n",
       "        vertical-align: middle;\n",
       "    }\n",
       "\n",
       "    .dataframe tbody tr th {\n",
       "        vertical-align: top;\n",
       "    }\n",
       "\n",
       "    .dataframe thead th {\n",
       "        text-align: right;\n",
       "    }\n",
       "</style>\n",
       "<table border=\"1\" class=\"dataframe\">\n",
       "  <thead>\n",
       "    <tr style=\"text-align: right;\">\n",
       "      <th></th>\n",
       "      <th>playoff</th>\n",
       "      <th>home_odds</th>\n",
       "      <th>draw_odds</th>\n",
       "      <th>away_odds</th>\n",
       "      <th>num_bookies</th>\n",
       "      <th>home_Blues</th>\n",
       "      <th>home_Brumbies</th>\n",
       "      <th>home_Bulls</th>\n",
       "      <th>home_Cheetahs</th>\n",
       "      <th>home_Chiefs</th>\n",
       "      <th>...</th>\n",
       "      <th>away_Jaguares</th>\n",
       "      <th>away_Kings</th>\n",
       "      <th>away_Lions</th>\n",
       "      <th>away_Rebels</th>\n",
       "      <th>away_Reds</th>\n",
       "      <th>away_Sharks</th>\n",
       "      <th>away_Stormers</th>\n",
       "      <th>away_Sunwolves</th>\n",
       "      <th>away_Waratahs</th>\n",
       "      <th>predictions</th>\n",
       "    </tr>\n",
       "  </thead>\n",
       "  <tbody>\n",
       "    <tr>\n",
       "      <th>1</th>\n",
       "      <td>0</td>\n",
       "      <td>1.08</td>\n",
       "      <td>38.19</td>\n",
       "      <td>7.65</td>\n",
       "      <td>11</td>\n",
       "      <td>0</td>\n",
       "      <td>0</td>\n",
       "      <td>0</td>\n",
       "      <td>0</td>\n",
       "      <td>0</td>\n",
       "      <td>...</td>\n",
       "      <td>0</td>\n",
       "      <td>0</td>\n",
       "      <td>0</td>\n",
       "      <td>0</td>\n",
       "      <td>1</td>\n",
       "      <td>0</td>\n",
       "      <td>0</td>\n",
       "      <td>0</td>\n",
       "      <td>0</td>\n",
       "      <td>22.0</td>\n",
       "    </tr>\n",
       "    <tr>\n",
       "      <th>2</th>\n",
       "      <td>0</td>\n",
       "      <td>7.92</td>\n",
       "      <td>40.2</td>\n",
       "      <td>1.07</td>\n",
       "      <td>10</td>\n",
       "      <td>0</td>\n",
       "      <td>0</td>\n",
       "      <td>0</td>\n",
       "      <td>0</td>\n",
       "      <td>0</td>\n",
       "      <td>...</td>\n",
       "      <td>0</td>\n",
       "      <td>0</td>\n",
       "      <td>0</td>\n",
       "      <td>0</td>\n",
       "      <td>0</td>\n",
       "      <td>0</td>\n",
       "      <td>0</td>\n",
       "      <td>0</td>\n",
       "      <td>1</td>\n",
       "      <td>-16.0</td>\n",
       "    </tr>\n",
       "    <tr>\n",
       "      <th>3</th>\n",
       "      <td>0</td>\n",
       "      <td>1.36</td>\n",
       "      <td>23.63</td>\n",
       "      <td>3.21</td>\n",
       "      <td>10</td>\n",
       "      <td>0</td>\n",
       "      <td>0</td>\n",
       "      <td>0</td>\n",
       "      <td>0</td>\n",
       "      <td>0</td>\n",
       "      <td>...</td>\n",
       "      <td>0</td>\n",
       "      <td>0</td>\n",
       "      <td>0</td>\n",
       "      <td>0</td>\n",
       "      <td>0</td>\n",
       "      <td>0</td>\n",
       "      <td>0</td>\n",
       "      <td>0</td>\n",
       "      <td>0</td>\n",
       "      <td>8.0</td>\n",
       "    </tr>\n",
       "    <tr>\n",
       "      <th>4</th>\n",
       "      <td>0</td>\n",
       "      <td>3.29</td>\n",
       "      <td>23.97</td>\n",
       "      <td>1.34</td>\n",
       "      <td>10</td>\n",
       "      <td>0</td>\n",
       "      <td>1</td>\n",
       "      <td>0</td>\n",
       "      <td>0</td>\n",
       "      <td>0</td>\n",
       "      <td>...</td>\n",
       "      <td>0</td>\n",
       "      <td>0</td>\n",
       "      <td>0</td>\n",
       "      <td>0</td>\n",
       "      <td>0</td>\n",
       "      <td>0</td>\n",
       "      <td>0</td>\n",
       "      <td>0</td>\n",
       "      <td>0</td>\n",
       "      <td>-6.0</td>\n",
       "    </tr>\n",
       "    <tr>\n",
       "      <th>5</th>\n",
       "      <td>0</td>\n",
       "      <td>2.14</td>\n",
       "      <td>21.71</td>\n",
       "      <td>1.74</td>\n",
       "      <td>10</td>\n",
       "      <td>0</td>\n",
       "      <td>0</td>\n",
       "      <td>0</td>\n",
       "      <td>0</td>\n",
       "      <td>0</td>\n",
       "      <td>...</td>\n",
       "      <td>0</td>\n",
       "      <td>0</td>\n",
       "      <td>0</td>\n",
       "      <td>0</td>\n",
       "      <td>0</td>\n",
       "      <td>0</td>\n",
       "      <td>0</td>\n",
       "      <td>0</td>\n",
       "      <td>0</td>\n",
       "      <td>1.0</td>\n",
       "    </tr>\n",
       "    <tr>\n",
       "      <th>6</th>\n",
       "      <td>0</td>\n",
       "      <td>3.29</td>\n",
       "      <td>25.27</td>\n",
       "      <td>1.34</td>\n",
       "      <td>10</td>\n",
       "      <td>0</td>\n",
       "      <td>0</td>\n",
       "      <td>0</td>\n",
       "      <td>0</td>\n",
       "      <td>0</td>\n",
       "      <td>...</td>\n",
       "      <td>0</td>\n",
       "      <td>0</td>\n",
       "      <td>1</td>\n",
       "      <td>0</td>\n",
       "      <td>0</td>\n",
       "      <td>0</td>\n",
       "      <td>0</td>\n",
       "      <td>0</td>\n",
       "      <td>0</td>\n",
       "      <td>-4.0</td>\n",
       "    </tr>\n",
       "    <tr>\n",
       "      <th>7</th>\n",
       "      <td>0</td>\n",
       "      <td>2.02</td>\n",
       "      <td>21.48</td>\n",
       "      <td>1.82</td>\n",
       "      <td>10</td>\n",
       "      <td>0</td>\n",
       "      <td>0</td>\n",
       "      <td>0</td>\n",
       "      <td>0</td>\n",
       "      <td>0</td>\n",
       "      <td>...</td>\n",
       "      <td>0</td>\n",
       "      <td>0</td>\n",
       "      <td>0</td>\n",
       "      <td>0</td>\n",
       "      <td>0</td>\n",
       "      <td>0</td>\n",
       "      <td>0</td>\n",
       "      <td>0</td>\n",
       "      <td>0</td>\n",
       "      <td>2.0</td>\n",
       "    </tr>\n",
       "  </tbody>\n",
       "</table>\n",
       "<p>7 rows × 42 columns</p>\n",
       "</div>"
      ],
      "text/plain": [
       "   playoff home_odds draw_odds away_odds num_bookies  home_Blues  \\\n",
       "1        0      1.08     38.19      7.65          11           0   \n",
       "2        0      7.92      40.2      1.07          10           0   \n",
       "3        0      1.36     23.63      3.21          10           0   \n",
       "4        0      3.29     23.97      1.34          10           0   \n",
       "5        0      2.14     21.71      1.74          10           0   \n",
       "6        0      3.29     25.27      1.34          10           0   \n",
       "7        0      2.02     21.48      1.82          10           0   \n",
       "\n",
       "   home_Brumbies  home_Bulls  home_Cheetahs  home_Chiefs     ...       \\\n",
       "1              0           0              0            0     ...        \n",
       "2              0           0              0            0     ...        \n",
       "3              0           0              0            0     ...        \n",
       "4              1           0              0            0     ...        \n",
       "5              0           0              0            0     ...        \n",
       "6              0           0              0            0     ...        \n",
       "7              0           0              0            0     ...        \n",
       "\n",
       "   away_Jaguares  away_Kings  away_Lions  away_Rebels  away_Reds  away_Sharks  \\\n",
       "1              0           0           0            0          1            0   \n",
       "2              0           0           0            0          0            0   \n",
       "3              0           0           0            0          0            0   \n",
       "4              0           0           0            0          0            0   \n",
       "5              0           0           0            0          0            0   \n",
       "6              0           0           1            0          0            0   \n",
       "7              0           0           0            0          0            0   \n",
       "\n",
       "   away_Stormers  away_Sunwolves  away_Waratahs  predictions  \n",
       "1              0               0              0         22.0  \n",
       "2              0               0              1        -16.0  \n",
       "3              0               0              0          8.0  \n",
       "4              0               0              0         -6.0  \n",
       "5              0               0              0          1.0  \n",
       "6              0               0              0         -4.0  \n",
       "7              0               0              0          2.0  \n",
       "\n",
       "[7 rows x 42 columns]"
      ]
     },
     "execution_count": 311,
     "metadata": {
      "tags": []
     },
     "output_type": "execute_result"
    }
   ],
   "source": [
    "result"
   ]
  },
  {
   "cell_type": "code",
   "execution_count": null,
   "metadata": {
    "colab": {},
    "colab_type": "code",
    "id": "TKx3Fe2t9Luk"
   },
   "outputs": [],
   "source": [
    "result.to_csv(\"week_2_preds.csv\")"
   ]
  }
 ],
 "metadata": {
  "colab": {
   "collapsed_sections": [],
   "name": "Super Rugby Predictor",
   "provenance": [],
   "toc_visible": true,
   "version": "0.3.2"
  },
  "kernelspec": {
   "display_name": "Python 3",
   "language": "python",
   "name": "python3"
  },
  "language_info": {
   "codemirror_mode": {
    "name": "ipython",
    "version": 3
   },
   "file_extension": ".py",
   "mimetype": "text/x-python",
   "name": "python",
   "nbconvert_exporter": "python",
   "pygments_lexer": "ipython3",
   "version": "3.6.8"
  }
 },
 "nbformat": 4,
 "nbformat_minor": 2
}
