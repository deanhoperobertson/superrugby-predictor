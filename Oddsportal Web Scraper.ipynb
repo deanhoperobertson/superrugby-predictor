{
 "cells": [
  {
   "cell_type": "code",
   "execution_count": 1,
   "metadata": {
    "colab": {},
    "colab_type": "code",
    "id": "qk38OrdhUGvj"
   },
   "outputs": [],
   "source": [
    "import pandas as pd\n",
    "import numpy as np\n",
    "import matplotlib.pyplot as plt\n",
    "import seaborn as sns\n",
    "\n",
    "from selenium import webdriver\n",
    "from selenium.webdriver.firefox.options import Options\n",
    "import json\n",
    "import requests\n",
    "import objectpath\n",
    "\n",
    "from urllib.request import urlopen\n",
    "from bs4 import BeautifulSoup\n",
    "import time\n",
    "from datetime import datetime, timedelta, date"
   ]
  },
  {
   "cell_type": "markdown",
   "metadata": {
    "colab_type": "text",
    "id": "1KxeWgonel-g"
   },
   "source": [
    "## Beautiful Soup\n",
    "### Get Match & Team Details (Upcoming Only)"
   ]
  },
  {
   "cell_type": "code",
   "execution_count": 2,
   "metadata": {
    "colab": {},
    "colab_type": "code",
    "id": "YpZqaHD8WR-5"
   },
   "outputs": [],
   "source": [
    "url = \"https://www.oddsportal.com/rugby-union/world/super-rugby/\"\n",
    "html = urlopen(url, timeout = 5)"
   ]
  },
  {
   "cell_type": "code",
   "execution_count": 3,
   "metadata": {
    "colab": {},
    "colab_type": "code",
    "id": "9fp7x7x-YHrR"
   },
   "outputs": [],
   "source": [
    "soup = BeautifulSoup(html, 'lxml')"
   ]
  },
  {
   "cell_type": "code",
   "execution_count": 4,
   "metadata": {
    "colab": {
     "base_uri": "https://localhost:8080/",
     "height": 160
    },
    "colab_type": "code",
    "executionInfo": {
     "elapsed": 1701,
     "status": "ok",
     "timestamp": 1550828578888,
     "user": {
      "displayName": "Kieran Donnelly",
      "photoUrl": "https://lh5.googleusercontent.com/-qOCnWQmSPhU/AAAAAAAAAAI/AAAAAAAA3YM/gLNo024IFgk/s64/photo.jpg",
      "userId": "08966570757713512847"
     },
     "user_tz": -120
    },
    "id": "f22ZBweMelVg",
    "outputId": "e0706056-ddea-4ada-d2df-bd5e8154040e"
   },
   "outputs": [
    {
     "data": {
      "text/plain": [
       "[<tr class=\"odd\" xeid=\"6JWQy8Gd\"><td class=\"table-time datet t1557473700-1-1-0-0\"></td><td class=\"name table-participant\" colspan=\"2\"><a href=\"/rugby-union/world/super-rugby/blues-hurricanes-6JWQy8Gd/\">Blues - Hurricanes</a></td><td class=\"odds-nowrp\"><span>-</span></td><td class=\"odds-nowrp\"><span>-</span></td><td class=\"odds-nowrp\"><span>-</span></td><td class=\"center info-value\"></td></tr>,\n",
       " <tr xeid=\"Aic7p0Kd\"><td class=\"table-time datet t1557481500-1-1-0-0\"></td><td class=\"name table-participant\" colspan=\"2\"><a href=\"/rugby-union/world/super-rugby/rebels-queensland-reds-Aic7p0Kd/\">Rebels - Reds</a></td><td class=\"odds-nowrp\"><span>-</span></td><td class=\"odds-nowrp\"><span>-</span></td><td class=\"odds-nowrp\"><span>-</span></td><td class=\"center info-value\"></td></tr>,\n",
       " <tr class=\"odd\" xeid=\"Of1BqKZ2\"><td class=\"table-time datet t1557508200-1-1-0-0\"></td><td class=\"name table-participant\" colspan=\"2\"><a href=\"/rugby-union/world/super-rugby/blue-bulls-crusaders-Of1BqKZ2/\">Bulls - Crusaders</a></td><td class=\"odds-nowrp\"><span>-</span></td><td class=\"odds-nowrp\"><span>-</span></td><td class=\"odds-nowrp\"><span>-</span></td><td class=\"center info-value\"></td></tr>,\n",
       " <tr class=\"odd\" xeid=\"IH0Frvk9\"><td class=\"table-time datet t1557551700-1-1-0-0\"></td><td class=\"name table-participant\" colspan=\"2\"><a href=\"/rugby-union/world/super-rugby/highlanders-jaguares-IH0Frvk9/\">Highlanders - Jaguares</a></td><td class=\"odds-nowrp\"><span>-</span></td><td class=\"odds-nowrp\"><span>-</span></td><td class=\"odds-nowrp\"><span>-</span></td><td class=\"center info-value\"></td></tr>,\n",
       " <tr xeid=\"d8aJsb4F\"><td class=\"table-time datet t1557560100-1-1-0-0\"></td><td class=\"name table-participant\" colspan=\"2\"><a href=\"/rugby-union/world/super-rugby/waikato-chiefs-sharks-d8aJsb4F/\">Chiefs - Sharks</a></td><td class=\"odds-nowrp\"><span>-</span></td><td class=\"odds-nowrp\"><span>-</span></td><td class=\"odds-nowrp\"><span>-</span></td><td class=\"center info-value\"></td></tr>,\n",
       " <tr class=\"odd\" xeid=\"EqfOtIJL\"><td class=\"table-time datet t1557579900-1-1-0-0\"></td><td class=\"name table-participant\" colspan=\"2\"><a href=\"/rugby-union/world/super-rugby/golden-lions-waratahs-EqfOtIJL/\">Lions - Waratahs</a></td><td class=\"odds-nowrp\"><span>-</span></td><td class=\"odds-nowrp\"><span>-</span></td><td class=\"odds-nowrp\"><span>-</span></td><td class=\"center info-value\"></td></tr>,\n",
       " <tr class=\"odd\" xeid=\"hzgSuxZR\"><td class=\"table-time datet t1557641100-1-1-0-0\"></td><td class=\"name table-participant\" colspan=\"2\"><a href=\"/rugby-union/world/super-rugby/act-brumbies-sunwolves-hzgSuxZR/\">Brumbies - Sunwolves</a></td><td class=\"odds-nowrp\"><span>-</span></td><td class=\"odds-nowrp\"><span>-</span></td><td class=\"odds-nowrp\"><span>-</span></td><td class=\"center info-value\"></td></tr>]"
      ]
     },
     "execution_count": 4,
     "metadata": {},
     "output_type": "execute_result"
    }
   ],
   "source": [
    "soup.find_all('tr',{'xeid':True})"
   ]
  },
  {
   "cell_type": "code",
   "execution_count": 6,
   "metadata": {
    "colab": {
     "base_uri": "https://localhost:8080/",
     "height": 34
    },
    "colab_type": "code",
    "executionInfo": {
     "elapsed": 1107,
     "status": "ok",
     "timestamp": 1550828596430,
     "user": {
      "displayName": "Kieran Donnelly",
      "photoUrl": "https://lh5.googleusercontent.com/-qOCnWQmSPhU/AAAAAAAAAAI/AAAAAAAA3YM/gLNo024IFgk/s64/photo.jpg",
      "userId": "08966570757713512847"
     },
     "user_tz": -120
    },
    "id": "RXTmyy5UiTnm",
    "outputId": "23fc6b27-a957-425e-fc45-00152970e69c"
   },
   "outputs": [
    {
     "data": {
      "text/plain": [
       "[<td class=\"name table-participant\" colspan=\"2\"><a href=\"/rugby-union/world/super-rugby/blues-hurricanes-6JWQy8Gd/\">Blues - Hurricanes</a></td>,\n",
       " <td class=\"name table-participant\" colspan=\"2\"><a href=\"/rugby-union/world/super-rugby/rebels-queensland-reds-Aic7p0Kd/\">Rebels - Reds</a></td>,\n",
       " <td class=\"name table-participant\" colspan=\"2\"><a href=\"/rugby-union/world/super-rugby/blue-bulls-crusaders-Of1BqKZ2/\">Bulls - Crusaders</a></td>,\n",
       " <td class=\"name table-participant\" colspan=\"2\"><a href=\"/rugby-union/world/super-rugby/highlanders-jaguares-IH0Frvk9/\">Highlanders - Jaguares</a></td>,\n",
       " <td class=\"name table-participant\" colspan=\"2\"><a href=\"/rugby-union/world/super-rugby/waikato-chiefs-sharks-d8aJsb4F/\">Chiefs - Sharks</a></td>,\n",
       " <td class=\"name table-participant\" colspan=\"2\"><a href=\"/rugby-union/world/super-rugby/golden-lions-waratahs-EqfOtIJL/\">Lions - Waratahs</a></td>,\n",
       " <td class=\"name table-participant\" colspan=\"2\"><a href=\"/rugby-union/world/super-rugby/act-brumbies-sunwolves-hzgSuxZR/\">Brumbies - Sunwolves</a></td>]"
      ]
     },
     "execution_count": 6,
     "metadata": {},
     "output_type": "execute_result"
    }
   ],
   "source": [
    "games = soup.find_all(attrs={'class':'name table-participant'})\n",
    "games"
   ]
  },
  {
   "cell_type": "code",
   "execution_count": 7,
   "metadata": {},
   "outputs": [],
   "source": [
    "home_team = []\n",
    "away_team = []"
   ]
  },
  {
   "cell_type": "code",
   "execution_count": 8,
   "metadata": {},
   "outputs": [],
   "source": [
    "for game in games:\n",
    "    teams = str(game).split('>')[2].split('<')[0].split(' - ')\n",
    "    home_team.append(teams[0])\n",
    "    away_team.append(teams[1])"
   ]
  },
  {
   "cell_type": "markdown",
   "metadata": {},
   "source": [
    "### Get dates of games"
   ]
  },
  {
   "cell_type": "code",
   "execution_count": null,
   "metadata": {},
   "outputs": [],
   "source": [
    "# this is too hard, resorting to giving all upcoming games the date of the nearest friday"
   ]
  },
  {
   "cell_type": "code",
   "execution_count": 9,
   "metadata": {},
   "outputs": [],
   "source": [
    "onDay = lambda date, day: date + timedelta(days=(day-date.weekday()+7)%7)"
   ]
  },
  {
   "cell_type": "code",
   "execution_count": 10,
   "metadata": {},
   "outputs": [
    {
     "data": {
      "text/plain": [
       "'10-May-19'"
      ]
     },
     "execution_count": 10,
     "metadata": {},
     "output_type": "execute_result"
    }
   ],
   "source": [
    "gameday = onDay(datetime.today(), 4).strftime('%d-%B-%y')\n",
    "gameday"
   ]
  },
  {
   "cell_type": "markdown",
   "metadata": {},
   "source": [
    "## Use REST Service for Odds"
   ]
  },
  {
   "cell_type": "code",
   "execution_count": 11,
   "metadata": {},
   "outputs": [],
   "source": [
    "s = requests.session()\n",
    "request_headers = {\n",
    "    'Referer': 'https://www.oddsportal.com/rugby-union/world/super-rugby/',\n",
    "    'User-Agent': 'Mozilla/5.0 (Macintosh; Intel Mac OS X 10_14_4) AppleWebKit/537.36 (KHTML, like Gecko) Chrome/73.0.3683.103 Safari/537.36'\n",
    "}"
   ]
  },
  {
   "cell_type": "code",
   "execution_count": 12,
   "metadata": {},
   "outputs": [],
   "source": [
    "get_odds = s.get('https://fb.oddsportal.com/ajax-sport-country-tournament/8/z36c0gcb/X0/1',\n",
    "                  headers = request_headers)"
   ]
  },
  {
   "cell_type": "code",
   "execution_count": 13,
   "metadata": {},
   "outputs": [],
   "source": [
    "text_odds = get_odds.text[72:-2]"
   ]
  },
  {
   "cell_type": "code",
   "execution_count": 14,
   "metadata": {},
   "outputs": [],
   "source": [
    "json_odds = json.loads(text_odds)"
   ]
  },
  {
   "cell_type": "code",
   "execution_count": 15,
   "metadata": {},
   "outputs": [],
   "source": [
    "json_tree = objectpath.Tree(json_odds['d'])"
   ]
  },
  {
   "cell_type": "code",
   "execution_count": 16,
   "metadata": {},
   "outputs": [],
   "source": [
    "odds = tuple(json_tree.execute('$..avg'))\n",
    "# odds all appear twice for some reason, so we take just half of them\n",
    "odds = odds[:np.int(len(odds)/2)]"
   ]
  },
  {
   "cell_type": "code",
   "execution_count": 17,
   "metadata": {},
   "outputs": [],
   "source": [
    "num_games = int(len(odds)/3)"
   ]
  },
  {
   "cell_type": "code",
   "execution_count": 18,
   "metadata": {},
   "outputs": [
    {
     "data": {
      "text/plain": [
       "7"
      ]
     },
     "execution_count": 18,
     "metadata": {},
     "output_type": "execute_result"
    }
   ],
   "source": [
    "num_games"
   ]
  },
  {
   "cell_type": "code",
   "execution_count": 19,
   "metadata": {},
   "outputs": [],
   "source": [
    "one_list = []\n",
    "x_list = []\n",
    "two_list = []"
   ]
  },
  {
   "cell_type": "code",
   "execution_count": 20,
   "metadata": {},
   "outputs": [],
   "source": [
    "# take every 3 rows and put them into 1 row\n",
    "for i in range(len(odds)):\n",
    "    if i%3==0:\n",
    "        one_list.append(odds[i])\n",
    "    if i%3==1:\n",
    "        x_list.append(odds[i])\n",
    "    if i%3==2:\n",
    "        two_list.append(odds[i])"
   ]
  },
  {
   "cell_type": "code",
   "execution_count": 21,
   "metadata": {},
   "outputs": [
    {
     "data": {
      "text/plain": [
       "[1.43, 3.91, 1.27, 5.25, 2.46, 3.22, 5.28]"
      ]
     },
     "execution_count": 21,
     "metadata": {},
     "output_type": "execute_result"
    }
   ],
   "source": [
    "two_list[:num_games]"
   ]
  },
  {
   "cell_type": "code",
   "execution_count": 34,
   "metadata": {},
   "outputs": [],
   "source": [
    "# concatenate info into dataframe\n",
    "df = pd.DataFrame({'Date':[gameday]*num_games,\n",
    "                   'Home Team':home_team,\n",
    "                   'Away Team':away_team,\n",
    "                   'Home Score':0,\n",
    "                   'Away Score':0,\n",
    "                   'Home Odds':one_list[:num_games],\n",
    "                   'Draw Odds':x_list[:num_games],\n",
    "                   'Away Odds':two_list[:num_games]})"
   ]
  },
  {
   "cell_type": "code",
   "execution_count": 35,
   "metadata": {},
   "outputs": [
    {
     "data": {
      "text/html": [
       "<div>\n",
       "<style scoped>\n",
       "    .dataframe tbody tr th:only-of-type {\n",
       "        vertical-align: middle;\n",
       "    }\n",
       "\n",
       "    .dataframe tbody tr th {\n",
       "        vertical-align: top;\n",
       "    }\n",
       "\n",
       "    .dataframe thead th {\n",
       "        text-align: right;\n",
       "    }\n",
       "</style>\n",
       "<table border=\"1\" class=\"dataframe\">\n",
       "  <thead>\n",
       "    <tr style=\"text-align: right;\">\n",
       "      <th></th>\n",
       "      <th>Date</th>\n",
       "      <th>Home Team</th>\n",
       "      <th>Away Team</th>\n",
       "      <th>Home Score</th>\n",
       "      <th>Away Score</th>\n",
       "      <th>Home Odds</th>\n",
       "      <th>Draw Odds</th>\n",
       "      <th>Away Odds</th>\n",
       "    </tr>\n",
       "  </thead>\n",
       "  <tbody>\n",
       "    <tr>\n",
       "      <th>0</th>\n",
       "      <td>10-May-19</td>\n",
       "      <td>Blues</td>\n",
       "      <td>Hurricanes</td>\n",
       "      <td>0</td>\n",
       "      <td>0</td>\n",
       "      <td>2.87</td>\n",
       "      <td>22.18</td>\n",
       "      <td>1.43</td>\n",
       "    </tr>\n",
       "    <tr>\n",
       "      <th>1</th>\n",
       "      <td>10-May-19</td>\n",
       "      <td>Rebels</td>\n",
       "      <td>Reds</td>\n",
       "      <td>0</td>\n",
       "      <td>0</td>\n",
       "      <td>1.26</td>\n",
       "      <td>23.76</td>\n",
       "      <td>3.91</td>\n",
       "    </tr>\n",
       "    <tr>\n",
       "      <th>2</th>\n",
       "      <td>10-May-19</td>\n",
       "      <td>Bulls</td>\n",
       "      <td>Crusaders</td>\n",
       "      <td>0</td>\n",
       "      <td>0</td>\n",
       "      <td>3.81</td>\n",
       "      <td>24.48</td>\n",
       "      <td>1.27</td>\n",
       "    </tr>\n",
       "    <tr>\n",
       "      <th>3</th>\n",
       "      <td>10-May-19</td>\n",
       "      <td>Highlanders</td>\n",
       "      <td>Jaguares</td>\n",
       "      <td>0</td>\n",
       "      <td>0</td>\n",
       "      <td>1.16</td>\n",
       "      <td>30.18</td>\n",
       "      <td>5.25</td>\n",
       "    </tr>\n",
       "    <tr>\n",
       "      <th>4</th>\n",
       "      <td>10-May-19</td>\n",
       "      <td>Chiefs</td>\n",
       "      <td>Sharks</td>\n",
       "      <td>0</td>\n",
       "      <td>0</td>\n",
       "      <td>1.56</td>\n",
       "      <td>21.62</td>\n",
       "      <td>2.46</td>\n",
       "    </tr>\n",
       "    <tr>\n",
       "      <th>5</th>\n",
       "      <td>10-May-19</td>\n",
       "      <td>Lions</td>\n",
       "      <td>Waratahs</td>\n",
       "      <td>0</td>\n",
       "      <td>0</td>\n",
       "      <td>1.35</td>\n",
       "      <td>22.92</td>\n",
       "      <td>3.22</td>\n",
       "    </tr>\n",
       "    <tr>\n",
       "      <th>6</th>\n",
       "      <td>10-May-19</td>\n",
       "      <td>Brumbies</td>\n",
       "      <td>Sunwolves</td>\n",
       "      <td>0</td>\n",
       "      <td>0</td>\n",
       "      <td>1.15</td>\n",
       "      <td>30.38</td>\n",
       "      <td>5.28</td>\n",
       "    </tr>\n",
       "  </tbody>\n",
       "</table>\n",
       "</div>"
      ],
      "text/plain": [
       "        Date    Home Team   Away Team  Home Score  Away Score  Home Odds  \\\n",
       "0  10-May-19        Blues  Hurricanes           0           0       2.87   \n",
       "1  10-May-19       Rebels        Reds           0           0       1.26   \n",
       "2  10-May-19        Bulls   Crusaders           0           0       3.81   \n",
       "3  10-May-19  Highlanders    Jaguares           0           0       1.16   \n",
       "4  10-May-19       Chiefs      Sharks           0           0       1.56   \n",
       "5  10-May-19        Lions    Waratahs           0           0       1.35   \n",
       "6  10-May-19     Brumbies   Sunwolves           0           0       1.15   \n",
       "\n",
       "   Draw Odds  Away Odds  \n",
       "0      22.18       1.43  \n",
       "1      23.76       3.91  \n",
       "2      24.48       1.27  \n",
       "3      30.18       5.25  \n",
       "4      21.62       2.46  \n",
       "5      22.92       3.22  \n",
       "6      30.38       5.28  "
      ]
     },
     "execution_count": 35,
     "metadata": {},
     "output_type": "execute_result"
    }
   ],
   "source": [
    "df.head(num_games)"
   ]
  },
  {
   "cell_type": "code",
   "execution_count": 32,
   "metadata": {},
   "outputs": [],
   "source": [
    "dataset = pd.read_csv('https://raw.githubusercontent.com/kieranbd/superrugby-predictor/web-scraper/super_rugby_oddsportal.csv').drop('Play-off Game?', axis=1).dropna()"
   ]
  },
  {
   "cell_type": "code",
   "execution_count": 33,
   "metadata": {},
   "outputs": [
    {
     "data": {
      "text/html": [
       "<div>\n",
       "<style scoped>\n",
       "    .dataframe tbody tr th:only-of-type {\n",
       "        vertical-align: middle;\n",
       "    }\n",
       "\n",
       "    .dataframe tbody tr th {\n",
       "        vertical-align: top;\n",
       "    }\n",
       "\n",
       "    .dataframe thead th {\n",
       "        text-align: right;\n",
       "    }\n",
       "</style>\n",
       "<table border=\"1\" class=\"dataframe\">\n",
       "  <thead>\n",
       "    <tr style=\"text-align: right;\">\n",
       "      <th></th>\n",
       "      <th>Date</th>\n",
       "      <th>Home Team</th>\n",
       "      <th>Away Team</th>\n",
       "      <th>Home Score</th>\n",
       "      <th>Away Score</th>\n",
       "      <th>Home Odds</th>\n",
       "      <th>Draw Odds</th>\n",
       "      <th>Away Odds</th>\n",
       "    </tr>\n",
       "  </thead>\n",
       "  <tbody>\n",
       "    <tr>\n",
       "      <th>0</th>\n",
       "      <td>3-May-19</td>\n",
       "      <td>Crusaders</td>\n",
       "      <td>Sharks</td>\n",
       "      <td>0.0</td>\n",
       "      <td>0.0</td>\n",
       "      <td>1.05</td>\n",
       "      <td>40.40</td>\n",
       "      <td>9.20</td>\n",
       "    </tr>\n",
       "    <tr>\n",
       "      <th>1</th>\n",
       "      <td>3-May-19</td>\n",
       "      <td>Reds</td>\n",
       "      <td>Sunwolves</td>\n",
       "      <td>0.0</td>\n",
       "      <td>0.0</td>\n",
       "      <td>1.30</td>\n",
       "      <td>24.04</td>\n",
       "      <td>3.59</td>\n",
       "    </tr>\n",
       "    <tr>\n",
       "      <th>2</th>\n",
       "      <td>4-May-19</td>\n",
       "      <td>Hurricanes</td>\n",
       "      <td>Rebels</td>\n",
       "      <td>0.0</td>\n",
       "      <td>0.0</td>\n",
       "      <td>1.22</td>\n",
       "      <td>27.73</td>\n",
       "      <td>4.29</td>\n",
       "    </tr>\n",
       "    <tr>\n",
       "      <th>3</th>\n",
       "      <td>4-May-19</td>\n",
       "      <td>Highlanders</td>\n",
       "      <td>Chiefs</td>\n",
       "      <td>0.0</td>\n",
       "      <td>0.0</td>\n",
       "      <td>1.23</td>\n",
       "      <td>26.59</td>\n",
       "      <td>4.17</td>\n",
       "    </tr>\n",
       "    <tr>\n",
       "      <th>4</th>\n",
       "      <td>4-May-19</td>\n",
       "      <td>Brumbies</td>\n",
       "      <td>Blues</td>\n",
       "      <td>0.0</td>\n",
       "      <td>0.0</td>\n",
       "      <td>2.03</td>\n",
       "      <td>20.48</td>\n",
       "      <td>1.82</td>\n",
       "    </tr>\n",
       "  </tbody>\n",
       "</table>\n",
       "</div>"
      ],
      "text/plain": [
       "       Date    Home Team  Away Team  Home Score  Away Score  Home Odds  \\\n",
       "0  3-May-19    Crusaders     Sharks         0.0         0.0       1.05   \n",
       "1  3-May-19         Reds  Sunwolves         0.0         0.0       1.30   \n",
       "2  4-May-19   Hurricanes     Rebels         0.0         0.0       1.22   \n",
       "3  4-May-19  Highlanders     Chiefs         0.0         0.0       1.23   \n",
       "4  4-May-19     Brumbies      Blues         0.0         0.0       2.03   \n",
       "\n",
       "   Draw Odds  Away Odds  \n",
       "0      40.40       9.20  \n",
       "1      24.04       3.59  \n",
       "2      27.73       4.29  \n",
       "3      26.59       4.17  \n",
       "4      20.48       1.82  "
      ]
     },
     "execution_count": 33,
     "metadata": {},
     "output_type": "execute_result"
    }
   ],
   "source": [
    "dataset.head()"
   ]
  },
  {
   "cell_type": "markdown",
   "metadata": {},
   "source": [
    "### Get scores from previous week\n",
    "## TODO: find best site to get scores from, update scores in df and push to GH"
   ]
  },
  {
   "cell_type": "code",
   "execution_count": 41,
   "metadata": {},
   "outputs": [],
   "source": [
    "r = requests.session()\n",
    "request_headers = {\n",
    "    'Referer': 'https://www.oddsportal.com/rugby-union/world/super-rugby/results/',\n",
    "    'User-Agent': 'Mozilla/5.0 (Macintosh; Intel Mac OS X 10_14_4) AppleWebKit/537.36 (KHTML, like Gecko) Chrome/73.0.3683.103 Safari/537.36'\n",
    "}"
   ]
  },
  {
   "cell_type": "code",
   "execution_count": 42,
   "metadata": {},
   "outputs": [],
   "source": [
    "get_results = r.get('https://fb.oddsportal.com/ajax-sport-country-tournament-archive/8/z36c0gcb/X0/1/2/1/',\n",
    "                  headers = request_headers)"
   ]
  },
  {
   "cell_type": "code",
   "execution_count": 46,
   "metadata": {},
   "outputs": [],
   "source": [
    "url = \"https://www.supersport.com/rugby/super-rugby/results\"\n",
    "html2 = urlopen(url, timeout = 5)"
   ]
  },
  {
   "cell_type": "code",
   "execution_count": 47,
   "metadata": {},
   "outputs": [],
   "source": [
    "soup = BeautifulSoup(html2, 'lxml')"
   ]
  },
  {
   "cell_type": "code",
   "execution_count": 64,
   "metadata": {},
   "outputs": [
    {
     "data": {
      "text/plain": [
       "[<rugby-home-results class=\"page-spacing\" matches='[{\"id\":\"4702\",\"type\":\"fixture\",\"class_name\":\"Rugby\",\"status\":\"Result\",\"state\":null,\"tournament\":\"Super Rugby\",\"name\":\"Jaguares v Stormers\",\"description\":\"\",\"location\":\"Estadio Jose Amalfitani\",\"channels\":null,\"starts_at\":\"2019-05-04T19:40:00Z\",\"timestamp\":1556998800,\"has_videos\":false,\"has_live_videos\":false,\"live_scored\":true,\"half_time\":true,\"round_name\":null,\"cache_key\":\"rugbies\\/5c1cbbb498616506c400bb5f-20190508184744980000000\",\"home_team\":{\"name\":\"Jaguares\",\"short_name\":\"Jaguares\",\"full_name\":\"Jaguares\",\"abbr\":\"JAG\",\"image_url\":\"https:\\/\\/supersport.azureedge.net\\/logos\\/rugby\\/teams\\/jaguares.png\",\"score\":\"30\"},\"away_team\":{\"name\":\"Stormers\",\"short_name\":\"Stormers\",\"full_name\":\"DHL Stormers\",\"abbr\":\"STO\",\"image_url\":\"https:\\/\\/supersport.azureedge.net\\/logos\\/rugby\\/teams\\/stormers.png\",\"score\":\"25\"}},{\"id\":\"4701\",\"type\":\"fixture\",\"class_name\":\"Rugby\",\"status\":\"Result\",\"state\":null,\"tournament\":\"Super Rugby\",\"name\":\"Bulls v Waratahs\",\"description\":\"\",\"location\":\"Loftus Versfeld\",\"channels\":null,\"starts_at\":\"2019-05-04T13:05:00Z\",\"timestamp\":1556975100,\"has_videos\":false,\"has_live_videos\":false,\"live_scored\":true,\"half_time\":true,\"round_name\":null,\"cache_key\":\"rugbies\\/5c1cbbb398616506c400bb5b-20190508104746695000000\",\"home_team\":{\"name\":\"Bulls\",\"short_name\":\"Bulls\",\"full_name\":\"Vodacom Bulls\",\"abbr\":\"BUL\",\"image_url\":\"https:\\/\\/supersport.azureedge.net\\/logos\\/rugby\\/teams\\/bulls.png\",\"score\":\"28\"},\"away_team\":{\"name\":\"Waratahs\",\"short_name\":\"Waratahs\",\"full_name\":\"Waratahs\",\"abbr\":\"WAR\",\"image_url\":\"https:\\/\\/supersport.azureedge.net\\/logos\\/rugby\\/teams\\/waratahs.png\",\"score\":\"21\"}},{\"id\":\"4700\",\"type\":\"fixture\",\"class_name\":\"Rugby\",\"status\":\"Result\",\"state\":null,\"tournament\":\"Super Rugby\",\"name\":\"Brumbies v Blues\",\"description\":\"\",\"location\":\"GIO Stadium\",\"channels\":null,\"starts_at\":\"2019-05-04T09:45:00Z\",\"timestamp\":1556963100,\"has_videos\":false,\"has_live_videos\":false,\"live_scored\":true,\"half_time\":true,\"round_name\":null,\"cache_key\":\"rugbies\\/5c1cbbb298616506c400bb57-20190508064750630000000\",\"home_team\":{\"name\":\"Brumbies\",\"short_name\":\"Brumbies\",\"full_name\":\"Brumbies\",\"abbr\":\"BRU\",\"image_url\":\"https:\\/\\/supersport.azureedge.net\\/logos\\/rugby\\/teams\\/brumbies.png\",\"score\":\"26\"},\"away_team\":{\"name\":\"Blues\",\"short_name\":\"Blues\",\"full_name\":\"Blues\",\"abbr\":\"BLU\",\"image_url\":\"https:\\/\\/supersport.azureedge.net\\/logos\\/rugby\\/teams\\/blues.png\",\"score\":\"21\"}},{\"id\":\"4699\",\"type\":\"fixture\",\"class_name\":\"Rugby\",\"status\":\"Result\",\"state\":null,\"tournament\":\"Super Rugby\",\"name\":\"Highlanders v Chiefs\",\"description\":\"\",\"location\":\"Forsyth Barr Stadium\",\"channels\":null,\"starts_at\":\"2019-05-04T07:35:00Z\",\"timestamp\":1556955300,\"has_videos\":false,\"has_live_videos\":false,\"live_scored\":true,\"half_time\":true,\"round_name\":null,\"cache_key\":\"rugbies\\/5c1cbbb198616506c400bb54-20190508064749027000000\",\"home_team\":{\"name\":\"Highlanders\",\"short_name\":\"Highlanders\",\"full_name\":\"Highlanders\",\"abbr\":\"HIG\",\"image_url\":\"https:\\/\\/supersport.azureedge.net\\/logos\\/rugby\\/teams\\/highlanders.png\",\"score\":\"31\"},\"away_team\":{\"name\":\"Chiefs\",\"short_name\":\"Chiefs\",\"full_name\":\"Chiefs\",\"abbr\":\"KCFC\",\"image_url\":\"https:\\/\\/supersport.azureedge.net\\/logos\\/rugby\\/teams\\/chiefs.png\",\"score\":\"31\"}},{\"id\":\"4698\",\"type\":\"fixture\",\"class_name\":\"Rugby\",\"status\":\"Result\",\"state\":null,\"tournament\":\"Super Rugby\",\"name\":\"Hurricanes v Rebels\",\"description\":\"\",\"location\":\"Westpac Stadium\",\"channels\":null,\"starts_at\":\"2019-05-04T05:15:00Z\",\"timestamp\":1556946900,\"has_videos\":false,\"has_live_videos\":false,\"live_scored\":true,\"half_time\":true,\"round_name\":null,\"cache_key\":\"rugbies\\/5c1cbbb198616506c400bb51-20190508024745839000000\",\"home_team\":{\"name\":\"Hurricanes\",\"short_name\":\"Hurricanes\",\"full_name\":\"Hurricanes\",\"abbr\":\"HUR\",\"image_url\":\"https:\\/\\/supersport.azureedge.net\\/logos\\/rugby\\/teams\\/hurricanes.png\",\"score\":\"29\"},\"away_team\":{\"name\":\"Rebels\",\"short_name\":\"Rebels\",\"full_name\":\"Rebels\",\"abbr\":\"REB\",\"image_url\":\"https:\\/\\/supersport.azureedge.net\\/logos\\/rugby\\/teams\\/rebels.png\",\"score\":\"19\"}},{\"id\":\"4697\",\"type\":\"fixture\",\"class_name\":\"Rugby\",\"status\":\"Result\",\"state\":null,\"tournament\":\"Super Rugby\",\"name\":\"Reds v Sunwolves\",\"description\":\"\",\"location\":\"Suncorp Stadium\",\"channels\":null,\"starts_at\":\"2019-05-03T09:45:00Z\",\"timestamp\":1556876700,\"has_videos\":false,\"has_live_videos\":false,\"live_scored\":true,\"half_time\":true,\"round_name\":null,\"cache_key\":\"rugbies\\/5c1cbbb098616506c400bb4e-20190507064747105000000\",\"home_team\":{\"name\":\"Reds\",\"short_name\":\"Reds\",\"full_name\":\"Reds\",\"abbr\":\"RED\",\"image_url\":\"https:\\/\\/supersport.azureedge.net\\/logos\\/rugby\\/teams\\/reds.png\",\"score\":\"32\"},\"away_team\":{\"name\":\"Sunwolves\",\"short_name\":\"Sunwolves\",\"full_name\":\"Sunwolves\",\"abbr\":\"SUN\",\"image_url\":\"https:\\/\\/supersport.azureedge.net\\/logos\\/rugby\\/teams\\/sunwolves.png\",\"score\":\"26\"}},{\"id\":\"4696\",\"type\":\"fixture\",\"class_name\":\"Rugby\",\"status\":\"Result\",\"state\":null,\"tournament\":\"Super Rugby\",\"name\":\"Crusaders v Sharks\",\"description\":\"\",\"location\":\"AMI Stadium\",\"channels\":null,\"starts_at\":\"2019-05-03T07:35:00Z\",\"timestamp\":1556868900,\"has_videos\":false,\"has_live_videos\":false,\"live_scored\":true,\"half_time\":true,\"round_name\":null,\"cache_key\":\"rugbies\\/5c1cbbaf98616506c400bb4b-20190507064746337000000\",\"home_team\":{\"name\":\"Crusaders\",\"short_name\":\"Crusaders\",\"full_name\":\"Crusaders\",\"abbr\":\"CRU\",\"image_url\":\"https:\\/\\/supersport.azureedge.net\\/logos\\/rugby\\/teams\\/crusaders.png\",\"score\":\"21\"},\"away_team\":{\"name\":\"Sharks\",\"short_name\":\"Sharks\",\"full_name\":\"\",\"abbr\":\"\",\"image_url\":\"https:\\/\\/supersport.azureedge.net\\/logos\\/rugby\\/teams\\/sharks.png\",\"score\":\"21\"}},{\"id\":\"4695\",\"type\":\"fixture\",\"class_name\":\"Rugby\",\"status\":\"Result\",\"state\":null,\"tournament\":\"Super Rugby\",\"name\":\"Jaguares v Brumbies\",\"description\":\"\",\"location\":\"Estadio Jose Amalfitani\",\"channels\":null,\"starts_at\":\"2019-04-27T21:40:00Z\",\"timestamp\":1556401200,\"has_videos\":false,\"has_live_videos\":false,\"live_scored\":true,\"half_time\":true,\"round_name\":null,\"cache_key\":\"rugbies\\/5c1cbbaf98616506c400bb48-20190501201456702000000\",\"home_team\":{\"name\":\"Jaguares\",\"short_name\":\"Jaguares\",\"full_name\":\"Jaguares\",\"abbr\":\"JAG\",\"image_url\":\"https:\\/\\/supersport.azureedge.net\\/logos\\/rugby\\/teams\\/jaguares.png\",\"score\":\"20\"},\"away_team\":{\"name\":\"Brumbies\",\"short_name\":\"Brumbies\",\"full_name\":\"Brumbies\",\"abbr\":\"BRU\",\"image_url\":\"https:\\/\\/supersport.azureedge.net\\/logos\\/rugby\\/teams\\/brumbies.png\",\"score\":\"15\"}},{\"id\":\"4694\",\"type\":\"fixture\",\"class_name\":\"Rugby\",\"status\":\"Result\",\"state\":null,\"tournament\":\"Super Rugby\",\"name\":\"Stormers v Bulls\",\"description\":\"\",\"location\":\"DHL Newlands\",\"channels\":null,\"starts_at\":\"2019-04-27T13:05:00Z\",\"timestamp\":1556370300,\"has_videos\":false,\"has_live_videos\":false,\"live_scored\":true,\"half_time\":true,\"round_name\":null,\"cache_key\":\"rugbies\\/5c1cbbae98616506c400bb45-20190501121505123000000\",\"home_team\":{\"name\":\"Stormers\",\"short_name\":\"Stormers\",\"full_name\":\"DHL Stormers\",\"abbr\":\"STO\",\"image_url\":\"https:\\/\\/supersport.azureedge.net\\/logos\\/rugby\\/teams\\/stormers.png\",\"score\":\"24\"},\"away_team\":{\"name\":\"Bulls\",\"short_name\":\"Bulls\",\"full_name\":\"Vodacom Bulls\",\"abbr\":\"BUL\",\"image_url\":\"https:\\/\\/supersport.azureedge.net\\/logos\\/rugby\\/teams\\/bulls.png\",\"score\":\"23\"}},{\"id\":\"4693\",\"type\":\"fixture\",\"class_name\":\"Rugby\",\"status\":\"Result\",\"state\":null,\"tournament\":\"Super Rugby\",\"name\":\"Waratahs v Sharks\",\"description\":\"\",\"location\":\"Western Sydney Stadium\",\"channels\":null,\"starts_at\":\"2019-04-27T09:45:00Z\",\"timestamp\":1556358300,\"has_videos\":false,\"has_live_videos\":false,\"live_scored\":true,\"half_time\":true,\"round_name\":null,\"cache_key\":\"rugbies\\/5c1cbbae98616506c400bb42-20190501081503120000000\",\"home_team\":{\"name\":\"Waratahs\",\"short_name\":\"Waratahs\",\"full_name\":\"Waratahs\",\"abbr\":\"WAR\",\"image_url\":\"https:\\/\\/supersport.azureedge.net\\/logos\\/rugby\\/teams\\/waratahs.png\",\"score\":\"15\"},\"away_team\":{\"name\":\"Sharks\",\"short_name\":\"Sharks\",\"full_name\":\"\",\"abbr\":\"\",\"image_url\":\"https:\\/\\/supersport.azureedge.net\\/logos\\/rugby\\/teams\\/sharks.png\",\"score\":\"23\"}},{\"id\":\"4692\",\"type\":\"fixture\",\"class_name\":\"Rugby\",\"status\":\"Result\",\"state\":null,\"tournament\":\"Super Rugby\",\"name\":\"Hurricanes v Chiefs\",\"description\":\"\",\"location\":\"Westpac Stadium\",\"channels\":null,\"starts_at\":\"2019-04-27T07:35:00Z\",\"timestamp\":1556350500,\"has_videos\":false,\"has_live_videos\":false,\"live_scored\":true,\"half_time\":true,\"round_name\":null,\"cache_key\":\"rugbies\\/5c1cbbad98616506c400bb3f-20190501041457479000000\",\"home_team\":{\"name\":\"Hurricanes\",\"short_name\":\"Hurricanes\",\"full_name\":\"Hurricanes\",\"abbr\":\"HUR\",\"image_url\":\"https:\\/\\/supersport.azureedge.net\\/logos\\/rugby\\/teams\\/hurricanes.png\",\"score\":\"47\"},\"away_team\":{\"name\":\"Chiefs\",\"short_name\":\"Chiefs\",\"full_name\":\"Chiefs\",\"abbr\":\"KCFC\",\"image_url\":\"https:\\/\\/supersport.azureedge.net\\/logos\\/rugby\\/teams\\/chiefs.png\",\"score\":\"19\"}},{\"id\":\"4691\",\"type\":\"fixture\",\"class_name\":\"Rugby\",\"status\":\"Result\",\"state\":null,\"tournament\":\"Super Rugby\",\"name\":\"Sunwolves v Highlanders\",\"description\":\"\",\"location\":\"Chichibunomiya Rugby Stadium\",\"channels\":null,\"starts_at\":\"2019-04-26T10:00:00Z\",\"timestamp\":1556272800,\"has_videos\":false,\"has_live_videos\":false,\"live_scored\":true,\"half_time\":true,\"round_name\":null,\"cache_key\":\"rugbies\\/5c1cbbad98616506c400bb3c-20190430081507825000000\",\"home_team\":{\"name\":\"Sunwolves\",\"short_name\":\"Sunwolves\",\"full_name\":\"Sunwolves\",\"abbr\":\"SUN\",\"image_url\":\"https:\\/\\/supersport.azureedge.net\\/logos\\/rugby\\/teams\\/sunwolves.png\",\"score\":\"0\"},\"away_team\":{\"name\":\"Highlanders\",\"short_name\":\"Highlanders\",\"full_name\":\"Highlanders\",\"abbr\":\"HIG\",\"image_url\":\"https:\\/\\/supersport.azureedge.net\\/logos\\/rugby\\/teams\\/highlanders.png\",\"score\":\"52\"}},{\"id\":\"4690\",\"type\":\"fixture\",\"class_name\":\"Rugby\",\"status\":\"Result\",\"state\":null,\"tournament\":\"Super Rugby\",\"name\":\"Crusaders v Lions\",\"description\":\"\",\"location\":\"AMI Stadium\",\"channels\":null,\"starts_at\":\"2019-04-26T07:35:00Z\",\"timestamp\":1556264100,\"has_videos\":false,\"has_live_videos\":false,\"live_scored\":true,\"half_time\":true,\"round_name\":null,\"cache_key\":\"rugbies\\/5c1cbbac98616506c400bb39-20190430041459644000000\",\"home_team\":{\"name\":\"Crusaders\",\"short_name\":\"Crusaders\",\"full_name\":\"Crusaders\",\"abbr\":\"CRU\",\"image_url\":\"https:\\/\\/supersport.azureedge.net\\/logos\\/rugby\\/teams\\/crusaders.png\",\"score\":\"36\"},\"away_team\":{\"name\":\"Lions\",\"short_name\":\"Lions\",\"full_name\":\"\",\"abbr\":\"\",\"image_url\":\"https:\\/\\/supersport.azureedge.net\\/logos\\/rugby\\/teams\\/lions.png\",\"score\":\"10\"}},{\"id\":\"4689\",\"type\":\"fixture\",\"class_name\":\"Rugby\",\"status\":\"Result\",\"state\":null,\"tournament\":\"Super Rugby\",\"name\":\"Stormers v Brumbies\",\"description\":\"\",\"location\":\"DHL Newlands\",\"channels\":null,\"starts_at\":\"2019-04-20T13:05:00Z\",\"timestamp\":1555765500,\"has_videos\":false,\"has_live_videos\":false,\"live_scored\":true,\"half_time\":true,\"round_name\":null,\"cache_key\":\"rugbies\\/5c1cbbac98616506c400bb36-20190424115003986000000\",\"home_team\":{\"name\":\"Stormers\",\"short_name\":\"Stormers\",\"full_name\":\"DHL Stormers\",\"abbr\":\"STO\",\"image_url\":\"https:\\/\\/supersport.azureedge.net\\/logos\\/rugby\\/teams\\/stormers.png\",\"score\":\"17\"},\"away_team\":{\"name\":\"Brumbies\",\"short_name\":\"Brumbies\",\"full_name\":\"Brumbies\",\"abbr\":\"BRU\",\"image_url\":\"https:\\/\\/supersport.azureedge.net\\/logos\\/rugby\\/teams\\/brumbies.png\",\"score\":\"19\"}},{\"id\":\"4688\",\"type\":\"fixture\",\"class_name\":\"Rugby\",\"status\":\"Result\",\"state\":null,\"tournament\":\"Super Rugby\",\"name\":\"Waratahs v Rebels\",\"description\":\"\",\"location\":\"Sydney Cricket Ground\",\"channels\":null,\"starts_at\":\"2019-04-20T09:45:00Z\",\"timestamp\":1555753500,\"has_videos\":false,\"has_live_videos\":false,\"live_scored\":true,\"half_time\":true,\"round_name\":null,\"cache_key\":\"rugbies\\/5c1cbbab98616506c400bb30-20190424075003207000000\",\"home_team\":{\"name\":\"Waratahs\",\"short_name\":\"Waratahs\",\"full_name\":\"Waratahs\",\"abbr\":\"WAR\",\"image_url\":\"https:\\/\\/supersport.azureedge.net\\/logos\\/rugby\\/teams\\/waratahs.png\",\"score\":\"23\"},\"away_team\":{\"name\":\"Rebels\",\"short_name\":\"Rebels\",\"full_name\":\"Rebels\",\"abbr\":\"REB\",\"image_url\":\"https:\\/\\/supersport.azureedge.net\\/logos\\/rugby\\/teams\\/rebels.png\",\"score\":\"20\"}},{\"id\":\"4687\",\"type\":\"fixture\",\"class_name\":\"Rugby\",\"status\":\"Result\",\"state\":null,\"tournament\":\"Super Rugby\",\"name\":\"Highlanders v Blues\",\"description\":\"\",\"location\":\"Forsyth Barr Stadium\",\"channels\":null,\"starts_at\":\"2019-04-20T07:35:00Z\",\"timestamp\":1555745700,\"has_videos\":false,\"has_live_videos\":false,\"live_scored\":true,\"half_time\":true,\"round_name\":null,\"cache_key\":\"rugbies\\/5c1cbbaa98616506c400bb2d-20190424035002247000000\",\"home_team\":{\"name\":\"Highlanders\",\"short_name\":\"Highlanders\",\"full_name\":\"Highlanders\",\"abbr\":\"HIG\",\"image_url\":\"https:\\/\\/supersport.azureedge.net\\/logos\\/rugby\\/teams\\/highlanders.png\",\"score\":\"24\"},\"away_team\":{\"name\":\"Blues\",\"short_name\":\"Blues\",\"full_name\":\"Blues\",\"abbr\":\"BLU\",\"image_url\":\"https:\\/\\/supersport.azureedge.net\\/logos\\/rugby\\/teams\\/blues.png\",\"score\":\"12\"}},{\"id\":\"4685\",\"type\":\"fixture\",\"class_name\":\"Rugby\",\"status\":\"Result\",\"state\":null,\"tournament\":\"Super Rugby\",\"name\":\"Sharks v Reds\",\"description\":\"\",\"location\":\"Jonsson Kings Park Stadium\",\"channels\":null,\"starts_at\":\"2019-04-19T13:05:00Z\",\"timestamp\":1555679100,\"has_videos\":false,\"has_live_videos\":false,\"live_scored\":true,\"half_time\":true,\"round_name\":null,\"cache_key\":\"rugbies\\/5c1cbba998616506c400bb2a-20190423115002292000000\",\"home_team\":{\"name\":\"Sharks\",\"short_name\":\"Sharks\",\"full_name\":\"\",\"abbr\":\"\",\"image_url\":\"https:\\/\\/supersport.azureedge.net\\/logos\\/rugby\\/teams\\/sharks.png\",\"score\":\"14\"},\"away_team\":{\"name\":\"Reds\",\"short_name\":\"Reds\",\"full_name\":\"Reds\",\"abbr\":\"RED\",\"image_url\":\"https:\\/\\/supersport.azureedge.net\\/logos\\/rugby\\/teams\\/reds.png\",\"score\":\"21\"}},{\"id\":\"4686\",\"type\":\"fixture\",\"class_name\":\"Rugby\",\"status\":\"Result\",\"state\":null,\"tournament\":\"Super Rugby\",\"name\":\"Sunwolves v Hurricanes\",\"description\":\"\",\"location\":\"Chichibunomiya Rugby Stadium\",\"channels\":null,\"starts_at\":\"2019-04-19T10:00:00Z\",\"timestamp\":1555668000,\"has_videos\":false,\"has_live_videos\":false,\"live_scored\":true,\"half_time\":true,\"round_name\":null,\"cache_key\":\"rugbies\\/5c1cbbab98616506c400bb33-20190423075001681000000\",\"home_team\":{\"name\":\"Sunwolves\",\"short_name\":\"Sunwolves\",\"full_name\":\"Sunwolves\",\"abbr\":\"SUN\",\"image_url\":\"https:\\/\\/supersport.azureedge.net\\/logos\\/rugby\\/teams\\/sunwolves.png\",\"score\":\"23\"},\"away_team\":{\"name\":\"Hurricanes\",\"short_name\":\"Hurricanes\",\"full_name\":\"Hurricanes\",\"abbr\":\"HUR\",\"image_url\":\"https:\\/\\/supersport.azureedge.net\\/logos\\/rugby\\/teams\\/hurricanes.png\",\"score\":\"29\"}},{\"id\":\"4684\",\"type\":\"fixture\",\"class_name\":\"Rugby\",\"status\":\"Result\",\"state\":null,\"tournament\":\"Super Rugby\",\"name\":\"Chiefs v Lions\",\"description\":\"\",\"location\":\"FMG Stadium Waikato\",\"channels\":null,\"starts_at\":\"2019-04-19T07:35:00Z\",\"timestamp\":1555659300,\"has_videos\":false,\"has_live_videos\":false,\"live_scored\":true,\"half_time\":true,\"round_name\":null,\"cache_key\":\"rugbies\\/5c1cbba998616506c400bb27-20190423035002234000000\",\"home_team\":{\"name\":\"Chiefs\",\"short_name\":\"Chiefs\",\"full_name\":\"Chiefs\",\"abbr\":\"KCFC\",\"image_url\":\"https:\\/\\/supersport.azureedge.net\\/logos\\/rugby\\/teams\\/chiefs.png\",\"score\":\"17\"},\"away_team\":{\"name\":\"Lions\",\"short_name\":\"Lions\",\"full_name\":\"\",\"abbr\":\"\",\"image_url\":\"https:\\/\\/supersport.azureedge.net\\/logos\\/rugby\\/teams\\/lions.png\",\"score\":\"23\"}},{\"id\":\"4683\",\"type\":\"fixture\",\"class_name\":\"Rugby\",\"status\":\"Result\",\"state\":null,\"tournament\":\"Super Rugby\",\"name\":\"Bulls v Reds\",\"description\":\"\",\"location\":\"Loftus Versfeld\",\"channels\":null,\"starts_at\":\"2019-04-13T15:15:00Z\",\"timestamp\":1555168500,\"has_videos\":false,\"has_live_videos\":false,\"live_scored\":true,\"half_time\":true,\"round_name\":null,\"cache_key\":\"rugbies\\/5c1cbba898616506c400bb24-20190417115004333000000\",\"home_team\":{\"name\":\"Bulls\",\"short_name\":\"Bulls\",\"full_name\":\"Vodacom Bulls\",\"abbr\":\"BUL\",\"image_url\":\"https:\\/\\/supersport.azureedge.net\\/logos\\/rugby\\/teams\\/bulls.png\",\"score\":\"32\"},\"away_team\":{\"name\":\"Reds\",\"short_name\":\"Reds\",\"full_name\":\"Reds\",\"abbr\":\"RED\",\"image_url\":\"https:\\/\\/supersport.azureedge.net\\/logos\\/rugby\\/teams\\/reds.png\",\"score\":\"17\"}},{\"id\":\"4682\",\"type\":\"fixture\",\"class_name\":\"Rugby\",\"status\":\"Result\",\"state\":null,\"tournament\":\"Super Rugby\",\"name\":\"Sharks v Jaguares\",\"description\":\"\",\"location\":\"Jonsson Kings Park Stadium\",\"channels\":null,\"starts_at\":\"2019-04-13T13:05:00Z\",\"timestamp\":1555160700,\"has_videos\":false,\"has_live_videos\":false,\"live_scored\":true,\"half_time\":true,\"round_name\":null,\"cache_key\":\"rugbies\\/5c1cbba898616506c400bb21-20190417115004664000000\",\"home_team\":{\"name\":\"Sharks\",\"short_name\":\"Sharks\",\"full_name\":\"\",\"abbr\":\"\",\"image_url\":\"https:\\/\\/supersport.azureedge.net\\/logos\\/rugby\\/teams\\/sharks.png\",\"score\":\"17\"},\"away_team\":{\"name\":\"Jaguares\",\"short_name\":\"Jaguares\",\"full_name\":\"Jaguares\",\"abbr\":\"JAG\",\"image_url\":\"https:\\/\\/supersport.azureedge.net\\/logos\\/rugby\\/teams\\/jaguares.png\",\"score\":\"51\"}},{\"id\":\"4681\",\"type\":\"fixture\",\"class_name\":\"Rugby\",\"status\":\"Result\",\"state\":null,\"tournament\":\"Super Rugby\",\"name\":\"Brumbies v Lions\",\"description\":\"\",\"location\":\"GIO Stadium\",\"channels\":null,\"starts_at\":\"2019-04-13T09:45:00Z\",\"timestamp\":1555148700,\"has_videos\":false,\"has_live_videos\":false,\"live_scored\":true,\"half_time\":true,\"round_name\":null,\"cache_key\":\"rugbies\\/5c1cbba798616506c400bb1e-20190417075005584000000\",\"home_team\":{\"name\":\"Brumbies\",\"short_name\":\"Brumbies\",\"full_name\":\"Brumbies\",\"abbr\":\"BRU\",\"image_url\":\"https:\\/\\/supersport.azureedge.net\\/logos\\/rugby\\/teams\\/brumbies.png\",\"score\":\"31\"},\"away_team\":{\"name\":\"Lions\",\"short_name\":\"Lions\",\"full_name\":\"\",\"abbr\":\"\",\"image_url\":\"https:\\/\\/supersport.azureedge.net\\/logos\\/rugby\\/teams\\/lions.png\",\"score\":\"20\"}},{\"id\":\"4680\",\"type\":\"fixture\",\"class_name\":\"Rugby\",\"status\":\"Result\",\"state\":null,\"tournament\":\"Super Rugby\",\"name\":\"Chiefs v Blues\",\"description\":\"\",\"location\":\"FMG Stadium Waikato\",\"channels\":null,\"starts_at\":\"2019-04-13T07:35:00Z\",\"timestamp\":1555140900,\"has_videos\":false,\"has_live_videos\":false,\"live_scored\":true,\"half_time\":true,\"round_name\":null,\"cache_key\":\"rugbies\\/5c1cbba798616506c400bb1b-20190417035007010000000\",\"home_team\":{\"name\":\"Chiefs\",\"short_name\":\"Chiefs\",\"full_name\":\"Chiefs\",\"abbr\":\"CHI\",\"image_url\":\"https:\\/\\/supersport.azureedge.net\\/logos\\/rugby\\/teams\\/chiefs.png\",\"score\":\"33\"},\"away_team\":{\"name\":\"Blues\",\"short_name\":\"Blues\",\"full_name\":\"Blues\",\"abbr\":\"BLU\",\"image_url\":\"https:\\/\\/supersport.azureedge.net\\/logos\\/rugby\\/teams\\/blues.png\",\"score\":\"29\"}},{\"id\":\"4679\",\"type\":\"fixture\",\"class_name\":\"Rugby\",\"status\":\"Result\",\"state\":null,\"tournament\":\"Super Rugby\",\"name\":\"Rebels v Stormers\",\"description\":\"\",\"location\":\"AAMI Park\",\"channels\":null,\"starts_at\":\"2019-04-12T09:45:00Z\",\"timestamp\":1555062300,\"has_videos\":false,\"has_live_videos\":false,\"live_scored\":true,\"half_time\":true,\"round_name\":null,\"cache_key\":\"rugbies\\/5c1cbba698616506c400bb18-20190416075005837000000\",\"home_team\":{\"name\":\"Rebels\",\"short_name\":\"Rebels\",\"full_name\":\"Rebels\",\"abbr\":\"REB\",\"image_url\":\"https:\\/\\/supersport.azureedge.net\\/logos\\/rugby\\/teams\\/rebels.png\",\"score\":\"24\"},\"away_team\":{\"name\":\"Stormers\",\"short_name\":\"Stormers\",\"full_name\":\"DHL Stormers\",\"abbr\":\"STO\",\"image_url\":\"https:\\/\\/supersport.azureedge.net\\/logos\\/rugby\\/teams\\/stormers.png\",\"score\":\"41\"}},{\"id\":\"4678\",\"type\":\"fixture\",\"class_name\":\"Rugby\",\"status\":\"Result\",\"state\":null,\"tournament\":\"Super Rugby\",\"name\":\"Crusaders v Highlanders\",\"description\":\"\",\"location\":\"AMI Stadium\",\"channels\":null,\"starts_at\":\"2019-04-12T07:35:00Z\",\"timestamp\":1555054500,\"has_videos\":false,\"has_live_videos\":false,\"live_scored\":true,\"half_time\":true,\"round_name\":null,\"cache_key\":\"rugbies\\/5c1cbba698616506c400bb15-20190416035005026000000\",\"home_team\":{\"name\":\"Crusaders\",\"short_name\":\"Crusaders\",\"full_name\":\"Crusaders\",\"abbr\":\"CRU\",\"image_url\":\"https:\\/\\/supersport.azureedge.net\\/logos\\/rugby\\/teams\\/crusaders.png\",\"score\":\"43\"},\"away_team\":{\"name\":\"Highlanders\",\"short_name\":\"Highlanders\",\"full_name\":\"Highlanders\",\"abbr\":\"HIG\",\"image_url\":\"https:\\/\\/supersport.azureedge.net\\/logos\\/rugby\\/teams\\/highlanders.png\",\"score\":\"17\"}}]' pagination='{\"start_date\":\"2019-04-08\",\"end_date\":\"2019-05-09\",\"start_timestamp\":1554674400,\"end_timestamp\":1557421421,\"load_more\":true,\"load_more_date\":\"2019-04-08\",\"month_name\":\"April\"}' slug='\"super-rugby\"' tournaments='{\"slug\":\"rugby\",\"name\":\"Rugby\",\"menu\":[],\"topics\":[{\"group_name\":\"Regional\",\"topics\":[{\"name\":\"Super Rugby\",\"slug\":\"super-rugby\",\"parent_slug\":\"super-rugby\",\"uri\":null,\"hidden_tabs\":[]}]},{\"group_name\":\"South Africa\",\"topics\":[{\"name\":\"Springboks\",\"slug\":\"springboks\",\"parent_slug\":\"springboks\",\"uri\":null,\"hidden_tabs\":[\"logs\"]},{\"name\":\"Currie Cup\",\"slug\":\"currie-cup\",\"parent_slug\":\"currie-cup\",\"uri\":null,\"hidden_tabs\":[]},{\"name\":\"SuperSport Rugby Challenge\",\"slug\":\"supersport-challenge\",\"parent_slug\":\"supersport-challenge\",\"uri\":null,\"hidden_tabs\":[]},{\"name\":\"Varsity Cup\",\"slug\":\"varsity-cup\",\"parent_slug\":\"varsity-cup\",\"uri\":null,\"hidden_tabs\":[]}]},{\"group_name\":\"International\",\"topics\":[{\"name\":\"Sevens 2018\\/19\",\"slug\":\"sevens\",\"parent_slug\":\"sevens\",\"uri\":null,\"hidden_tabs\":[]},{\"name\":\"Rugby World Cup\",\"slug\":\"rugby-world-cup\",\"parent_slug\":\"rugby-world-cup\",\"uri\":null,\"hidden_tabs\":[]},{\"name\":\"Rugby Championship\",\"slug\":\"rugby-championship\",\"parent_slug\":\"rugby-championship\",\"uri\":null,\"hidden_tabs\":[]},{\"name\":\"International Rugby\",\"slug\":\"international-rugby\",\"parent_slug\":\"international-rugby\",\"uri\":null,\"hidden_tabs\":[\"logs\"]}]},{\"group_name\":\"Europe\",\"topics\":[{\"name\":\"Pro14\",\"slug\":\"pro14\",\"parent_slug\":\"pro14\",\"uri\":null,\"hidden_tabs\":[]},{\"name\":\"Gallagher Premiership\",\"slug\":\"england\",\"parent_slug\":\"england\",\"uri\":null,\"hidden_tabs\":[]},{\"name\":\"Top 14\",\"slug\":\"top14\",\"parent_slug\":\"top14\",\"uri\":null,\"hidden_tabs\":[]},{\"name\":\"European Champions Cup\",\"slug\":\"champions-cup\",\"parent_slug\":\"champions-cup\",\"uri\":null,\"hidden_tabs\":[]}]}],\"featured\":{\"topics\":[{\"name\":\"Super Rugby\",\"slug\":\"super-rugby\",\"parent_slug\":\"super-rugby\",\"uri\":null},{\"name\":\"Pro14\",\"slug\":\"pro14\",\"parent_slug\":\"pro14\",\"uri\":null},{\"name\":\"Springboks\",\"slug\":\"springboks\",\"parent_slug\":\"springboks\",\"uri\":null}]}}'>\n",
       " </rugby-home-results>]"
      ]
     },
     "execution_count": 64,
     "metadata": {},
     "output_type": "execute_result"
    }
   ],
   "source": [
    "soup.find_all('rugby-home-results')"
   ]
  },
  {
   "cell_type": "code",
   "execution_count": null,
   "metadata": {},
   "outputs": [],
   "source": []
  },
  {
   "cell_type": "markdown",
   "metadata": {},
   "source": [
    "### Output concatenated df to put on github"
   ]
  },
  {
   "cell_type": "code",
   "execution_count": 38,
   "metadata": {},
   "outputs": [],
   "source": [
    "updated_df = pd.concat([df,dataset], axis=0)"
   ]
  },
  {
   "cell_type": "code",
   "execution_count": 66,
   "metadata": {},
   "outputs": [],
   "source": [
    "updated_df.to_csv(\"super-rugby-oddsportal-new.csv\",index=False)"
   ]
  },
  {
   "cell_type": "code",
   "execution_count": null,
   "metadata": {},
   "outputs": [],
   "source": [
    "# push to GH"
   ]
  }
 ],
 "metadata": {
  "colab": {
   "collapsed_sections": [],
   "name": "Oddsportal Web Scraper",
   "provenance": [],
   "version": "0.3.2"
  },
  "kernelspec": {
   "display_name": "Python 3",
   "language": "python",
   "name": "python3"
  },
  "language_info": {
   "codemirror_mode": {
    "name": "ipython",
    "version": 3
   },
   "file_extension": ".py",
   "mimetype": "text/x-python",
   "name": "python",
   "nbconvert_exporter": "python",
   "pygments_lexer": "ipython3",
   "version": "3.6.8"
  }
 },
 "nbformat": 4,
 "nbformat_minor": 2
}
