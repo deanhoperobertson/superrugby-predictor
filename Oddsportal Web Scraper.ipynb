{
 "cells": [
  {
   "cell_type": "code",
   "execution_count": 78,
   "metadata": {
    "colab": {},
    "colab_type": "code",
    "id": "qk38OrdhUGvj"
   },
   "outputs": [],
   "source": [
    "import pandas as pd\n",
    "import numpy as np\n",
    "import matplotlib.pyplot as plt\n",
    "import seaborn as sns\n",
    "\n",
    "from urllib.request import urlopen\n",
    "from bs4 import BeautifulSoup\n",
    "import time"
   ]
  },
  {
   "cell_type": "markdown",
   "metadata": {
    "colab_type": "text",
    "id": "1KxeWgonel-g"
   },
   "source": [
    "## Use Beautiful Soup to Get Match & Team Details"
   ]
  },
  {
   "cell_type": "code",
   "execution_count": 112,
   "metadata": {
    "colab": {},
    "colab_type": "code",
    "id": "YpZqaHD8WR-5"
   },
   "outputs": [],
   "source": [
    "url = \"https://www.oddsportal.com/rugby-union/world/super-rugby/\"\n",
    "html = urlopen(url, timeout = 5)"
   ]
  },
  {
   "cell_type": "code",
   "execution_count": 113,
   "metadata": {
    "colab": {},
    "colab_type": "code",
    "id": "9fp7x7x-YHrR"
   },
   "outputs": [],
   "source": [
    "soup = BeautifulSoup(html, 'lxml')"
   ]
  },
  {
   "cell_type": "code",
   "execution_count": 114,
   "metadata": {
    "colab": {
     "base_uri": "https://localhost:8080/",
     "height": 160
    },
    "colab_type": "code",
    "executionInfo": {
     "elapsed": 1701,
     "status": "ok",
     "timestamp": 1550828578888,
     "user": {
      "displayName": "Kieran Donnelly",
      "photoUrl": "https://lh5.googleusercontent.com/-qOCnWQmSPhU/AAAAAAAAAAI/AAAAAAAA3YM/gLNo024IFgk/s64/photo.jpg",
      "userId": "08966570757713512847"
     },
     "user_tz": -120
    },
    "id": "f22ZBweMelVg",
    "outputId": "e0706056-ddea-4ada-d2df-bd5e8154040e"
   },
   "outputs": [
    {
     "data": {
      "text/plain": [
       "[<tr class=\"odd deactivate\" xeid=\"nBHtcIn5\"><td class=\"table-time datet t1556946900-1-1-0-0\"></td><td class=\"name table-participant\"><a href=\"/rugby-union/world/super-rugby/hurricanes-rebels-nBHtcIn5/\">Hurricanes - Rebels</a></td><td class=\"center bold table-odds table-score\">29:19</td><td class=\"odds-nowrp\"><span>-</span></td><td class=\"odds-nowrp\"><span>-</span></td><td class=\"odds-nowrp\"><span>-</span></td><td class=\"center info-value\"></td></tr>,\n",
       " <tr class=\"deactivate\" xeid=\"0ELpdx2B\"><td class=\"table-time datet t1556955300-1-1-0-0\"></td><td class=\"name table-participant\"><a href=\"/rugby-union/world/super-rugby/highlanders-waikato-chiefs-0ELpdx2B/\">Highlanders - Chiefs</a></td><td class=\"center bold table-odds table-score\">31:31</td><td class=\"odds-nowrp\"><span>-</span></td><td class=\"odds-nowrp\"><span>-</span></td><td class=\"odds-nowrp\"><span>-</span></td><td class=\"center info-value\"></td></tr>,\n",
       " <tr class=\"odd deactivate\" xeid=\"rwBkedHH\"><td class=\"table-time datet t1556963100-1-1-0-0\"></td><td class=\"name table-participant\"><a href=\"/rugby-union/world/super-rugby/act-brumbies-blues-rwBkedHH/\">Brumbies - Blues</a></td><td class=\"center bold table-odds table-score\">26:21</td><td class=\"odds-nowrp\"><span>-</span></td><td class=\"odds-nowrp\"><span>-</span></td><td class=\"odds-nowrp\"><span>-</span></td><td class=\"center info-value\"></td></tr>,\n",
       " <tr class=\"deactivate\" xeid=\"K2YIwUop\"><td class=\"table-time datet t1556975100-1-1-0-0\"></td><td class=\"name table-participant\"><a href=\"/rugby-union/world/super-rugby/blue-bulls-waratahs-K2YIwUop/\">Bulls - Waratahs</a></td><td class=\"center bold table-odds table-score\">28:21</td><td class=\"odds-nowrp\"><span>-</span></td><td class=\"odds-nowrp\"><span>-</span></td><td class=\"odds-nowrp\"><span>-</span></td><td class=\"center info-value\"></td></tr>,\n",
       " <tr class=\"odd\" xeid=\"SSXMxl1j\"><td class=\"table-time datet t1556998800-1-1-0-0\"></td><td class=\"name table-participant\" colspan=\"2\"><a href=\"/rugby-union/world/super-rugby/jaguares-stormers-SSXMxl1j/\">Jaguares - Stormers</a></td><td class=\"odds-nowrp\"><span>-</span></td><td class=\"odds-nowrp\"><span>-</span></td><td class=\"odds-nowrp\"><span>-</span></td><td class=\"center info-value\"></td></tr>]"
      ]
     },
     "execution_count": 114,
     "metadata": {},
     "output_type": "execute_result"
    }
   ],
   "source": [
    "soup.find_all('tr',{'xeid':True})"
   ]
  },
  {
   "cell_type": "code",
   "execution_count": 115,
   "metadata": {
    "colab": {
     "base_uri": "https://localhost:8080/",
     "height": 34
    },
    "colab_type": "code",
    "executionInfo": {
     "elapsed": 1107,
     "status": "ok",
     "timestamp": 1550828596430,
     "user": {
      "displayName": "Kieran Donnelly",
      "photoUrl": "https://lh5.googleusercontent.com/-qOCnWQmSPhU/AAAAAAAAAAI/AAAAAAAA3YM/gLNo024IFgk/s64/photo.jpg",
      "userId": "08966570757713512847"
     },
     "user_tz": -120
    },
    "id": "RXTmyy5UiTnm",
    "outputId": "23fc6b27-a957-425e-fc45-00152970e69c"
   },
   "outputs": [],
   "source": [
    "games = soup.find_all(attrs={'class':'name table-participant'})"
   ]
  },
  {
   "cell_type": "code",
   "execution_count": 119,
   "metadata": {},
   "outputs": [
    {
     "name": "stdout",
     "output_type": "stream",
     "text": [
      "Hurricanes and Rebels\n",
      "Highlanders and Chiefs\n",
      "Brumbies and Blues\n",
      "Bulls and Waratahs\n",
      "Jaguares and Stormers\n"
     ]
    }
   ],
   "source": [
    "for game in games:\n",
    "    teams = str(game).split('>')[2].split('<')[0].split(' - ')\n",
    "    home_team = teams[0]\n",
    "    away_team = teams[1]\n",
    "    print(home_team + \" and \" + away_team)"
   ]
  },
  {
   "cell_type": "markdown",
   "metadata": {},
   "source": [
    "## Use REST Service for Odds"
   ]
  },
  {
   "cell_type": "code",
   "execution_count": null,
   "metadata": {},
   "outputs": [],
   "source": []
  },
  {
   "cell_type": "code",
   "execution_count": 69,
   "metadata": {},
   "outputs": [],
   "source": [
    "import json\n",
    "import requests\n",
    "import objectpath"
   ]
  },
  {
   "cell_type": "code",
   "execution_count": 21,
   "metadata": {},
   "outputs": [],
   "source": [
    "s = requests.session()\n",
    "request_headers = {\n",
    "    'Referer': 'https://www.oddsportal.com/rugby-union/world/super-rugby/',\n",
    "    'User-Agent': 'Mozilla/5.0 (Macintosh; Intel Mac OS X 10_14_4) AppleWebKit/537.36 (KHTML, like Gecko) Chrome/73.0.3683.103 Safari/537.36'\n",
    "}"
   ]
  },
  {
   "cell_type": "code",
   "execution_count": 22,
   "metadata": {},
   "outputs": [],
   "source": [
    "get_odds = s.get('https://fb.oddsportal.com/ajax-sport-country-tournament/8/z36c0gcb/X0/1',\n",
    "                  headers = request_headers)"
   ]
  },
  {
   "cell_type": "code",
   "execution_count": 45,
   "metadata": {},
   "outputs": [],
   "source": [
    "text_odds = get_odds.text[72:-2]"
   ]
  },
  {
   "cell_type": "code",
   "execution_count": 47,
   "metadata": {},
   "outputs": [],
   "source": [
    "json_odds = json.loads(text_odds)"
   ]
  },
  {
   "cell_type": "code",
   "execution_count": 70,
   "metadata": {},
   "outputs": [],
   "source": [
    "json_tree = objectpath.Tree(json_odds['d'])"
   ]
  },
  {
   "cell_type": "code",
   "execution_count": 77,
   "metadata": {},
   "outputs": [
    {
     "data": {
      "text/plain": [
       "(1.06,\n",
       " 41.69,\n",
       " 8.86,\n",
       " 1.24,\n",
       " 25.6,\n",
       " 4.22,\n",
       " 1.23,\n",
       " 26.94,\n",
       " 4.27,\n",
       " 1.23,\n",
       " 26.97,\n",
       " 4.14,\n",
       " 1.8,\n",
       " 20.44,\n",
       " 2.06,\n",
       " 1.28,\n",
       " 25.65,\n",
       " 3.65,\n",
       " 1.48,\n",
       " 21.81,\n",
       " 2.68)"
      ]
     },
     "execution_count": 77,
     "metadata": {},
     "output_type": "execute_result"
    }
   ],
   "source": [
    "odds = tuple(json_tree.execute('$..avg'))\n",
    "odds[:21]"
   ]
  }
 ],
 "metadata": {
  "colab": {
   "collapsed_sections": [],
   "name": "Oddsportal Web Scraper",
   "provenance": [],
   "version": "0.3.2"
  },
  "kernelspec": {
   "display_name": "Python 3",
   "language": "python",
   "name": "python3"
  },
  "language_info": {
   "codemirror_mode": {
    "name": "ipython",
    "version": 3
   },
   "file_extension": ".py",
   "mimetype": "text/x-python",
   "name": "python",
   "nbconvert_exporter": "python",
   "pygments_lexer": "ipython3",
   "version": "3.6.8"
  }
 },
 "nbformat": 4,
 "nbformat_minor": 2
}
