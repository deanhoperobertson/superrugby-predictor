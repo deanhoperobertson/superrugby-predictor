{
 "cells": [
  {
   "cell_type": "code",
   "execution_count": 78,
   "metadata": {
    "colab": {},
    "colab_type": "code",
    "id": "qk38OrdhUGvj"
   },
   "outputs": [],
   "source": [
    "import pandas as pd\n",
    "import numpy as np\n",
    "import matplotlib.pyplot as plt\n",
    "import seaborn as sns\n",
    "\n",
    "from urllib.request import urlopen\n",
    "from bs4 import BeautifulSoup\n",
    "import time"
   ]
  },
  {
   "cell_type": "markdown",
   "metadata": {
    "colab_type": "text",
    "id": "1KxeWgonel-g"
   },
   "source": [
    "## Use Beautiful Soup to Get Match & Team Details (Upcoming Only)"
   ]
  },
  {
   "cell_type": "code",
   "execution_count": 112,
   "metadata": {
    "colab": {},
    "colab_type": "code",
    "id": "YpZqaHD8WR-5"
   },
   "outputs": [],
   "source": [
    "url = \"https://www.oddsportal.com/rugby-union/world/super-rugby/\"\n",
    "html = urlopen(url, timeout = 5)"
   ]
  },
  {
   "cell_type": "code",
   "execution_count": 113,
   "metadata": {
    "colab": {},
    "colab_type": "code",
    "id": "9fp7x7x-YHrR"
   },
   "outputs": [],
   "source": [
    "soup = BeautifulSoup(html, 'lxml')"
   ]
  },
  {
   "cell_type": "code",
   "execution_count": 114,
   "metadata": {
    "colab": {
     "base_uri": "https://localhost:8080/",
     "height": 160
    },
    "colab_type": "code",
    "executionInfo": {
     "elapsed": 1701,
     "status": "ok",
     "timestamp": 1550828578888,
     "user": {
      "displayName": "Kieran Donnelly",
      "photoUrl": "https://lh5.googleusercontent.com/-qOCnWQmSPhU/AAAAAAAAAAI/AAAAAAAA3YM/gLNo024IFgk/s64/photo.jpg",
      "userId": "08966570757713512847"
     },
     "user_tz": -120
    },
    "id": "f22ZBweMelVg",
    "outputId": "e0706056-ddea-4ada-d2df-bd5e8154040e"
   },
   "outputs": [
    {
     "data": {
      "text/plain": [
       "[<tr class=\"odd deactivate\" xeid=\"nBHtcIn5\"><td class=\"table-time datet t1556946900-1-1-0-0\"></td><td class=\"name table-participant\"><a href=\"/rugby-union/world/super-rugby/hurricanes-rebels-nBHtcIn5/\">Hurricanes - Rebels</a></td><td class=\"center bold table-odds table-score\">29:19</td><td class=\"odds-nowrp\"><span>-</span></td><td class=\"odds-nowrp\"><span>-</span></td><td class=\"odds-nowrp\"><span>-</span></td><td class=\"center info-value\"></td></tr>,\n",
       " <tr class=\"deactivate\" xeid=\"0ELpdx2B\"><td class=\"table-time datet t1556955300-1-1-0-0\"></td><td class=\"name table-participant\"><a href=\"/rugby-union/world/super-rugby/highlanders-waikato-chiefs-0ELpdx2B/\">Highlanders - Chiefs</a></td><td class=\"center bold table-odds table-score\">31:31</td><td class=\"odds-nowrp\"><span>-</span></td><td class=\"odds-nowrp\"><span>-</span></td><td class=\"odds-nowrp\"><span>-</span></td><td class=\"center info-value\"></td></tr>,\n",
       " <tr class=\"odd deactivate\" xeid=\"rwBkedHH\"><td class=\"table-time datet t1556963100-1-1-0-0\"></td><td class=\"name table-participant\"><a href=\"/rugby-union/world/super-rugby/act-brumbies-blues-rwBkedHH/\">Brumbies - Blues</a></td><td class=\"center bold table-odds table-score\">26:21</td><td class=\"odds-nowrp\"><span>-</span></td><td class=\"odds-nowrp\"><span>-</span></td><td class=\"odds-nowrp\"><span>-</span></td><td class=\"center info-value\"></td></tr>,\n",
       " <tr class=\"deactivate\" xeid=\"K2YIwUop\"><td class=\"table-time datet t1556975100-1-1-0-0\"></td><td class=\"name table-participant\"><a href=\"/rugby-union/world/super-rugby/blue-bulls-waratahs-K2YIwUop/\">Bulls - Waratahs</a></td><td class=\"center bold table-odds table-score\">28:21</td><td class=\"odds-nowrp\"><span>-</span></td><td class=\"odds-nowrp\"><span>-</span></td><td class=\"odds-nowrp\"><span>-</span></td><td class=\"center info-value\"></td></tr>,\n",
       " <tr class=\"odd\" xeid=\"SSXMxl1j\"><td class=\"table-time datet t1556998800-1-1-0-0\"></td><td class=\"name table-participant\" colspan=\"2\"><a href=\"/rugby-union/world/super-rugby/jaguares-stormers-SSXMxl1j/\">Jaguares - Stormers</a></td><td class=\"odds-nowrp\"><span>-</span></td><td class=\"odds-nowrp\"><span>-</span></td><td class=\"odds-nowrp\"><span>-</span></td><td class=\"center info-value\"></td></tr>]"
      ]
     },
     "execution_count": 114,
     "metadata": {},
     "output_type": "execute_result"
    }
   ],
   "source": [
    "soup.find_all('tr',{'xeid':True})"
   ]
  },
  {
   "cell_type": "code",
   "execution_count": 115,
   "metadata": {
    "colab": {
     "base_uri": "https://localhost:8080/",
     "height": 34
    },
    "colab_type": "code",
    "executionInfo": {
     "elapsed": 1107,
     "status": "ok",
     "timestamp": 1550828596430,
     "user": {
      "displayName": "Kieran Donnelly",
      "photoUrl": "https://lh5.googleusercontent.com/-qOCnWQmSPhU/AAAAAAAAAAI/AAAAAAAA3YM/gLNo024IFgk/s64/photo.jpg",
      "userId": "08966570757713512847"
     },
     "user_tz": -120
    },
    "id": "RXTmyy5UiTnm",
    "outputId": "23fc6b27-a957-425e-fc45-00152970e69c"
   },
   "outputs": [],
   "source": [
    "games = soup.find_all(attrs={'class':'name table-participant'})"
   ]
  },
  {
   "cell_type": "code",
   "execution_count": 143,
   "metadata": {},
   "outputs": [],
   "source": [
    "home_team = []\n",
    "away_team = []"
   ]
  },
  {
   "cell_type": "code",
   "execution_count": 144,
   "metadata": {},
   "outputs": [],
   "source": [
    "for game in games:\n",
    "    teams = str(game).split('>')[2].split('<')[0].split(' - ')\n",
    "    home_team.append(teams[0])\n",
    "    away_team.append(teams[1])"
   ]
  },
  {
   "cell_type": "markdown",
   "metadata": {},
   "source": [
    "## Use REST Service for Odds"
   ]
  },
  {
   "cell_type": "code",
   "execution_count": 69,
   "metadata": {},
   "outputs": [],
   "source": [
    "import json\n",
    "import requests\n",
    "import objectpath"
   ]
  },
  {
   "cell_type": "code",
   "execution_count": 21,
   "metadata": {},
   "outputs": [],
   "source": [
    "s = requests.session()\n",
    "request_headers = {\n",
    "    'Referer': 'https://www.oddsportal.com/rugby-union/world/super-rugby/',\n",
    "    'User-Agent': 'Mozilla/5.0 (Macintosh; Intel Mac OS X 10_14_4) AppleWebKit/537.36 (KHTML, like Gecko) Chrome/73.0.3683.103 Safari/537.36'\n",
    "}"
   ]
  },
  {
   "cell_type": "code",
   "execution_count": 22,
   "metadata": {},
   "outputs": [],
   "source": [
    "get_odds = s.get('https://fb.oddsportal.com/ajax-sport-country-tournament/8/z36c0gcb/X0/1',\n",
    "                  headers = request_headers)"
   ]
  },
  {
   "cell_type": "code",
   "execution_count": 45,
   "metadata": {},
   "outputs": [],
   "source": [
    "text_odds = get_odds.text[72:-2]"
   ]
  },
  {
   "cell_type": "code",
   "execution_count": 47,
   "metadata": {},
   "outputs": [],
   "source": [
    "json_odds = json.loads(text_odds)"
   ]
  },
  {
   "cell_type": "code",
   "execution_count": 70,
   "metadata": {},
   "outputs": [],
   "source": [
    "json_tree = objectpath.Tree(json_odds['d'])"
   ]
  },
  {
   "cell_type": "code",
   "execution_count": 200,
   "metadata": {},
   "outputs": [],
   "source": [
    "odds = tuple(json_tree.execute('$..avg'))\n",
    "# odds all appear twice for some reason, so we take just half of them\n",
    "odds = odds[:np.int(len(odds)/2)]"
   ]
  },
  {
   "cell_type": "code",
   "execution_count": 181,
   "metadata": {},
   "outputs": [],
   "source": [
    "one_list = []\n",
    "x_list = []\n",
    "two_list = []"
   ]
  },
  {
   "cell_type": "code",
   "execution_count": 183,
   "metadata": {},
   "outputs": [],
   "source": [
    "# take every 3 rows and put them into 1 row\n",
    "for i in range(len(odds)):\n",
    "    if i%3==0:\n",
    "        one_list.append(odds[i])\n",
    "    if i%3==1:\n",
    "        x_list.append(odds[i])\n",
    "    if i%3==2:\n",
    "        two_list.append(odds[i])"
   ]
  },
  {
   "cell_type": "code",
   "execution_count": 192,
   "metadata": {},
   "outputs": [],
   "source": [
    "# concatenate info into dataframe\n",
    "df = pd.DataFrame({'Home Team':home_team,\n",
    "                    'Away Team':away_team,\n",
    "                    'Home Odds':one_list[:5],\n",
    "                    'Draw Odds':x_list[:5],\n",
    "                    'Away Odds':two_list[:5]})"
   ]
  },
  {
   "cell_type": "code",
   "execution_count": 194,
   "metadata": {},
   "outputs": [
    {
     "data": {
      "text/html": [
       "<div>\n",
       "<style scoped>\n",
       "    .dataframe tbody tr th:only-of-type {\n",
       "        vertical-align: middle;\n",
       "    }\n",
       "\n",
       "    .dataframe tbody tr th {\n",
       "        vertical-align: top;\n",
       "    }\n",
       "\n",
       "    .dataframe thead th {\n",
       "        text-align: right;\n",
       "    }\n",
       "</style>\n",
       "<table border=\"1\" class=\"dataframe\">\n",
       "  <thead>\n",
       "    <tr style=\"text-align: right;\">\n",
       "      <th></th>\n",
       "      <th>Home Team</th>\n",
       "      <th>Away Team</th>\n",
       "      <th>Home Odds</th>\n",
       "      <th>Draw Odds</th>\n",
       "      <th>Away Odds</th>\n",
       "    </tr>\n",
       "  </thead>\n",
       "  <tbody>\n",
       "    <tr>\n",
       "      <th>0</th>\n",
       "      <td>Hurricanes</td>\n",
       "      <td>Rebels</td>\n",
       "      <td>1.06</td>\n",
       "      <td>41.69</td>\n",
       "      <td>8.86</td>\n",
       "    </tr>\n",
       "    <tr>\n",
       "      <th>1</th>\n",
       "      <td>Highlanders</td>\n",
       "      <td>Chiefs</td>\n",
       "      <td>1.24</td>\n",
       "      <td>25.60</td>\n",
       "      <td>4.22</td>\n",
       "    </tr>\n",
       "    <tr>\n",
       "      <th>2</th>\n",
       "      <td>Brumbies</td>\n",
       "      <td>Blues</td>\n",
       "      <td>1.23</td>\n",
       "      <td>26.94</td>\n",
       "      <td>4.27</td>\n",
       "    </tr>\n",
       "    <tr>\n",
       "      <th>3</th>\n",
       "      <td>Bulls</td>\n",
       "      <td>Waratahs</td>\n",
       "      <td>1.23</td>\n",
       "      <td>26.97</td>\n",
       "      <td>4.14</td>\n",
       "    </tr>\n",
       "    <tr>\n",
       "      <th>4</th>\n",
       "      <td>Jaguares</td>\n",
       "      <td>Stormers</td>\n",
       "      <td>1.80</td>\n",
       "      <td>20.44</td>\n",
       "      <td>2.06</td>\n",
       "    </tr>\n",
       "  </tbody>\n",
       "</table>\n",
       "</div>"
      ],
      "text/plain": [
       "     Home Team Away Team  Home Odds  Draw Odds  Away Odds\n",
       "0   Hurricanes    Rebels       1.06      41.69       8.86\n",
       "1  Highlanders    Chiefs       1.24      25.60       4.22\n",
       "2     Brumbies     Blues       1.23      26.94       4.27\n",
       "3        Bulls  Waratahs       1.23      26.97       4.14\n",
       "4     Jaguares  Stormers       1.80      20.44       2.06"
      ]
     },
     "execution_count": 194,
     "metadata": {},
     "output_type": "execute_result"
    }
   ],
   "source": [
    "df.head()"
   ]
  },
  {
   "cell_type": "code",
   "execution_count": null,
   "metadata": {},
   "outputs": [],
   "source": []
  }
 ],
 "metadata": {
  "colab": {
   "collapsed_sections": [],
   "name": "Oddsportal Web Scraper",
   "provenance": [],
   "version": "0.3.2"
  },
  "kernelspec": {
   "display_name": "Python 3",
   "language": "python",
   "name": "python3"
  },
  "language_info": {
   "codemirror_mode": {
    "name": "ipython",
    "version": 3
   },
   "file_extension": ".py",
   "mimetype": "text/x-python",
   "name": "python",
   "nbconvert_exporter": "python",
   "pygments_lexer": "ipython3",
   "version": "3.6.8"
  }
 },
 "nbformat": 4,
 "nbformat_minor": 2
}
