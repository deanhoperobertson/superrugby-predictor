{
 "cells": [
  {
   "cell_type": "code",
   "execution_count": 1,
   "metadata": {
    "colab": {},
    "colab_type": "code",
    "id": "qk38OrdhUGvj"
   },
   "outputs": [],
   "source": [
    "import pandas as pd\n",
    "import numpy as np\n",
    "import matplotlib.pyplot as plt\n",
    "import seaborn as sns\n",
    "\n",
    "from urllib.request import urlopen\n",
    "from bs4 import BeautifulSoup\n",
    "import time"
   ]
  },
  {
   "cell_type": "markdown",
   "metadata": {
    "colab_type": "text",
    "id": "1KxeWgonel-g"
   },
   "source": [
    "## Use Beautiful Soup to Get Match & Team Details (Upcoming Only)"
   ]
  },
  {
   "cell_type": "code",
   "execution_count": 2,
   "metadata": {
    "colab": {},
    "colab_type": "code",
    "id": "YpZqaHD8WR-5"
   },
   "outputs": [],
   "source": [
    "url = \"https://www.oddsportal.com/rugby-union/world/super-rugby/\"\n",
    "html = urlopen(url, timeout = 5)"
   ]
  },
  {
   "cell_type": "code",
   "execution_count": 3,
   "metadata": {
    "colab": {},
    "colab_type": "code",
    "id": "9fp7x7x-YHrR"
   },
   "outputs": [],
   "source": [
    "soup = BeautifulSoup(html, 'lxml')"
   ]
  },
  {
   "cell_type": "code",
   "execution_count": 4,
   "metadata": {
    "colab": {
     "base_uri": "https://localhost:8080/",
     "height": 160
    },
    "colab_type": "code",
    "executionInfo": {
     "elapsed": 1701,
     "status": "ok",
     "timestamp": 1550828578888,
     "user": {
      "displayName": "Kieran Donnelly",
      "photoUrl": "https://lh5.googleusercontent.com/-qOCnWQmSPhU/AAAAAAAAAAI/AAAAAAAA3YM/gLNo024IFgk/s64/photo.jpg",
      "userId": "08966570757713512847"
     },
     "user_tz": -120
    },
    "id": "f22ZBweMelVg",
    "outputId": "e0706056-ddea-4ada-d2df-bd5e8154040e"
   },
   "outputs": [
    {
     "data": {
      "text/plain": [
       "[<tr class=\"odd\" xeid=\"lAQoapK3\"><td class=\"table-time datet t1580450700-1-1-0-0\"></td><td class=\"name table-participant\" colspan=\"2\"><a href=\"/rugby-union/world/super-rugby/blues-waikato-chiefs-lAQoapK3/\">Blues - Chiefs</a></td><td class=\"odds-nowrp\"><span>-</span></td><td class=\"odds-nowrp\"><span>-</span></td><td class=\"odds-nowrp\"><span>-</span></td><td class=\"center info-value\"></td></tr>,\n",
       " <tr xeid=\"2DUkb4Z9\"><td class=\"table-time datet t1580458500-1-1-0-0\"></td><td class=\"name table-participant\" colspan=\"2\"><a href=\"/rugby-union/world/super-rugby/act-brumbies-queensland-reds-2DUkb4Z9/\">Brumbies - Reds</a></td><td class=\"odds-nowrp\"><span>-</span></td><td class=\"odds-nowrp\"><span>-</span></td><td class=\"odds-nowrp\"><span>-</span></td><td class=\"center info-value\"></td></tr>,\n",
       " <tr class=\"odd\" xeid=\"dzUgcOlG\"><td class=\"table-time datet t1580490600-1-1-0-0\"></td><td class=\"name table-participant\" colspan=\"2\"><a href=\"/rugby-union/world/super-rugby/sharks-blue-bulls-dzUgcOlG/\">Sharks - Bulls</a></td><td class=\"odds-nowrp\"><span>-</span></td><td class=\"odds-nowrp\"><span>-</span></td><td class=\"odds-nowrp\"><span>-</span></td><td class=\"center info-value\"></td></tr>,\n",
       " <tr class=\"odd\" xeid=\"YaiNudJr\"><td class=\"table-time datet t1580528700-1-1-0-0\"></td><td class=\"name table-participant\" colspan=\"2\"><a href=\"/rugby-union/world/super-rugby/sunwolves-rebels-YaiNudJr/\">Sunwolves - Rebels</a></td><td class=\"odds-nowrp\"><span>-</span></td><td class=\"odds-nowrp\"><span>-</span></td><td class=\"odds-nowrp\"><span>-</span></td><td class=\"center info-value\"></td></tr>,\n",
       " <tr xeid=\"0MNJvGYl\"><td class=\"table-time datet t1580537100-1-1-0-0\"></td><td class=\"name table-participant\" colspan=\"2\"><a href=\"/rugby-union/world/super-rugby/crusaders-waratahs-0MNJvGYl/\">Crusaders - Waratahs</a></td><td class=\"odds-nowrp\"><span>-</span></td><td class=\"odds-nowrp\"><span>-</span></td><td class=\"odds-nowrp\"><span>-</span></td><td class=\"center info-value\"></td></tr>,\n",
       " <tr class=\"odd\" xeid=\"vDMNwzle\"><td class=\"table-time datet t1580562300-1-1-0-0\"></td><td class=\"name table-participant\" colspan=\"2\"><a href=\"/rugby-union/world/super-rugby/stormers-hurricanes-vDMNwzle/\">Stormers - Hurricanes</a></td><td class=\"odds-nowrp\"><span>-</span></td><td class=\"odds-nowrp\"><span>-</span></td><td class=\"odds-nowrp\"><span>-</span></td><td class=\"center info-value\"></td></tr>,\n",
       " <tr xeid=\"YZLRxf31\"><td class=\"table-time datet t1580593200-1-1-0-0\"></td><td class=\"name table-participant\" colspan=\"2\"><a href=\"/rugby-union/world/super-rugby/jaguares-golden-lions-YZLRxf31/\">Jaguares - Lions</a></td><td class=\"odds-nowrp\"><span>-</span></td><td class=\"odds-nowrp\"><span>-</span></td><td class=\"odds-nowrp\"><span>-</span></td><td class=\"center info-value\"></td></tr>]"
      ]
     },
     "execution_count": 4,
     "metadata": {},
     "output_type": "execute_result"
    }
   ],
   "source": [
    "soup.find_all('tr',{'xeid':True})"
   ]
  },
  {
   "cell_type": "code",
   "execution_count": 5,
   "metadata": {
    "colab": {
     "base_uri": "https://localhost:8080/",
     "height": 34
    },
    "colab_type": "code",
    "executionInfo": {
     "elapsed": 1107,
     "status": "ok",
     "timestamp": 1550828596430,
     "user": {
      "displayName": "Kieran Donnelly",
      "photoUrl": "https://lh5.googleusercontent.com/-qOCnWQmSPhU/AAAAAAAAAAI/AAAAAAAA3YM/gLNo024IFgk/s64/photo.jpg",
      "userId": "08966570757713512847"
     },
     "user_tz": -120
    },
    "id": "RXTmyy5UiTnm",
    "outputId": "23fc6b27-a957-425e-fc45-00152970e69c"
   },
   "outputs": [],
   "source": [
    "games = soup.find_all(attrs={'class':'name table-participant'})"
   ]
  },
  {
   "cell_type": "code",
   "execution_count": 6,
   "metadata": {},
   "outputs": [],
   "source": [
    "home_team = []\n",
    "away_team = []"
   ]
  },
  {
   "cell_type": "code",
   "execution_count": 7,
   "metadata": {},
   "outputs": [],
   "source": [
    "for game in games:\n",
    "    teams = str(game).split('>')[2].split('<')[0].split(' - ')\n",
    "    home_team.append(teams[0])\n",
    "    away_team.append(teams[1])"
   ]
  },
  {
   "cell_type": "markdown",
   "metadata": {},
   "source": [
    "## Use REST Service for Odds"
   ]
  },
  {
   "cell_type": "code",
   "execution_count": 8,
   "metadata": {},
   "outputs": [],
   "source": [
    "import json\n",
    "import requests\n",
    "import objectpath"
   ]
  },
  {
   "cell_type": "code",
   "execution_count": 9,
   "metadata": {},
   "outputs": [],
   "source": [
    "s = requests.Session()\n",
    "request_headers = {\n",
    "    'Referer': 'https://www.oddsportal.com/rugby-union/world/super-rugby/',\n",
    "    'User-Agent': 'Mozilla/5.0 (Macintosh; Intel Mac OS X 10_14_4) AppleWebKit/537.36 (KHTML, like Gecko) Chrome/73.0.3683.103 Safari/537.36'\n",
    "}"
   ]
  },
  {
   "cell_type": "code",
   "execution_count": 10,
   "metadata": {},
   "outputs": [
    {
     "data": {
      "text/plain": [
       "<bound method Session.get of <requests.sessions.Session object at 0x000002948B975708>>"
      ]
     },
     "execution_count": 10,
     "metadata": {},
     "output_type": "execute_result"
    }
   ],
   "source": [
    "s.get"
   ]
  },
  {
   "cell_type": "code",
   "execution_count": 11,
   "metadata": {},
   "outputs": [],
   "source": [
    "get_odds = s.get('https://fb.oddsportal.com/ajax-sport-country-tournament/8/OjguN6X6/X0/1/',\n",
    "                  headers = request_headers)"
   ]
  },
  {
   "cell_type": "code",
   "execution_count": 12,
   "metadata": {},
   "outputs": [],
   "source": [
    "text_odds = get_odds.text[72:-2]"
   ]
  },
  {
   "cell_type": "code",
   "execution_count": 13,
   "metadata": {},
   "outputs": [],
   "source": [
    "json_odds = json.loads(text_odds)"
   ]
  },
  {
   "cell_type": "code",
   "execution_count": 14,
   "metadata": {},
   "outputs": [],
   "source": [
    "json_tree = objectpath.Tree(json_odds['d'])"
   ]
  },
  {
   "cell_type": "code",
   "execution_count": 15,
   "metadata": {},
   "outputs": [],
   "source": [
    "odds = tuple(json_tree.execute('$..avg'))\n",
    "# odds all appear twice for some reason, so we take just half of them\n",
    "odds = odds[:np.int(len(odds)/2)]"
   ]
  },
  {
   "cell_type": "code",
   "execution_count": 16,
   "metadata": {},
   "outputs": [],
   "source": [
    "one_list = []\n",
    "x_list = []\n",
    "two_list = []"
   ]
  },
  {
   "cell_type": "code",
   "execution_count": 17,
   "metadata": {},
   "outputs": [],
   "source": [
    "# take every 3 rows and put them into 1 row\n",
    "for i in range(len(odds)):\n",
    "    if i%3==0:\n",
    "        one_list.append(odds[i])\n",
    "    if i%3==1:\n",
    "        x_list.append(odds[i])\n",
    "    if i%3==2:\n",
    "        two_list.append(odds[i])"
   ]
  },
  {
   "cell_type": "code",
   "execution_count": 18,
   "metadata": {},
   "outputs": [],
   "source": [
    "# concatenate info into dataframe\n",
    "df = pd.DataFrame({'Home Team':home_team,\n",
    "                    'Away Team':away_team,\n",
    "                    'Home Odds':one_list[:len(home_team)],\n",
    "                    'Draw Odds':x_list[:len(home_team)],\n",
    "                    'Away Odds':two_list[:len(home_team)]})"
   ]
  },
  {
   "cell_type": "code",
   "execution_count": 19,
   "metadata": {},
   "outputs": [
    {
     "data": {
      "text/html": [
       "<div>\n",
       "<style scoped>\n",
       "    .dataframe tbody tr th:only-of-type {\n",
       "        vertical-align: middle;\n",
       "    }\n",
       "\n",
       "    .dataframe tbody tr th {\n",
       "        vertical-align: top;\n",
       "    }\n",
       "\n",
       "    .dataframe thead th {\n",
       "        text-align: right;\n",
       "    }\n",
       "</style>\n",
       "<table border=\"1\" class=\"dataframe\">\n",
       "  <thead>\n",
       "    <tr style=\"text-align: right;\">\n",
       "      <th></th>\n",
       "      <th>Home Team</th>\n",
       "      <th>Away Team</th>\n",
       "      <th>Home Odds</th>\n",
       "      <th>Draw Odds</th>\n",
       "      <th>Away Odds</th>\n",
       "    </tr>\n",
       "  </thead>\n",
       "  <tbody>\n",
       "    <tr>\n",
       "      <th>0</th>\n",
       "      <td>Blues</td>\n",
       "      <td>Chiefs</td>\n",
       "      <td>2.17</td>\n",
       "      <td>21.35</td>\n",
       "      <td>1.71</td>\n",
       "    </tr>\n",
       "    <tr>\n",
       "      <th>1</th>\n",
       "      <td>Brumbies</td>\n",
       "      <td>Reds</td>\n",
       "      <td>1.38</td>\n",
       "      <td>23.23</td>\n",
       "      <td>3.06</td>\n",
       "    </tr>\n",
       "    <tr>\n",
       "      <th>2</th>\n",
       "      <td>Sharks</td>\n",
       "      <td>Bulls</td>\n",
       "      <td>1.52</td>\n",
       "      <td>20.93</td>\n",
       "      <td>2.58</td>\n",
       "    </tr>\n",
       "    <tr>\n",
       "      <th>3</th>\n",
       "      <td>Sunwolves</td>\n",
       "      <td>Rebels</td>\n",
       "      <td>6.60</td>\n",
       "      <td>34.84</td>\n",
       "      <td>1.10</td>\n",
       "    </tr>\n",
       "    <tr>\n",
       "      <th>4</th>\n",
       "      <td>Crusaders</td>\n",
       "      <td>Waratahs</td>\n",
       "      <td>1.08</td>\n",
       "      <td>36.10</td>\n",
       "      <td>7.45</td>\n",
       "    </tr>\n",
       "  </tbody>\n",
       "</table>\n",
       "</div>"
      ],
      "text/plain": [
       "   Home Team Away Team  Home Odds  Draw Odds  Away Odds\n",
       "0      Blues    Chiefs       2.17      21.35       1.71\n",
       "1   Brumbies      Reds       1.38      23.23       3.06\n",
       "2     Sharks     Bulls       1.52      20.93       2.58\n",
       "3  Sunwolves    Rebels       6.60      34.84       1.10\n",
       "4  Crusaders  Waratahs       1.08      36.10       7.45"
      ]
     },
     "execution_count": 19,
     "metadata": {},
     "output_type": "execute_result"
    }
   ],
   "source": [
    "df.head()"
   ]
  },
  {
   "cell_type": "code",
   "execution_count": null,
   "metadata": {},
   "outputs": [],
   "source": []
  }
 ],
 "metadata": {
  "colab": {
   "collapsed_sections": [],
   "name": "Oddsportal Web Scraper",
   "provenance": [],
   "version": "0.3.2"
  },
  "kernelspec": {
   "display_name": "Python 3",
   "language": "python",
   "name": "python3"
  },
  "language_info": {
   "codemirror_mode": {
    "name": "ipython",
    "version": 3
   },
   "file_extension": ".py",
   "mimetype": "text/x-python",
   "name": "python",
   "nbconvert_exporter": "python",
   "pygments_lexer": "ipython3",
   "version": "3.7.6"
  }
 },
 "nbformat": 4,
 "nbformat_minor": 4
}
