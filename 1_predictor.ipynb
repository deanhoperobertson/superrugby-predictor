{
 "cells": [
  {
   "cell_type": "code",
   "execution_count": 1,
   "metadata": {
    "colab": {},
    "colab_type": "code",
    "id": "a1jqgM4V-5HE"
   },
   "outputs": [],
   "source": [
    "import pandas as pd\n",
    "import numpy as np\n",
    "from sklearn.model_selection import train_test_split\n",
    "from sklearn.metrics import mean_squared_error, mean_absolute_error"
   ]
  },
  {
   "cell_type": "code",
   "execution_count": 2,
   "metadata": {},
   "outputs": [],
   "source": [
    "# number of matches in upcoming week\n",
    "n_matches = 6"
   ]
  },
  {
   "cell_type": "code",
   "execution_count": 3,
   "metadata": {
    "colab": {},
    "colab_type": "code",
    "id": "8gZRyWwC_8Rz"
   },
   "outputs": [],
   "source": [
    "df = pd.read_csv(\"./data/super_rugby_oddsportal.csv\").drop('Play-off Game?', axis=1).dropna()"
   ]
  },
  {
   "cell_type": "code",
   "execution_count": 4,
   "metadata": {
    "colab": {},
    "colab_type": "code",
    "id": "RHx1OkjDI9b2"
   },
   "outputs": [],
   "source": [
    "spare = pd.read_csv(\"./data/super_rugby_oddsportal.csv\").drop('Play-off Game?', axis=1).dropna()"
   ]
  },
  {
   "cell_type": "code",
   "execution_count": 5,
   "metadata": {
    "colab": {
     "base_uri": "https://localhost:8080/",
     "height": 266
    },
    "colab_type": "code",
    "executionInfo": {
     "elapsed": 791,
     "status": "ok",
     "timestamp": 1551945609721,
     "user": {
      "displayName": "Kieran Donnelly",
      "photoUrl": "https://lh5.googleusercontent.com/-qOCnWQmSPhU/AAAAAAAAAAI/AAAAAAAA3YM/gLNo024IFgk/s64/photo.jpg",
      "userId": "08966570757713512847"
     },
     "user_tz": -120
    },
    "id": "dzIWDm27wuCk",
    "outputId": "9c23bc17-76ac-4b07-f3fe-17e5b91de13b"
   },
   "outputs": [
    {
     "data": {
      "text/html": [
       "<div>\n",
       "<style scoped>\n",
       "    .dataframe tbody tr th:only-of-type {\n",
       "        vertical-align: middle;\n",
       "    }\n",
       "\n",
       "    .dataframe tbody tr th {\n",
       "        vertical-align: top;\n",
       "    }\n",
       "\n",
       "    .dataframe thead th {\n",
       "        text-align: right;\n",
       "    }\n",
       "</style>\n",
       "<table border=\"1\" class=\"dataframe\">\n",
       "  <thead>\n",
       "    <tr style=\"text-align: right;\">\n",
       "      <th></th>\n",
       "      <th>Date</th>\n",
       "      <th>Home Team</th>\n",
       "      <th>Away Team</th>\n",
       "      <th>Home Score</th>\n",
       "      <th>Away Score</th>\n",
       "      <th>Home Odds</th>\n",
       "      <th>Draw Odds</th>\n",
       "      <th>Away Odds</th>\n",
       "      <th>Bookmakers Surveyed</th>\n",
       "    </tr>\n",
       "  </thead>\n",
       "  <tbody>\n",
       "    <tr>\n",
       "      <th>0</th>\n",
       "      <td>2020-02-21 00:00:00</td>\n",
       "      <td>Crusaders</td>\n",
       "      <td>Highlanders</td>\n",
       "      <td>0</td>\n",
       "      <td>0</td>\n",
       "      <td>1.12</td>\n",
       "      <td>28.51</td>\n",
       "      <td>6.33</td>\n",
       "      <td>11</td>\n",
       "    </tr>\n",
       "    <tr>\n",
       "      <th>1</th>\n",
       "      <td>2020-02-22 00:00:00</td>\n",
       "      <td>Rebels</td>\n",
       "      <td>Sharks</td>\n",
       "      <td>0</td>\n",
       "      <td>0</td>\n",
       "      <td>2.77</td>\n",
       "      <td>21.98</td>\n",
       "      <td>1.46</td>\n",
       "      <td>11</td>\n",
       "    </tr>\n",
       "    <tr>\n",
       "      <th>2</th>\n",
       "      <td>2020-02-22 00:00:00</td>\n",
       "      <td>Chiefs</td>\n",
       "      <td>Brumbies</td>\n",
       "      <td>0</td>\n",
       "      <td>0</td>\n",
       "      <td>1.10</td>\n",
       "      <td>28.42</td>\n",
       "      <td>6.56</td>\n",
       "      <td>11</td>\n",
       "    </tr>\n",
       "    <tr>\n",
       "      <th>3</th>\n",
       "      <td>2020-02-22 00:00:00</td>\n",
       "      <td>Reds</td>\n",
       "      <td>Sunwolves</td>\n",
       "      <td>0</td>\n",
       "      <td>0</td>\n",
       "      <td>1.13</td>\n",
       "      <td>29.07</td>\n",
       "      <td>5.60</td>\n",
       "      <td>11</td>\n",
       "    </tr>\n",
       "    <tr>\n",
       "      <th>4</th>\n",
       "      <td>2020-02-22 00:00:00</td>\n",
       "      <td>Stormers</td>\n",
       "      <td>Jaguares</td>\n",
       "      <td>0</td>\n",
       "      <td>0</td>\n",
       "      <td>1.34</td>\n",
       "      <td>22.07</td>\n",
       "      <td>3.25</td>\n",
       "      <td>10</td>\n",
       "    </tr>\n",
       "    <tr>\n",
       "      <th>5</th>\n",
       "      <td>2020-02-22 00:00:00</td>\n",
       "      <td>Bulls</td>\n",
       "      <td>Blues</td>\n",
       "      <td>0</td>\n",
       "      <td>0</td>\n",
       "      <td>2.09</td>\n",
       "      <td>21.08</td>\n",
       "      <td>1.77</td>\n",
       "      <td>10</td>\n",
       "    </tr>\n",
       "  </tbody>\n",
       "</table>\n",
       "</div>"
      ],
      "text/plain": [
       "                  Date  Home Team    Away Team  Home Score  Away Score  \\\n",
       "0  2020-02-21 00:00:00  Crusaders  Highlanders           0           0   \n",
       "1  2020-02-22 00:00:00     Rebels       Sharks           0           0   \n",
       "2  2020-02-22 00:00:00     Chiefs     Brumbies           0           0   \n",
       "3  2020-02-22 00:00:00       Reds    Sunwolves           0           0   \n",
       "4  2020-02-22 00:00:00   Stormers     Jaguares           0           0   \n",
       "5  2020-02-22 00:00:00      Bulls        Blues           0           0   \n",
       "\n",
       "   Home Odds  Draw Odds  Away Odds  Bookmakers Surveyed  \n",
       "0       1.12      28.51       6.33                   11  \n",
       "1       2.77      21.98       1.46                   11  \n",
       "2       1.10      28.42       6.56                   11  \n",
       "3       1.13      29.07       5.60                   11  \n",
       "4       1.34      22.07       3.25                   10  \n",
       "5       2.09      21.08       1.77                   10  "
      ]
     },
     "execution_count": 5,
     "metadata": {},
     "output_type": "execute_result"
    }
   ],
   "source": [
    "df.head(n_matches)"
   ]
  },
  {
   "cell_type": "markdown",
   "metadata": {
    "colab_type": "text",
    "id": "UzldDaobI9b9"
   },
   "source": [
    "### Get win streak"
   ]
  },
  {
   "cell_type": "code",
   "execution_count": 6,
   "metadata": {
    "colab": {},
    "colab_type": "code",
    "id": "tAoc1xkpI9b-"
   },
   "outputs": [],
   "source": [
    "def bool_to_int(bool_val):\n",
    "    if bool_val:\n",
    "        return 1\n",
    "    else:\n",
    "        return -1\n",
    "\n",
    "def get_home_streak(team, date):\n",
    "    \n",
    "    date_df = df[df['Date'] < date]\n",
    "    team_df = date_df[date_df['Home Team']==team].sort_values('Date', ascending=False)\n",
    "    results = team_df.itertuples()\n",
    "    try: \n",
    "        last_result = bool_to_int(next(results)[-1])\n",
    "        streak = last_result\n",
    "    except:\n",
    "        streak = 0\n",
    "    \n",
    "    while True:\n",
    "        try:\n",
    "            next_result = bool_to_int(next(results)[-1])\n",
    "            if next_result == last_result:\n",
    "                streak += next_result\n",
    "            else:\n",
    "                break\n",
    "        except:\n",
    "            break\n",
    "    \n",
    "    return streak\n",
    "        \n",
    "\n",
    "def get_away_streak(team, date):\n",
    "    \n",
    "    date_df = df[df['Date'] < date]\n",
    "    team_df = date_df[date_df['Away Team']==team].sort_values('Date', ascending=False)\n",
    "    results = team_df.itertuples()\n",
    "    try:\n",
    "        last_result = bool_to_int(next(results)[-1])*-1\n",
    "        streak = last_result\n",
    "    except:\n",
    "        streak = 0\n",
    "    \n",
    "    while True:\n",
    "        try:\n",
    "            next_result = bool_to_int(next(results)[-1])*-1\n",
    "            if next_result == last_result:\n",
    "                streak += next_result\n",
    "            else:\n",
    "                break\n",
    "        except:\n",
    "            break\n",
    "    \n",
    "    return streak"
   ]
  },
  {
   "cell_type": "markdown",
   "metadata": {
    "colab_type": "text",
    "id": "MbOzSXnlI9cA"
   },
   "source": [
    "### Cleaning and Feature Engineering"
   ]
  },
  {
   "cell_type": "code",
   "execution_count": 7,
   "metadata": {
    "colab": {},
    "colab_type": "code",
    "id": "PxQ-lb-UI9cA"
   },
   "outputs": [],
   "source": [
    "countries = {'Crusaders': 'NZ',\n",
    "             'Chiefs': 'NZ',\n",
    "             'Blues': 'NZ',\n",
    "             'Hurricanes': 'NZ',\n",
    "             'Highlanders': 'NZ',\n",
    "             'Bulls': 'SA',\n",
    "             'Cheetahs': 'SA',\n",
    "             'Kings': 'SA',\n",
    "             'Lions': 'SA',\n",
    "             'Sharks': 'SA',\n",
    "             'Stormers': 'SA',\n",
    "             'Brumbies': 'AUS',\n",
    "             'Force': 'AUS',\n",
    "             'Rebels': 'AUS',\n",
    "             'Reds': 'AUS',\n",
    "             'Waratahs': 'AUS',\n",
    "             'Jaguares': 'ARG',\n",
    "             'Sunwolves': 'JPN'}\n",
    "\n",
    "def cleanup(df):\n",
    "    \n",
    "    # convert Date to datetime\n",
    "    df['Date'] = pd.to_datetime(df.Date)\n",
    "    \n",
    "    # create response variable\n",
    "    df['home_margin'] = df['Home Score'] - df['Away Score']\n",
    "    \n",
    "    # create home_win column\n",
    "    df['home_win'] = (df['Home Score'] > df['Away Score'])\n",
    "    \n",
    "    df.drop(['Home Score', 'Away Score'], axis=1, inplace=True)\n",
    "    \n",
    "    # create home_streak and away_streak columns\n",
    "    home_streaks = []\n",
    "    away_streaks = []\n",
    "    for row in df.itertuples():\n",
    "        home_team = row[2]\n",
    "        away_team = row[3]\n",
    "        date = row[1]\n",
    "        home_streaks.append(get_home_streak(home_team, date))\n",
    "        away_streaks.append(get_away_streak(away_team, date))\n",
    "        \n",
    "    df['home_streak'] = home_streaks\n",
    "    df['away_streak'] = away_streaks\n",
    "    \n",
    "    # add nationalities\n",
    "    df['home_nationality'] = df['Home Team'].replace(countries)\n",
    "    df['away_nationality'] = df['Away Team'].replace(countries)\n",
    "    \n",
    "    # encode nationalities\n",
    "    df = pd.get_dummies(df, prefix='home_country', columns=['home_nationality'])\n",
    "    df = pd.get_dummies(df, prefix='away_country', columns=['away_nationality'])\n",
    "    \n",
    "    # encode team names\n",
    "    df = pd.get_dummies(df, prefix='home_team', columns=['Home Team'])\n",
    "    df = pd.get_dummies(df, prefix='away_team', columns=['Away Team'])\n",
    "    \n",
    "    # aggregate odds into single probability variable\n",
    "    df['home_odds'] = df['Away Odds'] / (df['Home Odds'] + df['Away Odds'])\n",
    "    \n",
    "    # drop irrelevent columns\n",
    "    df.drop(['Date', 'Home Odds', 'Draw Odds', 'Away Odds',\n",
    "             'home_country_ARG', 'home_country_JPN', 'away_country_ARG',\n",
    "             'away_country_JPN', 'home_team_Cheetahs', 'away_team_Cheetahs',\n",
    "             'home_team_Kings', 'away_team_Kings', 'home_team_Force',\n",
    "             'away_team_Force'], \n",
    "            axis=1,\n",
    "            inplace=True)\n",
    "    \n",
    "    return df"
   ]
  },
  {
   "cell_type": "code",
   "execution_count": 8,
   "metadata": {
    "colab": {
     "base_uri": "https://localhost:8080/",
     "height": 563
    },
    "colab_type": "code",
    "executionInfo": {
     "elapsed": 10187,
     "status": "ok",
     "timestamp": 1551945667992,
     "user": {
      "displayName": "Kieran Donnelly",
      "photoUrl": "https://lh5.googleusercontent.com/-qOCnWQmSPhU/AAAAAAAAAAI/AAAAAAAA3YM/gLNo024IFgk/s64/photo.jpg",
      "userId": "08966570757713512847"
     },
     "user_tz": -120
    },
    "id": "c2lHu0qbI9cC",
    "outputId": "7c717ebc-7f2a-443e-d725-76dc5dadb5b4"
   },
   "outputs": [
    {
     "data": {
      "text/html": [
       "<div>\n",
       "<style scoped>\n",
       "    .dataframe tbody tr th:only-of-type {\n",
       "        vertical-align: middle;\n",
       "    }\n",
       "\n",
       "    .dataframe tbody tr th {\n",
       "        vertical-align: top;\n",
       "    }\n",
       "\n",
       "    .dataframe thead th {\n",
       "        text-align: right;\n",
       "    }\n",
       "</style>\n",
       "<table border=\"1\" class=\"dataframe\">\n",
       "  <thead>\n",
       "    <tr style=\"text-align: right;\">\n",
       "      <th></th>\n",
       "      <th>Bookmakers Surveyed</th>\n",
       "      <th>home_margin</th>\n",
       "      <th>home_win</th>\n",
       "      <th>home_streak</th>\n",
       "      <th>away_streak</th>\n",
       "      <th>home_country_AUS</th>\n",
       "      <th>home_country_NZ</th>\n",
       "      <th>home_country_SA</th>\n",
       "      <th>away_country_AUS</th>\n",
       "      <th>away_country_NZ</th>\n",
       "      <th>...</th>\n",
       "      <th>away_team_Hurricanes</th>\n",
       "      <th>away_team_Jaguares</th>\n",
       "      <th>away_team_Lions</th>\n",
       "      <th>away_team_Rebels</th>\n",
       "      <th>away_team_Reds</th>\n",
       "      <th>away_team_Sharks</th>\n",
       "      <th>away_team_Stormers</th>\n",
       "      <th>away_team_Sunwolves</th>\n",
       "      <th>away_team_Waratahs</th>\n",
       "      <th>home_odds</th>\n",
       "    </tr>\n",
       "  </thead>\n",
       "  <tbody>\n",
       "    <tr>\n",
       "      <th>0</th>\n",
       "      <td>11</td>\n",
       "      <td>0</td>\n",
       "      <td>False</td>\n",
       "      <td>10</td>\n",
       "      <td>1</td>\n",
       "      <td>0</td>\n",
       "      <td>1</td>\n",
       "      <td>0</td>\n",
       "      <td>0</td>\n",
       "      <td>1</td>\n",
       "      <td>...</td>\n",
       "      <td>0</td>\n",
       "      <td>0</td>\n",
       "      <td>0</td>\n",
       "      <td>0</td>\n",
       "      <td>0</td>\n",
       "      <td>0</td>\n",
       "      <td>0</td>\n",
       "      <td>0</td>\n",
       "      <td>0</td>\n",
       "      <td>0.849664</td>\n",
       "    </tr>\n",
       "    <tr>\n",
       "      <th>1</th>\n",
       "      <td>11</td>\n",
       "      <td>0</td>\n",
       "      <td>False</td>\n",
       "      <td>1</td>\n",
       "      <td>-5</td>\n",
       "      <td>1</td>\n",
       "      <td>0</td>\n",
       "      <td>0</td>\n",
       "      <td>0</td>\n",
       "      <td>0</td>\n",
       "      <td>...</td>\n",
       "      <td>0</td>\n",
       "      <td>0</td>\n",
       "      <td>0</td>\n",
       "      <td>0</td>\n",
       "      <td>0</td>\n",
       "      <td>1</td>\n",
       "      <td>0</td>\n",
       "      <td>0</td>\n",
       "      <td>0</td>\n",
       "      <td>0.345154</td>\n",
       "    </tr>\n",
       "    <tr>\n",
       "      <th>2</th>\n",
       "      <td>11</td>\n",
       "      <td>0</td>\n",
       "      <td>False</td>\n",
       "      <td>3</td>\n",
       "      <td>-1</td>\n",
       "      <td>0</td>\n",
       "      <td>1</td>\n",
       "      <td>0</td>\n",
       "      <td>1</td>\n",
       "      <td>0</td>\n",
       "      <td>...</td>\n",
       "      <td>0</td>\n",
       "      <td>0</td>\n",
       "      <td>0</td>\n",
       "      <td>0</td>\n",
       "      <td>0</td>\n",
       "      <td>0</td>\n",
       "      <td>0</td>\n",
       "      <td>0</td>\n",
       "      <td>0</td>\n",
       "      <td>0.856397</td>\n",
       "    </tr>\n",
       "    <tr>\n",
       "      <th>3</th>\n",
       "      <td>11</td>\n",
       "      <td>0</td>\n",
       "      <td>False</td>\n",
       "      <td>1</td>\n",
       "      <td>-5</td>\n",
       "      <td>1</td>\n",
       "      <td>0</td>\n",
       "      <td>0</td>\n",
       "      <td>0</td>\n",
       "      <td>0</td>\n",
       "      <td>...</td>\n",
       "      <td>0</td>\n",
       "      <td>0</td>\n",
       "      <td>0</td>\n",
       "      <td>0</td>\n",
       "      <td>0</td>\n",
       "      <td>0</td>\n",
       "      <td>0</td>\n",
       "      <td>1</td>\n",
       "      <td>0</td>\n",
       "      <td>0.832095</td>\n",
       "    </tr>\n",
       "    <tr>\n",
       "      <th>4</th>\n",
       "      <td>10</td>\n",
       "      <td>0</td>\n",
       "      <td>False</td>\n",
       "      <td>2</td>\n",
       "      <td>-3</td>\n",
       "      <td>0</td>\n",
       "      <td>0</td>\n",
       "      <td>1</td>\n",
       "      <td>0</td>\n",
       "      <td>0</td>\n",
       "      <td>...</td>\n",
       "      <td>0</td>\n",
       "      <td>1</td>\n",
       "      <td>0</td>\n",
       "      <td>0</td>\n",
       "      <td>0</td>\n",
       "      <td>0</td>\n",
       "      <td>0</td>\n",
       "      <td>0</td>\n",
       "      <td>0</td>\n",
       "      <td>0.708061</td>\n",
       "    </tr>\n",
       "  </tbody>\n",
       "</table>\n",
       "<p>5 rows × 42 columns</p>\n",
       "</div>"
      ],
      "text/plain": [
       "   Bookmakers Surveyed  home_margin  home_win  home_streak  away_streak  \\\n",
       "0                   11            0     False           10            1   \n",
       "1                   11            0     False            1           -5   \n",
       "2                   11            0     False            3           -1   \n",
       "3                   11            0     False            1           -5   \n",
       "4                   10            0     False            2           -3   \n",
       "\n",
       "   home_country_AUS  home_country_NZ  home_country_SA  away_country_AUS  \\\n",
       "0                 0                1                0                 0   \n",
       "1                 1                0                0                 0   \n",
       "2                 0                1                0                 1   \n",
       "3                 1                0                0                 0   \n",
       "4                 0                0                1                 0   \n",
       "\n",
       "   away_country_NZ  ...  away_team_Hurricanes  away_team_Jaguares  \\\n",
       "0                1  ...                     0                   0   \n",
       "1                0  ...                     0                   0   \n",
       "2                0  ...                     0                   0   \n",
       "3                0  ...                     0                   0   \n",
       "4                0  ...                     0                   1   \n",
       "\n",
       "   away_team_Lions  away_team_Rebels  away_team_Reds  away_team_Sharks  \\\n",
       "0                0                 0               0                 0   \n",
       "1                0                 0               0                 1   \n",
       "2                0                 0               0                 0   \n",
       "3                0                 0               0                 0   \n",
       "4                0                 0               0                 0   \n",
       "\n",
       "   away_team_Stormers  away_team_Sunwolves  away_team_Waratahs  home_odds  \n",
       "0                   0                    0                   0   0.849664  \n",
       "1                   0                    0                   0   0.345154  \n",
       "2                   0                    0                   0   0.856397  \n",
       "3                   0                    1                   0   0.832095  \n",
       "4                   0                    0                   0   0.708061  \n",
       "\n",
       "[5 rows x 42 columns]"
      ]
     },
     "execution_count": 8,
     "metadata": {},
     "output_type": "execute_result"
    }
   ],
   "source": [
    "df = cleanup(df)\n",
    "df.head()"
   ]
  },
  {
   "cell_type": "code",
   "execution_count": 9,
   "metadata": {
    "colab": {},
    "colab_type": "code",
    "id": "JpFPBAHHI9cF"
   },
   "outputs": [
    {
     "name": "stderr",
     "output_type": "stream",
     "text": [
      "C:\\Users\\jamesl\\AppData\\Local\\Continuum\\anaconda3\\lib\\site-packages\\statsmodels\\tools\\_testing.py:19: FutureWarning: pandas.util.testing is deprecated. Use the functions in the public API at pandas.testing instead.\n",
      "  import pandas.util.testing as tm\n"
     ]
    }
   ],
   "source": [
    "import seaborn as sns"
   ]
  },
  {
   "cell_type": "code",
   "execution_count": 10,
   "metadata": {
    "colab": {},
    "colab_type": "code",
    "id": "AfUwYNN9I9cH"
   },
   "outputs": [
    {
     "data": {
      "text/plain": [
       "<matplotlib.axes._subplots.AxesSubplot at 0x18183c625c8>"
      ]
     },
     "execution_count": 10,
     "metadata": {},
     "output_type": "execute_result"
    },
    {
     "data": {
      "image/png": "[encoded data removed]",
      "text/plain": [
       "<Figure size 432x288 with 1 Axes>"
      ]
     },
     "metadata": {
      "needs_background": "light"
     },
     "output_type": "display_data"
    }
   ],
   "source": [
    "sns.scatterplot(x='home_odds', y='home_margin', data=df)"
   ]
  },
  {
   "cell_type": "code",
   "execution_count": 11,
   "metadata": {
    "colab": {},
    "colab_type": "code",
    "id": "xyDu-sFdI9cK",
    "outputId": "821afd1c-6037-479c-ac1a-f90232ac509f"
   },
   "outputs": [
    {
     "data": {
      "text/plain": [
       "<matplotlib.axes._subplots.AxesSubplot at 0x181843cf708>"
      ]
     },
     "execution_count": 11,
     "metadata": {},
     "output_type": "execute_result"
    },
    {
     "data": {
      "image/png": "[encoded data removed]",
      "text/plain": [
       "<Figure size 432x288 with 1 Axes>"
      ]
     },
     "metadata": {
      "needs_background": "light"
     },
     "output_type": "display_data"
    }
   ],
   "source": [
    "sns.scatterplot(x='home_streak', y='home_margin', data=df)"
   ]
  },
  {
   "cell_type": "code",
   "execution_count": 12,
   "metadata": {
    "colab": {},
    "colab_type": "code",
    "id": "_hjX1QHnI9cM",
    "outputId": "288d5bda-590c-485c-946d-cad8c2ab6df8"
   },
   "outputs": [
    {
     "data": {
      "text/plain": [
       "<matplotlib.axes._subplots.AxesSubplot at 0x1818444f4c8>"
      ]
     },
     "execution_count": 12,
     "metadata": {},
     "output_type": "execute_result"
    },
    {
     "data": {
      "image/png": "[encoded data removed]",
      "text/plain": [
       "<Figure size 432x288 with 1 Axes>"
      ]
     },
     "metadata": {
      "needs_background": "light"
     },
     "output_type": "display_data"
    }
   ],
   "source": [
    "sns.scatterplot(x='away_streak', y='home_margin', data=df)"
   ]
  },
  {
   "cell_type": "code",
   "execution_count": 13,
   "metadata": {
    "colab": {
     "base_uri": "https://localhost:8080/",
     "height": 1599
    },
    "colab_type": "code",
    "executionInfo": {
     "elapsed": 1079,
     "status": "ok",
     "timestamp": 1551945691557,
     "user": {
      "displayName": "Kieran Donnelly",
      "photoUrl": "https://lh5.googleusercontent.com/-qOCnWQmSPhU/AAAAAAAAAAI/AAAAAAAA3YM/gLNo024IFgk/s64/photo.jpg",
      "userId": "08966570757713512847"
     },
     "user_tz": -120
    },
    "id": "Wk6SOtEgI9cP",
    "outputId": "2121ab27-8ddd-4e78-f366-8be029d1d1be"
   },
   "outputs": [
    {
     "data": {
      "text/html": [
       "<div>\n",
       "<style scoped>\n",
       "    .dataframe tbody tr th:only-of-type {\n",
       "        vertical-align: middle;\n",
       "    }\n",
       "\n",
       "    .dataframe tbody tr th {\n",
       "        vertical-align: top;\n",
       "    }\n",
       "\n",
       "    .dataframe thead th {\n",
       "        text-align: right;\n",
       "    }\n",
       "</style>\n",
       "<table border=\"1\" class=\"dataframe\">\n",
       "  <thead>\n",
       "    <tr style=\"text-align: right;\">\n",
       "      <th></th>\n",
       "      <th>count</th>\n",
       "      <th>mean</th>\n",
       "      <th>std</th>\n",
       "      <th>min</th>\n",
       "      <th>25%</th>\n",
       "      <th>50%</th>\n",
       "      <th>75%</th>\n",
       "      <th>max</th>\n",
       "    </tr>\n",
       "  </thead>\n",
       "  <tbody>\n",
       "    <tr>\n",
       "      <th>Bookmakers Surveyed</th>\n",
       "      <td>1372.0</td>\n",
       "      <td>10.008746</td>\n",
       "      <td>0.100673</td>\n",
       "      <td>9.0</td>\n",
       "      <td>10.0</td>\n",
       "      <td>10.0</td>\n",
       "      <td>10.0</td>\n",
       "      <td>11.0</td>\n",
       "    </tr>\n",
       "    <tr>\n",
       "      <th>home_margin</th>\n",
       "      <td>1372.0</td>\n",
       "      <td>4.355685</td>\n",
       "      <td>17.407595</td>\n",
       "      <td>-66.0</td>\n",
       "      <td>-6.0</td>\n",
       "      <td>5.0</td>\n",
       "      <td>15.0</td>\n",
       "      <td>87.0</td>\n",
       "    </tr>\n",
       "    <tr>\n",
       "      <th>home_streak</th>\n",
       "      <td>1372.0</td>\n",
       "      <td>1.104956</td>\n",
       "      <td>3.677844</td>\n",
       "      <td>-15.0</td>\n",
       "      <td>-1.0</td>\n",
       "      <td>1.0</td>\n",
       "      <td>3.0</td>\n",
       "      <td>22.0</td>\n",
       "    </tr>\n",
       "    <tr>\n",
       "      <th>away_streak</th>\n",
       "      <td>1372.0</td>\n",
       "      <td>-1.055394</td>\n",
       "      <td>3.307021</td>\n",
       "      <td>-23.0</td>\n",
       "      <td>-2.0</td>\n",
       "      <td>-1.0</td>\n",
       "      <td>1.0</td>\n",
       "      <td>9.0</td>\n",
       "    </tr>\n",
       "    <tr>\n",
       "      <th>home_country_AUS</th>\n",
       "      <td>1372.0</td>\n",
       "      <td>0.295190</td>\n",
       "      <td>0.456294</td>\n",
       "      <td>0.0</td>\n",
       "      <td>0.0</td>\n",
       "      <td>0.0</td>\n",
       "      <td>1.0</td>\n",
       "      <td>1.0</td>\n",
       "    </tr>\n",
       "  </tbody>\n",
       "</table>\n",
       "</div>"
      ],
      "text/plain": [
       "                      count       mean        std   min   25%   50%   75%  \\\n",
       "Bookmakers Surveyed  1372.0  10.008746   0.100673   9.0  10.0  10.0  10.0   \n",
       "home_margin          1372.0   4.355685  17.407595 -66.0  -6.0   5.0  15.0   \n",
       "home_streak          1372.0   1.104956   3.677844 -15.0  -1.0   1.0   3.0   \n",
       "away_streak          1372.0  -1.055394   3.307021 -23.0  -2.0  -1.0   1.0   \n",
       "home_country_AUS     1372.0   0.295190   0.456294   0.0   0.0   0.0   1.0   \n",
       "\n",
       "                      max  \n",
       "Bookmakers Surveyed  11.0  \n",
       "home_margin          87.0  \n",
       "home_streak          22.0  \n",
       "away_streak           9.0  \n",
       "home_country_AUS      1.0  "
      ]
     },
     "execution_count": 13,
     "metadata": {},
     "output_type": "execute_result"
    }
   ],
   "source": [
    "df.describe().T.head()"
   ]
  },
  {
   "cell_type": "markdown",
   "metadata": {
    "colab_type": "text",
    "id": "YwWlLir6I9cS"
   },
   "source": [
    "### TO DO: Engineer more features which capture form, attack, defense etc"
   ]
  },
  {
   "cell_type": "code",
   "execution_count": 14,
   "metadata": {
    "colab": {},
    "colab_type": "code",
    "id": "Nip3HfwNI9cS"
   },
   "outputs": [],
   "source": [
    "X = df[n_matches:].drop(['home_margin', 'home_win'], axis=1)\n",
    "y = df[n_matches:].home_margin.values"
   ]
  },
  {
   "cell_type": "code",
   "execution_count": 15,
   "metadata": {
    "colab": {},
    "colab_type": "code",
    "id": "Nip3HfwNI9cS"
   },
   "outputs": [],
   "source": [
    "# we will use these later:\n",
    "X_temp = df[:n_matches].drop(['home_margin', 'home_win'], axis=1)\n",
    "y_temp = df[:n_matches].home_margin.values"
   ]
  },
  {
   "cell_type": "code",
   "execution_count": 16,
   "metadata": {},
   "outputs": [
    {
     "data": {
      "text/plain": [
       "(1366,)"
      ]
     },
     "execution_count": 16,
     "metadata": {},
     "output_type": "execute_result"
    }
   ],
   "source": [
    "y.shape"
   ]
  },
  {
   "cell_type": "code",
   "execution_count": 17,
   "metadata": {},
   "outputs": [
    {
     "data": {
      "text/plain": [
       "(1366, 40)"
      ]
     },
     "execution_count": 17,
     "metadata": {},
     "output_type": "execute_result"
    }
   ],
   "source": [
    "X.shape"
   ]
  },
  {
   "cell_type": "markdown",
   "metadata": {},
   "source": [
    "### XG Boost"
   ]
  },
  {
   "cell_type": "code",
   "execution_count": 18,
   "metadata": {
    "colab": {},
    "colab_type": "code",
    "id": "fuRKmrGTTlwV"
   },
   "outputs": [],
   "source": [
    "# set up train/test split with 80/20 proportion\n",
    "X_train, X_test, y_train, y_test = train_test_split(X, y, test_size=0.2)"
   ]
  },
  {
   "cell_type": "code",
   "execution_count": 19,
   "metadata": {},
   "outputs": [],
   "source": [
    "from xgboost import XGBRegressor"
   ]
  },
  {
   "cell_type": "code",
   "execution_count": 20,
   "metadata": {},
   "outputs": [
    {
     "name": "stdout",
     "output_type": "stream",
     "text": [
      "[22:20:04] WARNING: C:/Jenkins/workspace/xgboost-win64_release_0.90/src/objective/regression_obj.cu:152: reg:linear is now deprecated in favor of reg:squarederror.\n"
     ]
    },
    {
     "data": {
      "text/plain": [
       "XGBRegressor(base_score=0.5, booster='gbtree', colsample_bylevel=1,\n",
       "             colsample_bynode=1, colsample_bytree=1, gamma=0,\n",
       "             importance_type='gain', learning_rate=0.1, max_delta_step=0,\n",
       "             max_depth=1, min_child_weight=5, missing=None, n_estimators=100,\n",
       "             n_jobs=1, nthread=1, objective='reg:linear', random_state=0,\n",
       "             reg_alpha=0, reg_lambda=1, scale_pos_weight=1, seed=None,\n",
       "             silent=None, subsample=0.45, verbosity=1)"
      ]
     },
     "execution_count": 20,
     "metadata": {},
     "output_type": "execute_result"
    }
   ],
   "source": [
    "# tpot_data = pd.read_csv('PATH/TO/DATA/FILE', sep='COLUMN_SEPARATOR', dtype=np.float64)\n",
    "# features = tpot_data.drop('target', axis=1).values\n",
    "# training_features, testing_features, training_target, testing_target = \\\n",
    "#             train_test_split(features, tpot_data['target'].values, random_state=None)\n",
    "\n",
    "# Average CV score on the training set was:-216.8006235003758\n",
    "xgb = XGBRegressor(learning_rate=0.1, max_depth=1, min_child_weight=5, n_estimators=100, nthread=1, subsample=0.45)\n",
    "\n",
    "xgb.fit(X_train, y_train)"
   ]
  },
  {
   "cell_type": "markdown",
   "metadata": {},
   "source": [
    "---"
   ]
  },
  {
   "cell_type": "code",
   "execution_count": 21,
   "metadata": {
    "colab": {
     "base_uri": "https://localhost:8080/",
     "height": 34
    },
    "colab_type": "code",
    "executionInfo": {
     "elapsed": 1090,
     "status": "ok",
     "timestamp": 1551945723795,
     "user": {
      "displayName": "Kieran Donnelly",
      "photoUrl": "https://lh5.googleusercontent.com/-qOCnWQmSPhU/AAAAAAAAAAI/AAAAAAAA3YM/gLNo024IFgk/s64/photo.jpg",
      "userId": "08966570757713512847"
     },
     "user_tz": -120
    },
    "id": "OOvdi6F0WJgZ",
    "outputId": "860829a9-b6e7-45b1-9d23-4ddabf76ddc7"
   },
   "outputs": [
    {
     "data": {
      "text/plain": [
       "15.570950798983427"
      ]
     },
     "execution_count": 21,
     "metadata": {},
     "output_type": "execute_result"
    }
   ],
   "source": [
    "# Use the model's predict method on the test data\n",
    "np.sqrt(mean_squared_error(xgb.predict(X_test), y_test))"
   ]
  },
  {
   "cell_type": "code",
   "execution_count": 22,
   "metadata": {
    "colab": {
     "base_uri": "https://localhost:8080/",
     "height": 34
    },
    "colab_type": "code",
    "executionInfo": {
     "elapsed": 1292,
     "status": "ok",
     "timestamp": 1551945726772,
     "user": {
      "displayName": "Kieran Donnelly",
      "photoUrl": "https://lh5.googleusercontent.com/-qOCnWQmSPhU/AAAAAAAAAAI/AAAAAAAA3YM/gLNo024IFgk/s64/photo.jpg",
      "userId": "08966570757713512847"
     },
     "user_tz": -120
    },
    "id": "YRYNiHYNI9ck",
    "outputId": "03bb651c-9995-4a99-f771-f7a79ef2d5d6"
   },
   "outputs": [
    {
     "data": {
      "text/plain": [
       "11.837633934116711"
      ]
     },
     "execution_count": 22,
     "metadata": {},
     "output_type": "execute_result"
    }
   ],
   "source": [
    "mean_absolute_error(y_test, xgb.predict(X_test))"
   ]
  },
  {
   "cell_type": "markdown",
   "metadata": {
    "colab_type": "text",
    "id": "gLHinnhzI9c6"
   },
   "source": [
    "## Make predictions for upcoming week"
   ]
  },
  {
   "cell_type": "code",
   "execution_count": 23,
   "metadata": {
    "colab": {
     "base_uri": "https://localhost:8080/",
     "height": 136
    },
    "colab_type": "code",
    "executionInfo": {
     "elapsed": 2812,
     "status": "ok",
     "timestamp": 1551946869126,
     "user": {
      "displayName": "Kieran Donnelly",
      "photoUrl": "https://lh5.googleusercontent.com/-qOCnWQmSPhU/AAAAAAAAAAI/AAAAAAAA3YM/gLNo024IFgk/s64/photo.jpg",
      "userId": "08966570757713512847"
     },
     "user_tz": -120
    },
    "id": "W2L2WMCSI9dE",
    "outputId": "9161e521-5295-4c74-d4fa-34501b61c823"
   },
   "outputs": [
    {
     "data": {
      "text/plain": [
       "array([[16.262916564941406, 'Crusaders', 'Highlanders'],\n",
       "       [-5.349008083343506, 'Rebels', 'Sharks'],\n",
       "       [16.685640335083008, 'Chiefs', 'Brumbies'],\n",
       "       [14.835131645202637, 'Reds', 'Sunwolves'],\n",
       "       [5.8993988037109375, 'Stormers', 'Jaguares'],\n",
       "       [-0.4188348054885864, 'Bulls', 'Blues']], dtype=object)"
      ]
     },
     "execution_count": 23,
     "metadata": {},
     "output_type": "execute_result"
    }
   ],
   "source": [
    "# predict for upcoming week\n",
    "np.vstack((xgb.predict(X_temp), spare['Home Team'][:n_matches], spare['Away Team'][:n_matches])).T"
   ]
  },
  {
   "cell_type": "code",
   "execution_count": 24,
   "metadata": {
    "colab": {},
    "colab_type": "code",
    "id": "Oaf4jO-7Lzd0"
   },
   "outputs": [],
   "source": [
    "temp = np.vstack((xgb.predict(X_temp), spare['Home Team'][:n_matches], spare['Away Team'][:n_matches])).T"
   ]
  },
  {
   "cell_type": "code",
   "execution_count": 25,
   "metadata": {
    "colab": {},
    "colab_type": "code",
    "id": "smWtk-ptM1P3"
   },
   "outputs": [],
   "source": [
    "preds_df = pd.DataFrame(temp, columns=[\"Home_Margin\", \"Home_Team\", \"Away_Team\"])"
   ]
  },
  {
   "cell_type": "code",
   "execution_count": 26,
   "metadata": {
    "colab": {
     "base_uri": "https://localhost:8080/",
     "height": 266
    },
    "colab_type": "code",
    "executionInfo": {
     "elapsed": 807,
     "status": "ok",
     "timestamp": 1551946869131,
     "user": {
      "displayName": "Kieran Donnelly",
      "photoUrl": "https://lh5.googleusercontent.com/-qOCnWQmSPhU/AAAAAAAAAAI/AAAAAAAA3YM/gLNo024IFgk/s64/photo.jpg",
      "userId": "08966570757713512847"
     },
     "user_tz": -120
    },
    "id": "Q1sEAiR-M5Va",
    "outputId": "f63b4b87-ac17-4a40-c8d7-2f24f2442ded"
   },
   "outputs": [
    {
     "data": {
      "text/html": [
       "<div>\n",
       "<style scoped>\n",
       "    .dataframe tbody tr th:only-of-type {\n",
       "        vertical-align: middle;\n",
       "    }\n",
       "\n",
       "    .dataframe tbody tr th {\n",
       "        vertical-align: top;\n",
       "    }\n",
       "\n",
       "    .dataframe thead th {\n",
       "        text-align: right;\n",
       "    }\n",
       "</style>\n",
       "<table border=\"1\" class=\"dataframe\">\n",
       "  <thead>\n",
       "    <tr style=\"text-align: right;\">\n",
       "      <th></th>\n",
       "      <th>Home_Margin</th>\n",
       "      <th>Home_Team</th>\n",
       "      <th>Away_Team</th>\n",
       "    </tr>\n",
       "  </thead>\n",
       "  <tbody>\n",
       "    <tr>\n",
       "      <th>0</th>\n",
       "      <td>16</td>\n",
       "      <td>Crusaders</td>\n",
       "      <td>Highlanders</td>\n",
       "    </tr>\n",
       "    <tr>\n",
       "      <th>1</th>\n",
       "      <td>-5</td>\n",
       "      <td>Rebels</td>\n",
       "      <td>Sharks</td>\n",
       "    </tr>\n",
       "    <tr>\n",
       "      <th>2</th>\n",
       "      <td>17</td>\n",
       "      <td>Chiefs</td>\n",
       "      <td>Brumbies</td>\n",
       "    </tr>\n",
       "    <tr>\n",
       "      <th>3</th>\n",
       "      <td>15</td>\n",
       "      <td>Reds</td>\n",
       "      <td>Sunwolves</td>\n",
       "    </tr>\n",
       "    <tr>\n",
       "      <th>4</th>\n",
       "      <td>6</td>\n",
       "      <td>Stormers</td>\n",
       "      <td>Jaguares</td>\n",
       "    </tr>\n",
       "    <tr>\n",
       "      <th>5</th>\n",
       "      <td>0</td>\n",
       "      <td>Bulls</td>\n",
       "      <td>Blues</td>\n",
       "    </tr>\n",
       "  </tbody>\n",
       "</table>\n",
       "</div>"
      ],
      "text/plain": [
       "   Home_Margin  Home_Team    Away_Team\n",
       "0           16  Crusaders  Highlanders\n",
       "1           -5     Rebels       Sharks\n",
       "2           17     Chiefs     Brumbies\n",
       "3           15       Reds    Sunwolves\n",
       "4            6   Stormers     Jaguares\n",
       "5            0      Bulls        Blues"
      ]
     },
     "execution_count": 26,
     "metadata": {},
     "output_type": "execute_result"
    }
   ],
   "source": [
    "preds_df[\"Home_Margin\"] = preds_df.Home_Margin.apply(lambda x: int(np.round(x, 0)))\n",
    "preds_df"
   ]
  },
  {
   "cell_type": "code",
   "execution_count": null,
   "metadata": {},
   "outputs": [],
   "source": []
  }
 ],
 "metadata": {
  "colab": {
   "collapsed_sections": [],
   "name": "Super_Rugby_Predictor_James_22_Feb.ipynb",
   "provenance": [],
   "toc_visible": true,
   "version": "0.3.2"
  },
  "kernelspec": {
   "display_name": "Python 3",
   "language": "python",
   "name": "python3"
  },
  "language_info": {
   "codemirror_mode": {
    "name": "ipython",
    "version": 3
   },
   "file_extension": ".py",
   "mimetype": "text/x-python",
   "name": "python",
   "nbconvert_exporter": "python",
   "pygments_lexer": "ipython3",
   "version": "3.7.6"
  }
 },
 "nbformat": 4,
 "nbformat_minor": 4
}
