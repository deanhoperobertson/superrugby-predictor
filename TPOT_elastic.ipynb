{
 "cells": [
  {
   "cell_type": "code",
   "execution_count": 1,
   "metadata": {
    "colab": {},
    "colab_type": "code",
    "id": "a1jqgM4V-5HE"
   },
   "outputs": [],
   "source": [
    "import pandas as pd\n",
    "import numpy as np\n",
    "from superugby import cleanup\n",
    "from sklearn.model_selection import train_test_split\n",
    "from sklearn.metrics import mean_squared_error, mean_absolute_error"
   ]
  },
  {
   "cell_type": "code",
   "execution_count": 2,
   "metadata": {
    "colab": {},
    "colab_type": "code",
    "id": "8gZRyWwC_8Rz"
   },
   "outputs": [],
   "source": [
    "results = pd.read_csv(\"https://raw.githubusercontent.com/kieranbd/superrugby-predictor/master/super_rugby_oddsportal.csv\").drop('Play-off Game?', axis=1).dropna()"
   ]
  },
  {
   "cell_type": "markdown",
   "metadata": {},
   "source": [
    "Take a look at the upcoming fixtures (for weekend 15 March, 2019)"
   ]
  },
  {
   "cell_type": "code",
   "execution_count": 3,
   "metadata": {
    "colab": {
     "base_uri": "https://localhost:8080/",
     "height": 266
    },
    "colab_type": "code",
    "executionInfo": {
     "elapsed": 791,
     "status": "ok",
     "timestamp": 1551945609721,
     "user": {
      "displayName": "Kieran Donnelly",
      "photoUrl": "https://lh5.googleusercontent.com/-qOCnWQmSPhU/AAAAAAAAAAI/AAAAAAAA3YM/gLNo024IFgk/s64/photo.jpg",
      "userId": "08966570757713512847"
     },
     "user_tz": -120
    },
    "id": "dzIWDm27wuCk",
    "outputId": "9c23bc17-76ac-4b07-f3fe-17e5b91de13b"
   },
   "outputs": [
    {
     "data": {
      "text/html": [
       "<div>\n",
       "<style scoped>\n",
       "    .dataframe tbody tr th:only-of-type {\n",
       "        vertical-align: middle;\n",
       "    }\n",
       "\n",
       "    .dataframe tbody tr th {\n",
       "        vertical-align: top;\n",
       "    }\n",
       "\n",
       "    .dataframe thead th {\n",
       "        text-align: right;\n",
       "    }\n",
       "</style>\n",
       "<table border=\"1\" class=\"dataframe\">\n",
       "  <thead>\n",
       "    <tr style=\"text-align: right;\">\n",
       "      <th></th>\n",
       "      <th>Date</th>\n",
       "      <th>Home Team</th>\n",
       "      <th>Away Team</th>\n",
       "      <th>Home Score</th>\n",
       "      <th>Away Score</th>\n",
       "      <th>Home Odds</th>\n",
       "      <th>Draw Odds</th>\n",
       "      <th>Away Odds</th>\n",
       "      <th>Bookmakers Surveyed</th>\n",
       "    </tr>\n",
       "  </thead>\n",
       "  <tbody>\n",
       "    <tr>\n",
       "      <th>0</th>\n",
       "      <td>15-Mar-19</td>\n",
       "      <td>Chiefs</td>\n",
       "      <td>Hurricanes</td>\n",
       "      <td>0.0</td>\n",
       "      <td>0.0</td>\n",
       "      <td>3.25</td>\n",
       "      <td>23.03</td>\n",
       "      <td>1.35</td>\n",
       "      <td>11.0</td>\n",
       "    </tr>\n",
       "    <tr>\n",
       "      <th>1</th>\n",
       "      <td>15-Mar-19</td>\n",
       "      <td>Brumbies</td>\n",
       "      <td>Waratahs</td>\n",
       "      <td>0.0</td>\n",
       "      <td>0.0</td>\n",
       "      <td>1.93</td>\n",
       "      <td>21.91</td>\n",
       "      <td>1.89</td>\n",
       "      <td>11.0</td>\n",
       "    </tr>\n",
       "    <tr>\n",
       "      <th>2</th>\n",
       "      <td>15-Mar-19</td>\n",
       "      <td>Stormers</td>\n",
       "      <td>Jaguares</td>\n",
       "      <td>0.0</td>\n",
       "      <td>0.0</td>\n",
       "      <td>1.31</td>\n",
       "      <td>23.44</td>\n",
       "      <td>3.46</td>\n",
       "      <td>11.0</td>\n",
       "    </tr>\n",
       "    <tr>\n",
       "      <th>3</th>\n",
       "      <td>16-Mar-19</td>\n",
       "      <td>Sunwolves</td>\n",
       "      <td>Reds</td>\n",
       "      <td>0.0</td>\n",
       "      <td>0.0</td>\n",
       "      <td>1.63</td>\n",
       "      <td>20.95</td>\n",
       "      <td>2.32</td>\n",
       "      <td>11.0</td>\n",
       "    </tr>\n",
       "    <tr>\n",
       "      <th>4</th>\n",
       "      <td>16-Mar-19</td>\n",
       "      <td>Highlanders</td>\n",
       "      <td>Crusaders</td>\n",
       "      <td>0.0</td>\n",
       "      <td>0.0</td>\n",
       "      <td>3.50</td>\n",
       "      <td>23.42</td>\n",
       "      <td>1.32</td>\n",
       "      <td>11.0</td>\n",
       "    </tr>\n",
       "    <tr>\n",
       "      <th>5</th>\n",
       "      <td>16-Mar-19</td>\n",
       "      <td>Lions</td>\n",
       "      <td>Rebels</td>\n",
       "      <td>0.0</td>\n",
       "      <td>0.0</td>\n",
       "      <td>1.34</td>\n",
       "      <td>23.84</td>\n",
       "      <td>3.32</td>\n",
       "      <td>10.0</td>\n",
       "    </tr>\n",
       "  </tbody>\n",
       "</table>\n",
       "</div>"
      ],
      "text/plain": [
       "        Date    Home Team   Away Team  Home Score  Away Score  Home Odds  \\\n",
       "0  15-Mar-19       Chiefs  Hurricanes         0.0         0.0       3.25   \n",
       "1  15-Mar-19     Brumbies    Waratahs         0.0         0.0       1.93   \n",
       "2  15-Mar-19     Stormers    Jaguares         0.0         0.0       1.31   \n",
       "3  16-Mar-19    Sunwolves        Reds         0.0         0.0       1.63   \n",
       "4  16-Mar-19  Highlanders   Crusaders         0.0         0.0       3.50   \n",
       "5  16-Mar-19        Lions      Rebels         0.0         0.0       1.34   \n",
       "\n",
       "   Draw Odds  Away Odds  Bookmakers Surveyed  \n",
       "0      23.03       1.35                 11.0  \n",
       "1      21.91       1.89                 11.0  \n",
       "2      23.44       3.46                 11.0  \n",
       "3      20.95       2.32                 11.0  \n",
       "4      23.42       1.32                 11.0  \n",
       "5      23.84       3.32                 10.0  "
      ]
     },
     "execution_count": 3,
     "metadata": {},
     "output_type": "execute_result"
    }
   ],
   "source": [
    "results.head(6)"
   ]
  },
  {
   "cell_type": "markdown",
   "metadata": {},
   "source": [
    "## Engineer features which capture form\n",
    "The functions below will work row-by-row, returning the win (or loss) streak for both home and away teams.\n",
    "\n",
    "### Home and away streak\n",
    "Home streak is the active win (or loss) streak for the team playing at home, in their most recent home games.   \n",
    "Away streak is the same, but for the visiting team in their most recent away fixtures.   \n",
    "\n",
    "### Home and away margins\n",
    "Home average margin is the average margin (relative to home team) for the home team in their last n games at home. For example, a value of 5 means that the home side in this fixture is averaging a winning margin of 5 in their last n games at home.   \n",
    "\n",
    "Away average margin is the same, but for the visiting team in last n away games. A positive number means that the away side has scored more points away from home than they have conceded in last n away games.   "
   ]
  },
  {
   "cell_type": "markdown",
   "metadata": {},
   "source": [
    "## Encode all team names and nationalities\n",
    "All team names have been one hot encoding into separate columns, with additional columns for the (generalized) nationalities of the teams."
   ]
  },
  {
   "cell_type": "code",
   "execution_count": 4,
   "metadata": {
    "colab": {
     "base_uri": "https://localhost:8080/",
     "height": 563
    },
    "colab_type": "code",
    "executionInfo": {
     "elapsed": 10187,
     "status": "ok",
     "timestamp": 1551945667992,
     "user": {
      "displayName": "Kieran Donnelly",
      "photoUrl": "https://lh5.googleusercontent.com/-qOCnWQmSPhU/AAAAAAAAAAI/AAAAAAAA3YM/gLNo024IFgk/s64/photo.jpg",
      "userId": "08966570757713512847"
     },
     "user_tz": -120
    },
    "id": "c2lHu0qbI9cC",
    "outputId": "7c717ebc-7f2a-443e-d725-76dc5dadb5b4"
   },
   "outputs": [
    {
     "data": {
      "text/html": [
       "<div>\n",
       "<style scoped>\n",
       "    .dataframe tbody tr th:only-of-type {\n",
       "        vertical-align: middle;\n",
       "    }\n",
       "\n",
       "    .dataframe tbody tr th {\n",
       "        vertical-align: top;\n",
       "    }\n",
       "\n",
       "    .dataframe thead th {\n",
       "        text-align: right;\n",
       "    }\n",
       "</style>\n",
       "<table border=\"1\" class=\"dataframe\">\n",
       "  <thead>\n",
       "    <tr style=\"text-align: right;\">\n",
       "      <th></th>\n",
       "      <th>Date</th>\n",
       "      <th>home_margin</th>\n",
       "      <th>home_win</th>\n",
       "      <th>home_streak</th>\n",
       "      <th>home_avg_marg</th>\n",
       "      <th>away_streak</th>\n",
       "      <th>away_avg_marg</th>\n",
       "      <th>home_country_AUS</th>\n",
       "      <th>home_country_NZ</th>\n",
       "      <th>home_country_SA</th>\n",
       "      <th>...</th>\n",
       "      <th>away_team_Hurricanes</th>\n",
       "      <th>away_team_Jaguares</th>\n",
       "      <th>away_team_Lions</th>\n",
       "      <th>away_team_Rebels</th>\n",
       "      <th>away_team_Reds</th>\n",
       "      <th>away_team_Sharks</th>\n",
       "      <th>away_team_Stormers</th>\n",
       "      <th>away_team_Sunwolves</th>\n",
       "      <th>away_team_Waratahs</th>\n",
       "      <th>home_odds</th>\n",
       "    </tr>\n",
       "  </thead>\n",
       "  <tbody>\n",
       "    <tr>\n",
       "      <th>0</th>\n",
       "      <td>2019-03-15</td>\n",
       "      <td>0.0</td>\n",
       "      <td>False</td>\n",
       "      <td>-2</td>\n",
       "      <td>-4.6</td>\n",
       "      <td>-1</td>\n",
       "      <td>-9.8</td>\n",
       "      <td>0</td>\n",
       "      <td>1</td>\n",
       "      <td>0</td>\n",
       "      <td>...</td>\n",
       "      <td>1</td>\n",
       "      <td>0</td>\n",
       "      <td>0</td>\n",
       "      <td>0</td>\n",
       "      <td>0</td>\n",
       "      <td>0</td>\n",
       "      <td>0</td>\n",
       "      <td>0</td>\n",
       "      <td>0</td>\n",
       "      <td>0.293478</td>\n",
       "    </tr>\n",
       "    <tr>\n",
       "      <th>1</th>\n",
       "      <td>2019-03-15</td>\n",
       "      <td>0.0</td>\n",
       "      <td>False</td>\n",
       "      <td>1</td>\n",
       "      <td>9.8</td>\n",
       "      <td>1</td>\n",
       "      <td>-2.6</td>\n",
       "      <td>1</td>\n",
       "      <td>0</td>\n",
       "      <td>0</td>\n",
       "      <td>...</td>\n",
       "      <td>0</td>\n",
       "      <td>0</td>\n",
       "      <td>0</td>\n",
       "      <td>0</td>\n",
       "      <td>0</td>\n",
       "      <td>0</td>\n",
       "      <td>0</td>\n",
       "      <td>0</td>\n",
       "      <td>1</td>\n",
       "      <td>0.494764</td>\n",
       "    </tr>\n",
       "    <tr>\n",
       "      <th>2</th>\n",
       "      <td>2019-03-15</td>\n",
       "      <td>0.0</td>\n",
       "      <td>False</td>\n",
       "      <td>2</td>\n",
       "      <td>3.2</td>\n",
       "      <td>-4</td>\n",
       "      <td>-8.0</td>\n",
       "      <td>0</td>\n",
       "      <td>0</td>\n",
       "      <td>1</td>\n",
       "      <td>...</td>\n",
       "      <td>0</td>\n",
       "      <td>1</td>\n",
       "      <td>0</td>\n",
       "      <td>0</td>\n",
       "      <td>0</td>\n",
       "      <td>0</td>\n",
       "      <td>0</td>\n",
       "      <td>0</td>\n",
       "      <td>0</td>\n",
       "      <td>0.725367</td>\n",
       "    </tr>\n",
       "    <tr>\n",
       "      <th>3</th>\n",
       "      <td>2019-03-16</td>\n",
       "      <td>0.0</td>\n",
       "      <td>False</td>\n",
       "      <td>-2</td>\n",
       "      <td>1.4</td>\n",
       "      <td>-8</td>\n",
       "      <td>-15.6</td>\n",
       "      <td>0</td>\n",
       "      <td>0</td>\n",
       "      <td>0</td>\n",
       "      <td>...</td>\n",
       "      <td>0</td>\n",
       "      <td>0</td>\n",
       "      <td>0</td>\n",
       "      <td>0</td>\n",
       "      <td>1</td>\n",
       "      <td>0</td>\n",
       "      <td>0</td>\n",
       "      <td>0</td>\n",
       "      <td>0</td>\n",
       "      <td>0.587342</td>\n",
       "    </tr>\n",
       "    <tr>\n",
       "      <th>4</th>\n",
       "      <td>2019-03-16</td>\n",
       "      <td>0.0</td>\n",
       "      <td>False</td>\n",
       "      <td>2</td>\n",
       "      <td>3.2</td>\n",
       "      <td>8</td>\n",
       "      <td>15.8</td>\n",
       "      <td>0</td>\n",
       "      <td>1</td>\n",
       "      <td>0</td>\n",
       "      <td>...</td>\n",
       "      <td>0</td>\n",
       "      <td>0</td>\n",
       "      <td>0</td>\n",
       "      <td>0</td>\n",
       "      <td>0</td>\n",
       "      <td>0</td>\n",
       "      <td>0</td>\n",
       "      <td>0</td>\n",
       "      <td>0</td>\n",
       "      <td>0.273859</td>\n",
       "    </tr>\n",
       "    <tr>\n",
       "      <th>5</th>\n",
       "      <td>2019-03-16</td>\n",
       "      <td>0.0</td>\n",
       "      <td>False</td>\n",
       "      <td>1</td>\n",
       "      <td>10.2</td>\n",
       "      <td>1</td>\n",
       "      <td>-0.0</td>\n",
       "      <td>0</td>\n",
       "      <td>0</td>\n",
       "      <td>1</td>\n",
       "      <td>...</td>\n",
       "      <td>0</td>\n",
       "      <td>0</td>\n",
       "      <td>0</td>\n",
       "      <td>1</td>\n",
       "      <td>0</td>\n",
       "      <td>0</td>\n",
       "      <td>0</td>\n",
       "      <td>0</td>\n",
       "      <td>0</td>\n",
       "      <td>0.712446</td>\n",
       "    </tr>\n",
       "    <tr>\n",
       "      <th>6</th>\n",
       "      <td>2019-03-08</td>\n",
       "      <td>3.0</td>\n",
       "      <td>True</td>\n",
       "      <td>11</td>\n",
       "      <td>12.4</td>\n",
       "      <td>-1</td>\n",
       "      <td>-5.8</td>\n",
       "      <td>0</td>\n",
       "      <td>1</td>\n",
       "      <td>0</td>\n",
       "      <td>...</td>\n",
       "      <td>0</td>\n",
       "      <td>0</td>\n",
       "      <td>0</td>\n",
       "      <td>0</td>\n",
       "      <td>0</td>\n",
       "      <td>0</td>\n",
       "      <td>0</td>\n",
       "      <td>0</td>\n",
       "      <td>0</td>\n",
       "      <td>0.740443</td>\n",
       "    </tr>\n",
       "    <tr>\n",
       "      <th>7</th>\n",
       "      <td>2019-03-08</td>\n",
       "      <td>3.0</td>\n",
       "      <td>True</td>\n",
       "      <td>1</td>\n",
       "      <td>-4.2</td>\n",
       "      <td>-1</td>\n",
       "      <td>-6.8</td>\n",
       "      <td>1</td>\n",
       "      <td>0</td>\n",
       "      <td>0</td>\n",
       "      <td>...</td>\n",
       "      <td>0</td>\n",
       "      <td>0</td>\n",
       "      <td>0</td>\n",
       "      <td>0</td>\n",
       "      <td>0</td>\n",
       "      <td>0</td>\n",
       "      <td>0</td>\n",
       "      <td>0</td>\n",
       "      <td>0</td>\n",
       "      <td>0.610422</td>\n",
       "    </tr>\n",
       "    <tr>\n",
       "      <th>8</th>\n",
       "      <td>2019-03-09</td>\n",
       "      <td>29.0</td>\n",
       "      <td>True</td>\n",
       "      <td>21</td>\n",
       "      <td>24.0</td>\n",
       "      <td>-2</td>\n",
       "      <td>-2.6</td>\n",
       "      <td>0</td>\n",
       "      <td>1</td>\n",
       "      <td>0</td>\n",
       "      <td>...</td>\n",
       "      <td>0</td>\n",
       "      <td>0</td>\n",
       "      <td>0</td>\n",
       "      <td>0</td>\n",
       "      <td>0</td>\n",
       "      <td>0</td>\n",
       "      <td>0</td>\n",
       "      <td>0</td>\n",
       "      <td>0</td>\n",
       "      <td>0.826807</td>\n",
       "    </tr>\n",
       "    <tr>\n",
       "      <th>9</th>\n",
       "      <td>2019-03-09</td>\n",
       "      <td>8.0</td>\n",
       "      <td>True</td>\n",
       "      <td>-1</td>\n",
       "      <td>-3.6</td>\n",
       "      <td>1</td>\n",
       "      <td>-19.0</td>\n",
       "      <td>0</td>\n",
       "      <td>1</td>\n",
       "      <td>0</td>\n",
       "      <td>...</td>\n",
       "      <td>0</td>\n",
       "      <td>0</td>\n",
       "      <td>0</td>\n",
       "      <td>0</td>\n",
       "      <td>0</td>\n",
       "      <td>0</td>\n",
       "      <td>0</td>\n",
       "      <td>1</td>\n",
       "      <td>0</td>\n",
       "      <td>0.818466</td>\n",
       "    </tr>\n",
       "  </tbody>\n",
       "</table>\n",
       "<p>10 rows × 44 columns</p>\n",
       "</div>"
      ],
      "text/plain": [
       "        Date  home_margin  home_win  home_streak  home_avg_marg  away_streak  \\\n",
       "0 2019-03-15          0.0     False           -2           -4.6           -1   \n",
       "1 2019-03-15          0.0     False            1            9.8            1   \n",
       "2 2019-03-15          0.0     False            2            3.2           -4   \n",
       "3 2019-03-16          0.0     False           -2            1.4           -8   \n",
       "4 2019-03-16          0.0     False            2            3.2            8   \n",
       "5 2019-03-16          0.0     False            1           10.2            1   \n",
       "6 2019-03-08          3.0      True           11           12.4           -1   \n",
       "7 2019-03-08          3.0      True            1           -4.2           -1   \n",
       "8 2019-03-09         29.0      True           21           24.0           -2   \n",
       "9 2019-03-09          8.0      True           -1           -3.6            1   \n",
       "\n",
       "   away_avg_marg  home_country_AUS  home_country_NZ  home_country_SA  \\\n",
       "0           -9.8                 0                1                0   \n",
       "1           -2.6                 1                0                0   \n",
       "2           -8.0                 0                0                1   \n",
       "3          -15.6                 0                0                0   \n",
       "4           15.8                 0                1                0   \n",
       "5           -0.0                 0                0                1   \n",
       "6           -5.8                 0                1                0   \n",
       "7           -6.8                 1                0                0   \n",
       "8           -2.6                 0                1                0   \n",
       "9          -19.0                 0                1                0   \n",
       "\n",
       "     ...      away_team_Hurricanes  away_team_Jaguares  away_team_Lions  \\\n",
       "0    ...                         1                   0                0   \n",
       "1    ...                         0                   0                0   \n",
       "2    ...                         0                   1                0   \n",
       "3    ...                         0                   0                0   \n",
       "4    ...                         0                   0                0   \n",
       "5    ...                         0                   0                0   \n",
       "6    ...                         0                   0                0   \n",
       "7    ...                         0                   0                0   \n",
       "8    ...                         0                   0                0   \n",
       "9    ...                         0                   0                0   \n",
       "\n",
       "   away_team_Rebels  away_team_Reds  away_team_Sharks  away_team_Stormers  \\\n",
       "0                 0               0                 0                   0   \n",
       "1                 0               0                 0                   0   \n",
       "2                 0               0                 0                   0   \n",
       "3                 0               1                 0                   0   \n",
       "4                 0               0                 0                   0   \n",
       "5                 1               0                 0                   0   \n",
       "6                 0               0                 0                   0   \n",
       "7                 0               0                 0                   0   \n",
       "8                 0               0                 0                   0   \n",
       "9                 0               0                 0                   0   \n",
       "\n",
       "   away_team_Sunwolves  away_team_Waratahs  home_odds  \n",
       "0                    0                   0   0.293478  \n",
       "1                    0                   1   0.494764  \n",
       "2                    0                   0   0.725367  \n",
       "3                    0                   0   0.587342  \n",
       "4                    0                   0   0.273859  \n",
       "5                    0                   0   0.712446  \n",
       "6                    0                   0   0.740443  \n",
       "7                    0                   0   0.610422  \n",
       "8                    0                   0   0.826807  \n",
       "9                    1                   0   0.818466  \n",
       "\n",
       "[10 rows x 44 columns]"
      ]
     },
     "execution_count": 4,
     "metadata": {},
     "output_type": "execute_result"
    }
   ],
   "source": [
    "df = cleanup(results)\n",
    "df.head(10)"
   ]
  },
  {
   "cell_type": "markdown",
   "metadata": {},
   "source": [
    "## Model fitting"
   ]
  },
  {
   "cell_type": "code",
   "execution_count": 5,
   "metadata": {},
   "outputs": [],
   "source": [
    "from sklearn.preprocessing import StandardScaler\n",
    "from sklearn.model_selection import GridSearchCV"
   ]
  },
  {
   "cell_type": "code",
   "execution_count": 6,
   "metadata": {},
   "outputs": [],
   "source": [
    "# scale numerical features\n",
    "scaler = StandardScaler()\n",
    "\n",
    "numeric = ['home_streak', 'home_avg_marg', 'away_streak', 'away_avg_marg', 'home_odds']\n",
    "df[numeric] = scaler.fit_transform(df[numeric].astype('float64'))"
   ]
  },
  {
   "cell_type": "code",
   "execution_count": 7,
   "metadata": {},
   "outputs": [
    {
     "data": {
      "text/html": [
       "<div>\n",
       "<style scoped>\n",
       "    .dataframe tbody tr th:only-of-type {\n",
       "        vertical-align: middle;\n",
       "    }\n",
       "\n",
       "    .dataframe tbody tr th {\n",
       "        vertical-align: top;\n",
       "    }\n",
       "\n",
       "    .dataframe thead th {\n",
       "        text-align: right;\n",
       "    }\n",
       "</style>\n",
       "<table border=\"1\" class=\"dataframe\">\n",
       "  <thead>\n",
       "    <tr style=\"text-align: right;\">\n",
       "      <th></th>\n",
       "      <th>Date</th>\n",
       "      <th>home_margin</th>\n",
       "      <th>home_win</th>\n",
       "      <th>home_streak</th>\n",
       "      <th>home_avg_marg</th>\n",
       "      <th>away_streak</th>\n",
       "      <th>away_avg_marg</th>\n",
       "      <th>home_country_AUS</th>\n",
       "      <th>home_country_NZ</th>\n",
       "      <th>home_country_SA</th>\n",
       "      <th>...</th>\n",
       "      <th>away_team_Hurricanes</th>\n",
       "      <th>away_team_Jaguares</th>\n",
       "      <th>away_team_Lions</th>\n",
       "      <th>away_team_Rebels</th>\n",
       "      <th>away_team_Reds</th>\n",
       "      <th>away_team_Sharks</th>\n",
       "      <th>away_team_Stormers</th>\n",
       "      <th>away_team_Sunwolves</th>\n",
       "      <th>away_team_Waratahs</th>\n",
       "      <th>home_odds</th>\n",
       "    </tr>\n",
       "  </thead>\n",
       "  <tbody>\n",
       "    <tr>\n",
       "      <th>0</th>\n",
       "      <td>2019-03-15</td>\n",
       "      <td>0.0</td>\n",
       "      <td>False</td>\n",
       "      <td>-0.837236</td>\n",
       "      <td>-0.893591</td>\n",
       "      <td>0.044243</td>\n",
       "      <td>-0.528144</td>\n",
       "      <td>0</td>\n",
       "      <td>1</td>\n",
       "      <td>0</td>\n",
       "      <td>...</td>\n",
       "      <td>1</td>\n",
       "      <td>0</td>\n",
       "      <td>0</td>\n",
       "      <td>0</td>\n",
       "      <td>0</td>\n",
       "      <td>0</td>\n",
       "      <td>0</td>\n",
       "      <td>0</td>\n",
       "      <td>0</td>\n",
       "      <td>-1.392866</td>\n",
       "    </tr>\n",
       "    <tr>\n",
       "      <th>1</th>\n",
       "      <td>2019-03-15</td>\n",
       "      <td>0.0</td>\n",
       "      <td>False</td>\n",
       "      <td>-0.049946</td>\n",
       "      <td>0.526639</td>\n",
       "      <td>0.627873</td>\n",
       "      <td>0.199323</td>\n",
       "      <td>1</td>\n",
       "      <td>0</td>\n",
       "      <td>0</td>\n",
       "      <td>...</td>\n",
       "      <td>0</td>\n",
       "      <td>0</td>\n",
       "      <td>0</td>\n",
       "      <td>0</td>\n",
       "      <td>0</td>\n",
       "      <td>0</td>\n",
       "      <td>0</td>\n",
       "      <td>0</td>\n",
       "      <td>1</td>\n",
       "      <td>-0.458074</td>\n",
       "    </tr>\n",
       "    <tr>\n",
       "      <th>2</th>\n",
       "      <td>2019-03-15</td>\n",
       "      <td>0.0</td>\n",
       "      <td>False</td>\n",
       "      <td>0.212484</td>\n",
       "      <td>-0.124300</td>\n",
       "      <td>-0.831203</td>\n",
       "      <td>-0.346277</td>\n",
       "      <td>0</td>\n",
       "      <td>0</td>\n",
       "      <td>1</td>\n",
       "      <td>...</td>\n",
       "      <td>0</td>\n",
       "      <td>1</td>\n",
       "      <td>0</td>\n",
       "      <td>0</td>\n",
       "      <td>0</td>\n",
       "      <td>0</td>\n",
       "      <td>0</td>\n",
       "      <td>0</td>\n",
       "      <td>0</td>\n",
       "      <td>0.612865</td>\n",
       "    </tr>\n",
       "    <tr>\n",
       "      <th>3</th>\n",
       "      <td>2019-03-16</td>\n",
       "      <td>0.0</td>\n",
       "      <td>False</td>\n",
       "      <td>-0.837236</td>\n",
       "      <td>-0.301828</td>\n",
       "      <td>-1.998463</td>\n",
       "      <td>-1.114159</td>\n",
       "      <td>0</td>\n",
       "      <td>0</td>\n",
       "      <td>0</td>\n",
       "      <td>...</td>\n",
       "      <td>0</td>\n",
       "      <td>0</td>\n",
       "      <td>0</td>\n",
       "      <td>0</td>\n",
       "      <td>1</td>\n",
       "      <td>0</td>\n",
       "      <td>0</td>\n",
       "      <td>0</td>\n",
       "      <td>0</td>\n",
       "      <td>-0.028137</td>\n",
       "    </tr>\n",
       "    <tr>\n",
       "      <th>4</th>\n",
       "      <td>2019-03-16</td>\n",
       "      <td>0.0</td>\n",
       "      <td>False</td>\n",
       "      <td>0.212484</td>\n",
       "      <td>-0.124300</td>\n",
       "      <td>2.670579</td>\n",
       "      <td>2.058406</td>\n",
       "      <td>0</td>\n",
       "      <td>1</td>\n",
       "      <td>0</td>\n",
       "      <td>...</td>\n",
       "      <td>0</td>\n",
       "      <td>0</td>\n",
       "      <td>0</td>\n",
       "      <td>0</td>\n",
       "      <td>0</td>\n",
       "      <td>0</td>\n",
       "      <td>0</td>\n",
       "      <td>0</td>\n",
       "      <td>0</td>\n",
       "      <td>-1.483980</td>\n",
       "    </tr>\n",
       "  </tbody>\n",
       "</table>\n",
       "<p>5 rows × 44 columns</p>\n",
       "</div>"
      ],
      "text/plain": [
       "        Date  home_margin  home_win  home_streak  home_avg_marg  away_streak  \\\n",
       "0 2019-03-15          0.0     False    -0.837236      -0.893591     0.044243   \n",
       "1 2019-03-15          0.0     False    -0.049946       0.526639     0.627873   \n",
       "2 2019-03-15          0.0     False     0.212484      -0.124300    -0.831203   \n",
       "3 2019-03-16          0.0     False    -0.837236      -0.301828    -1.998463   \n",
       "4 2019-03-16          0.0     False     0.212484      -0.124300     2.670579   \n",
       "\n",
       "   away_avg_marg  home_country_AUS  home_country_NZ  home_country_SA  \\\n",
       "0      -0.528144                 0                1                0   \n",
       "1       0.199323                 1                0                0   \n",
       "2      -0.346277                 0                0                1   \n",
       "3      -1.114159                 0                0                0   \n",
       "4       2.058406                 0                1                0   \n",
       "\n",
       "     ...      away_team_Hurricanes  away_team_Jaguares  away_team_Lions  \\\n",
       "0    ...                         1                   0                0   \n",
       "1    ...                         0                   0                0   \n",
       "2    ...                         0                   1                0   \n",
       "3    ...                         0                   0                0   \n",
       "4    ...                         0                   0                0   \n",
       "\n",
       "   away_team_Rebels  away_team_Reds  away_team_Sharks  away_team_Stormers  \\\n",
       "0                 0               0                 0                   0   \n",
       "1                 0               0                 0                   0   \n",
       "2                 0               0                 0                   0   \n",
       "3                 0               1                 0                   0   \n",
       "4                 0               0                 0                   0   \n",
       "\n",
       "   away_team_Sunwolves  away_team_Waratahs  home_odds  \n",
       "0                    0                   0  -1.392866  \n",
       "1                    0                   1  -0.458074  \n",
       "2                    0                   0   0.612865  \n",
       "3                    0                   0  -0.028137  \n",
       "4                    0                   0  -1.483980  \n",
       "\n",
       "[5 rows x 44 columns]"
      ]
     },
     "execution_count": 7,
     "metadata": {},
     "output_type": "execute_result"
    }
   ],
   "source": [
    "df.head()"
   ]
  },
  {
   "cell_type": "code",
   "execution_count": 8,
   "metadata": {
    "colab": {},
    "colab_type": "code",
    "id": "Nip3HfwNI9cS"
   },
   "outputs": [],
   "source": [
    "X = df[6:].drop(['Date', 'home_margin', 'home_win'], axis=1).values.astype(np.float64)\n",
    "y = df[6:].home_margin.values.astype(np.float64)"
   ]
  },
  {
   "cell_type": "code",
   "execution_count": 9,
   "metadata": {
    "colab": {},
    "colab_type": "code",
    "id": "Nip3HfwNI9cS"
   },
   "outputs": [],
   "source": [
    "# we will use these later:\n",
    "X_temp = df[:6].drop(['Date', 'home_margin', 'home_win'], axis=1).values.astype(np.float64)\n",
    "y_temp = df[:6].home_margin.values.astype(np.float64)"
   ]
  },
  {
   "cell_type": "code",
   "execution_count": 10,
   "metadata": {},
   "outputs": [
    {
     "data": {
      "text/plain": [
       "(1234,)"
      ]
     },
     "execution_count": 10,
     "metadata": {},
     "output_type": "execute_result"
    }
   ],
   "source": [
    "y.shape"
   ]
  },
  {
   "cell_type": "code",
   "execution_count": 11,
   "metadata": {},
   "outputs": [
    {
     "data": {
      "text/plain": [
       "(1234, 41)"
      ]
     },
     "execution_count": 11,
     "metadata": {},
     "output_type": "execute_result"
    }
   ],
   "source": [
    "X.shape"
   ]
  },
  {
   "cell_type": "code",
   "execution_count": 36,
   "metadata": {},
   "outputs": [],
   "source": [
    "# from tpot import TPOTRegressor"
   ]
  },
  {
   "cell_type": "code",
   "execution_count": 37,
   "metadata": {},
   "outputs": [],
   "source": [
    "# tpot = TPOTRegressor(scoring='neg_mean_absolute_error',\n",
    "#                      n_jobs=-1,\n",
    "#                      verbosity=2,\n",
    "#                      max_time_mins=25)"
   ]
  },
  {
   "cell_type": "code",
   "execution_count": 38,
   "metadata": {},
   "outputs": [],
   "source": [
    "# tpot.fit(X, y)"
   ]
  },
  {
   "cell_type": "code",
   "execution_count": 39,
   "metadata": {},
   "outputs": [],
   "source": [
    "# tpot.score(X, y)*-1"
   ]
  },
  {
   "cell_type": "code",
   "execution_count": 40,
   "metadata": {},
   "outputs": [],
   "source": [
    "# tpot.export('tpot_pipeline.py')"
   ]
  },
  {
   "cell_type": "code",
   "execution_count": 41,
   "metadata": {},
   "outputs": [
    {
     "name": "stdout",
     "output_type": "stream",
     "text": [
      "import numpy as np\n",
      "import pandas as pd\n",
      "from sklearn.ensemble import GradientBoostingRegressor\n",
      "from sklearn.feature_selection import SelectFwe, f_regression\n",
      "from sklearn.linear_model import ElasticNetCV, LassoLarsCV\n",
      "from sklearn.model_selection import train_test_split\n",
      "from sklearn.pipeline import make_pipeline, make_union\n",
      "from tpot.builtins import StackingEstimator, ZeroCount\n",
      "\n",
      "# NOTE: Make sure that the class is labeled 'target' in the data file\n",
      "tpot_data = pd.read_csv('PATH/TO/DATA/FILE', sep='COLUMN_SEPARATOR', dtype=np.float64)\n",
      "features = tpot_data.drop('target', axis=1).values\n",
      "training_features, testing_features, training_target, testing_target = \\\n",
      "            train_test_split(features, tpot_data['target'].values, random_state=None)\n",
      "\n",
      "# Average CV score on the training set was:-11.188556355715761\n",
      "exported_pipeline = make_pipeline(\n",
      "    ZeroCount(),\n",
      "    StackingEstimator(estimator=GradientBoostingRegressor(alpha=0.99, learning_rate=0.01, loss=\"quantile\", max_depth=4, max_features=0.9500000000000001, min_samples_leaf=17, min_samples_split=8, n_estimators=100, subsample=0.35000000000000003)),\n",
      "    StackingEstimator(estimator=ElasticNetCV(l1_ratio=0.05, tol=0.1)),\n",
      "    SelectFwe(score_func=f_regression, alpha=0.031),\n",
      "    LassoLarsCV(normalize=True)\n",
      ")\n",
      "\n",
      "exported_pipeline.fit(training_features, training_target)\n",
      "results = exported_pipeline.predict(testing_features)\n"
     ]
    }
   ],
   "source": [
    "!type tpot_pipeline.py"
   ]
  },
  {
   "cell_type": "markdown",
   "metadata": {},
   "source": [
    "## Build TPOT model"
   ]
  },
  {
   "cell_type": "code",
   "execution_count": 12,
   "metadata": {},
   "outputs": [],
   "source": [
    "from sklearn.ensemble import GradientBoostingRegressor\n",
    "from sklearn.feature_selection import SelectFwe, f_regression\n",
    "from sklearn.linear_model import ElasticNetCV, LassoLarsCV\n",
    "from sklearn.pipeline import make_pipeline, make_union\n",
    "from tpot.builtins import StackingEstimator, ZeroCount"
   ]
  },
  {
   "cell_type": "code",
   "execution_count": 13,
   "metadata": {},
   "outputs": [],
   "source": [
    "X_train, X_test, y_train, y_test = train_test_split(X, y, test_size=0.2, random_state=42)"
   ]
  },
  {
   "cell_type": "code",
   "execution_count": 14,
   "metadata": {},
   "outputs": [
    {
     "data": {
      "text/plain": [
       "Pipeline(memory=None,\n",
       "     steps=[('zerocount', ZeroCount()), ('stackingestimator-1', StackingEstimator(estimator=GradientBoostingRegressor(alpha=0.99, criterion='friedman_mse', init=None,\n",
       "             learning_rate=0.01, loss='quantile', max_depth=4,\n",
       "             max_features=0.95, max_leaf_nodes=None,\n",
       "             min_impur..._alphas=1000, n_jobs=None, normalize=True,\n",
       "      positive=False, precompute='auto', verbose=False))])"
      ]
     },
     "execution_count": 14,
     "metadata": {},
     "output_type": "execute_result"
    }
   ],
   "source": [
    "# Average CV score on the training set was:-11.188556355715761\n",
    "pipeline = make_pipeline(\n",
    "    ZeroCount(),\n",
    "    StackingEstimator(estimator=GradientBoostingRegressor(alpha=0.99,\n",
    "                                                          learning_rate=0.01,\n",
    "                                                          loss=\"quantile\",\n",
    "                                                          max_depth=4,\n",
    "                                                          max_features=0.95,\n",
    "                                                          min_samples_leaf=17,\n",
    "                                                          min_samples_split=8,\n",
    "                                                          n_estimators=100,\n",
    "                                                          subsample=0.35)),\n",
    "    StackingEstimator(estimator=ElasticNetCV(l1_ratio=0.05, tol=0.1, cv=5)),\n",
    "    SelectFwe(score_func=f_regression, alpha=0.031),\n",
    "    LassoLarsCV(normalize=True, cv=5)\n",
    ")\n",
    "\n",
    "pipeline.fit(X_train, y_train)"
   ]
  },
  {
   "cell_type": "code",
   "execution_count": 15,
   "metadata": {},
   "outputs": [
    {
     "data": {
      "text/plain": [
       "15.123107201417428"
      ]
     },
     "execution_count": 15,
     "metadata": {},
     "output_type": "execute_result"
    }
   ],
   "source": [
    "# Use the model's predict method on the test data\n",
    "np.sqrt(mean_squared_error(pipeline.predict(X_test), y_test))"
   ]
  },
  {
   "cell_type": "code",
   "execution_count": 16,
   "metadata": {},
   "outputs": [
    {
     "data": {
      "text/plain": [
       "11.063676875445038"
      ]
     },
     "execution_count": 16,
     "metadata": {},
     "output_type": "execute_result"
    }
   ],
   "source": [
    "mean_absolute_error(y_test, pipeline.predict(X_test))"
   ]
  },
  {
   "cell_type": "code",
   "execution_count": 17,
   "metadata": {},
   "outputs": [],
   "source": [
    "import matplotlib.pyplot as plt"
   ]
  },
  {
   "cell_type": "code",
   "execution_count": 18,
   "metadata": {},
   "outputs": [],
   "source": [
    "errs = abs(y_test-pipeline.predict(X_test))"
   ]
  },
  {
   "cell_type": "code",
   "execution_count": 19,
   "metadata": {},
   "outputs": [
    {
     "data": {
      "text/plain": [
       "<matplotlib.collections.PathCollection at 0x132524c29e8>"
      ]
     },
     "execution_count": 19,
     "metadata": {},
     "output_type": "execute_result"
    },
    {
     "data": {
      "image/png": "[encoded data removed]",
      "text/plain": [
       "<Figure size 432x288 with 1 Axes>"
      ]
     },
     "metadata": {
      "needs_background": "light"
     },
     "output_type": "display_data"
    }
   ],
   "source": [
    "plt.scatter(x=y_test, y=errs)"
   ]
  },
  {
   "cell_type": "code",
   "execution_count": 20,
   "metadata": {},
   "outputs": [
    {
     "data": {
      "image/png": "[encoded data removed]",
      "text/plain": [
       "<Figure size 432x288 with 1 Axes>"
      ]
     },
     "metadata": {
      "needs_background": "light"
     },
     "output_type": "display_data"
    }
   ],
   "source": [
    "plt.scatter(x=y_test, y=pipeline.predict(X_test))\n",
    "plt.show()"
   ]
  },
  {
   "cell_type": "markdown",
   "metadata": {},
   "source": [
    "### Try 2018 season as a test run"
   ]
  },
  {
   "cell_type": "code",
   "execution_count": 21,
   "metadata": {},
   "outputs": [],
   "source": [
    "# save a copy of the 2019 season as a test\n",
    "mask_2018 = (df['Date'] > pd.to_datetime('2018-01-01')) & (df['Date'] <= pd.to_datetime('2019-01-01'))\n",
    "df_2018 = df[mask_2018]\n",
    "\n",
    "X_test = df_2018.drop(['Date', 'home_margin', 'home_win'], axis=1).values.astype(np.float64)\n",
    "y_test = df_2018.home_margin.values.astype(np.float64)"
   ]
  },
  {
   "cell_type": "code",
   "execution_count": 22,
   "metadata": {},
   "outputs": [],
   "source": [
    "# keep all other matches as training set\n",
    "mask_pre_2018 = df['Date'] < pd.to_datetime('2018-01-01')\n",
    "df_pre_2018 = df[mask_pre_2018]\n",
    "\n",
    "X_train = df_pre_2018.drop(['Date', 'home_margin', 'home_win'], axis=1).values.astype(np.float64)\n",
    "y_train = df_pre_2018.home_margin.values.astype(np.float64)"
   ]
  },
  {
   "cell_type": "code",
   "execution_count": 27,
   "metadata": {},
   "outputs": [],
   "source": [
    "results_2018 = results[mask_2018][['Home_Team', 'Away_Team', 'home_margin', 'Home_Odds', 'Away_Odds']]\n",
    "results_2018['home_odds'] = results_2018.Away_Odds / (results_2018.Home_Odds + results_2018.Away_Odds)\n",
    "results_2018.drop(['Home_Odds', 'Away_Odds'], axis=1, inplace=True)"
   ]
  },
  {
   "cell_type": "code",
   "execution_count": 28,
   "metadata": {},
   "outputs": [
    {
     "data": {
      "text/plain": [
       "Pipeline(memory=None,\n",
       "     steps=[('zerocount', ZeroCount()), ('stackingestimator-1', StackingEstimator(estimator=GradientBoostingRegressor(alpha=0.99, criterion='friedman_mse', init=None,\n",
       "             learning_rate=0.01, loss='quantile', max_depth=4,\n",
       "             max_features=0.95, max_leaf_nodes=None,\n",
       "             min_impur..._alphas=1000, n_jobs=None, normalize=True,\n",
       "      positive=False, precompute='auto', verbose=False))])"
      ]
     },
     "execution_count": 28,
     "metadata": {},
     "output_type": "execute_result"
    }
   ],
   "source": [
    "pipeline.fit(X_train, y_train)"
   ]
  },
  {
   "cell_type": "code",
   "execution_count": 29,
   "metadata": {},
   "outputs": [
    {
     "data": {
      "text/plain": [
       "11.628161744864643"
      ]
     },
     "execution_count": 29,
     "metadata": {},
     "output_type": "execute_result"
    }
   ],
   "source": [
    "mean_absolute_error(y_test, pipeline.predict(X_test))"
   ]
  },
  {
   "cell_type": "code",
   "execution_count": 30,
   "metadata": {},
   "outputs": [],
   "source": [
    "results_2018['prediction'] = np.round(pipeline.predict(X_test),0)"
   ]
  },
  {
   "cell_type": "code",
   "execution_count": 31,
   "metadata": {},
   "outputs": [],
   "source": [
    "results_2018['error'] = abs(results_2018.home_margin - results_2018.prediction)\n",
    "results_2018['win_point'] = (results_2018.home_margin * results_2018.prediction>0).astype('int')\n",
    "results_2018['margin_point'] = (results_2018.error<=5).astype('int')"
   ]
  },
  {
   "cell_type": "code",
   "execution_count": 32,
   "metadata": {},
   "outputs": [
    {
     "data": {
      "text/html": [
       "<div>\n",
       "<style scoped>\n",
       "    .dataframe tbody tr th:only-of-type {\n",
       "        vertical-align: middle;\n",
       "    }\n",
       "\n",
       "    .dataframe tbody tr th {\n",
       "        vertical-align: top;\n",
       "    }\n",
       "\n",
       "    .dataframe thead th {\n",
       "        text-align: right;\n",
       "    }\n",
       "</style>\n",
       "<table border=\"1\" class=\"dataframe\">\n",
       "  <thead>\n",
       "    <tr style=\"text-align: right;\">\n",
       "      <th></th>\n",
       "      <th>Home_Team</th>\n",
       "      <th>Away_Team</th>\n",
       "      <th>home_margin</th>\n",
       "      <th>home_odds</th>\n",
       "      <th>prediction</th>\n",
       "      <th>error</th>\n",
       "      <th>win_point</th>\n",
       "      <th>margin_point</th>\n",
       "    </tr>\n",
       "  </thead>\n",
       "  <tbody>\n",
       "    <tr>\n",
       "      <th>34</th>\n",
       "      <td>Crusaders</td>\n",
       "      <td>Lions</td>\n",
       "      <td>19.0</td>\n",
       "      <td>0.867470</td>\n",
       "      <td>18.0</td>\n",
       "      <td>1.0</td>\n",
       "      <td>1</td>\n",
       "      <td>1</td>\n",
       "    </tr>\n",
       "    <tr>\n",
       "      <th>35</th>\n",
       "      <td>Lions</td>\n",
       "      <td>Waratahs</td>\n",
       "      <td>18.0</td>\n",
       "      <td>0.774312</td>\n",
       "      <td>10.0</td>\n",
       "      <td>8.0</td>\n",
       "      <td>1</td>\n",
       "      <td>0</td>\n",
       "    </tr>\n",
       "    <tr>\n",
       "      <th>36</th>\n",
       "      <td>Crusaders</td>\n",
       "      <td>Hurricanes</td>\n",
       "      <td>18.0</td>\n",
       "      <td>0.737271</td>\n",
       "      <td>12.0</td>\n",
       "      <td>6.0</td>\n",
       "      <td>1</td>\n",
       "      <td>0</td>\n",
       "    </tr>\n",
       "    <tr>\n",
       "      <th>37</th>\n",
       "      <td>Lions</td>\n",
       "      <td>Jaguares</td>\n",
       "      <td>17.0</td>\n",
       "      <td>0.759615</td>\n",
       "      <td>9.0</td>\n",
       "      <td>8.0</td>\n",
       "      <td>1</td>\n",
       "      <td>0</td>\n",
       "    </tr>\n",
       "    <tr>\n",
       "      <th>38</th>\n",
       "      <td>Waratahs</td>\n",
       "      <td>Highlanders</td>\n",
       "      <td>7.0</td>\n",
       "      <td>0.418782</td>\n",
       "      <td>-3.0</td>\n",
       "      <td>10.0</td>\n",
       "      <td>0</td>\n",
       "      <td>0</td>\n",
       "    </tr>\n",
       "  </tbody>\n",
       "</table>\n",
       "</div>"
      ],
      "text/plain": [
       "    Home_Team    Away_Team  home_margin  home_odds  prediction  error  \\\n",
       "34  Crusaders        Lions         19.0   0.867470        18.0    1.0   \n",
       "35      Lions     Waratahs         18.0   0.774312        10.0    8.0   \n",
       "36  Crusaders   Hurricanes         18.0   0.737271        12.0    6.0   \n",
       "37      Lions     Jaguares         17.0   0.759615         9.0    8.0   \n",
       "38   Waratahs  Highlanders          7.0   0.418782        -3.0   10.0   \n",
       "\n",
       "    win_point  margin_point  \n",
       "34          1             1  \n",
       "35          1             0  \n",
       "36          1             0  \n",
       "37          1             0  \n",
       "38          0             0  "
      ]
     },
     "execution_count": 32,
     "metadata": {},
     "output_type": "execute_result"
    }
   ],
   "source": [
    "results_2018.head()"
   ]
  },
  {
   "cell_type": "code",
   "execution_count": 33,
   "metadata": {},
   "outputs": [
    {
     "data": {
      "text/plain": [
       "0.7086614173228346"
      ]
     },
     "execution_count": 33,
     "metadata": {},
     "output_type": "execute_result"
    }
   ],
   "source": [
    "# how often is the winner correctly predicted?\n",
    "results_2018.win_point.agg('mean')"
   ]
  },
  {
   "cell_type": "code",
   "execution_count": 34,
   "metadata": {},
   "outputs": [
    {
     "data": {
      "text/plain": [
       "0.31496062992125984"
      ]
     },
     "execution_count": 34,
     "metadata": {},
     "output_type": "execute_result"
    }
   ],
   "source": [
    "# how often is the scoreline predicted within 5 points?\n",
    "results_2018.margin_point.agg('mean')"
   ]
  },
  {
   "cell_type": "code",
   "execution_count": 35,
   "metadata": {},
   "outputs": [],
   "source": [
    "# compare win points to success rate of bookmakers\n",
    "home_wins = (results_2018['home_margin'] > 0).values"
   ]
  },
  {
   "cell_type": "code",
   "execution_count": 37,
   "metadata": {},
   "outputs": [],
   "source": [
    "home_favourites = (results_2018.home_odds>.5).values"
   ]
  },
  {
   "cell_type": "code",
   "execution_count": 38,
   "metadata": {},
   "outputs": [
    {
     "data": {
      "text/plain": [
       "0.7165354330708661"
      ]
     },
     "execution_count": 38,
     "metadata": {},
     "output_type": "execute_result"
    }
   ],
   "source": [
    "np.mean(home_wins == home_favourites)"
   ]
  },
  {
   "cell_type": "markdown",
   "metadata": {},
   "source": [
    "---"
   ]
  },
  {
   "cell_type": "markdown",
   "metadata": {
    "colab_type": "text",
    "id": "gLHinnhzI9c6"
   },
   "source": [
    "## Make predictions for upcoming week"
   ]
  },
  {
   "cell_type": "code",
   "execution_count": 39,
   "metadata": {},
   "outputs": [
    {
     "data": {
      "text/plain": [
       "Pipeline(memory=None,\n",
       "     steps=[('zerocount', ZeroCount()), ('stackingestimator-1', StackingEstimator(estimator=GradientBoostingRegressor(alpha=0.99, criterion='friedman_mse', init=None,\n",
       "             learning_rate=0.01, loss='quantile', max_depth=4,\n",
       "             max_features=0.95, max_leaf_nodes=None,\n",
       "             min_impur..._alphas=1000, n_jobs=None, normalize=True,\n",
       "      positive=False, precompute='auto', verbose=False))])"
      ]
     },
     "execution_count": 39,
     "metadata": {},
     "output_type": "execute_result"
    }
   ],
   "source": [
    "# fit to full data set\n",
    "pipeline.fit(X, y)"
   ]
  },
  {
   "cell_type": "code",
   "execution_count": 40,
   "metadata": {
    "colab": {},
    "colab_type": "code",
    "id": "Oaf4jO-7Lzd0"
   },
   "outputs": [],
   "source": [
    "temp = np.vstack((pipeline.predict(X_temp).reshape(6), results['Home_Team'][:6], results['Away_Team'][:6])).T"
   ]
  },
  {
   "cell_type": "code",
   "execution_count": 41,
   "metadata": {
    "colab": {},
    "colab_type": "code",
    "id": "smWtk-ptM1P3"
   },
   "outputs": [],
   "source": [
    "preds_df = pd.DataFrame(temp, columns=[\"Home_Margin\", \"Home_Team\", \"Away_Team\"])"
   ]
  },
  {
   "cell_type": "code",
   "execution_count": 42,
   "metadata": {
    "colab": {
     "base_uri": "https://localhost:8080/",
     "height": 266
    },
    "colab_type": "code",
    "executionInfo": {
     "elapsed": 807,
     "status": "ok",
     "timestamp": 1551946869131,
     "user": {
      "displayName": "Kieran Donnelly",
      "photoUrl": "https://lh5.googleusercontent.com/-qOCnWQmSPhU/AAAAAAAAAAI/AAAAAAAA3YM/gLNo024IFgk/s64/photo.jpg",
      "userId": "08966570757713512847"
     },
     "user_tz": -120
    },
    "id": "Q1sEAiR-M5Va",
    "outputId": "f63b4b87-ac17-4a40-c8d7-2f24f2442ded"
   },
   "outputs": [
    {
     "data": {
      "text/html": [
       "<div>\n",
       "<style scoped>\n",
       "    .dataframe tbody tr th:only-of-type {\n",
       "        vertical-align: middle;\n",
       "    }\n",
       "\n",
       "    .dataframe tbody tr th {\n",
       "        vertical-align: top;\n",
       "    }\n",
       "\n",
       "    .dataframe thead th {\n",
       "        text-align: right;\n",
       "    }\n",
       "</style>\n",
       "<table border=\"1\" class=\"dataframe\">\n",
       "  <thead>\n",
       "    <tr style=\"text-align: right;\">\n",
       "      <th></th>\n",
       "      <th>Home_Margin</th>\n",
       "      <th>Home_Team</th>\n",
       "      <th>Away_Team</th>\n",
       "    </tr>\n",
       "  </thead>\n",
       "  <tbody>\n",
       "    <tr>\n",
       "      <th>0</th>\n",
       "      <td>-7</td>\n",
       "      <td>Chiefs</td>\n",
       "      <td>Hurricanes</td>\n",
       "    </tr>\n",
       "    <tr>\n",
       "      <th>1</th>\n",
       "      <td>0</td>\n",
       "      <td>Brumbies</td>\n",
       "      <td>Waratahs</td>\n",
       "    </tr>\n",
       "    <tr>\n",
       "      <th>2</th>\n",
       "      <td>8</td>\n",
       "      <td>Stormers</td>\n",
       "      <td>Jaguares</td>\n",
       "    </tr>\n",
       "    <tr>\n",
       "      <th>3</th>\n",
       "      <td>3</td>\n",
       "      <td>Sunwolves</td>\n",
       "      <td>Reds</td>\n",
       "    </tr>\n",
       "    <tr>\n",
       "      <th>4</th>\n",
       "      <td>-7</td>\n",
       "      <td>Highlanders</td>\n",
       "      <td>Crusaders</td>\n",
       "    </tr>\n",
       "    <tr>\n",
       "      <th>5</th>\n",
       "      <td>9</td>\n",
       "      <td>Lions</td>\n",
       "      <td>Rebels</td>\n",
       "    </tr>\n",
       "  </tbody>\n",
       "</table>\n",
       "</div>"
      ],
      "text/plain": [
       "   Home_Margin    Home_Team   Away_Team\n",
       "0           -7       Chiefs  Hurricanes\n",
       "1            0     Brumbies    Waratahs\n",
       "2            8     Stormers    Jaguares\n",
       "3            3    Sunwolves        Reds\n",
       "4           -7  Highlanders   Crusaders\n",
       "5            9        Lions      Rebels"
      ]
     },
     "execution_count": 42,
     "metadata": {},
     "output_type": "execute_result"
    }
   ],
   "source": [
    "preds_df[\"Home_Margin\"] = preds_df.Home_Margin.apply(lambda x: int(np.round(x, 0)))\n",
    "preds_df"
   ]
  }
 ],
 "metadata": {
  "colab": {
   "collapsed_sections": [],
   "name": "Super_Rugby_Predictor_James_22_Feb.ipynb",
   "provenance": [],
   "toc_visible": true,
   "version": "0.3.2"
  },
  "kernelspec": {
   "display_name": "Python 3",
   "language": "python",
   "name": "python3"
  },
  "language_info": {
   "codemirror_mode": {
    "name": "ipython",
    "version": 3
   },
   "file_extension": ".py",
   "mimetype": "text/x-python",
   "name": "python",
   "nbconvert_exporter": "python",
   "pygments_lexer": "ipython3",
   "version": "3.6.7"
  }
 },
 "nbformat": 4,
 "nbformat_minor": 2
}
