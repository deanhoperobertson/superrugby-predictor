{
 "cells": [
  {
   "cell_type": "code",
   "execution_count": 1,
   "metadata": {
    "colab": {},
    "colab_type": "code",
    "id": "a1jqgM4V-5HE"
   },
   "outputs": [],
   "source": [
    "import pandas as pd\n",
    "import numpy as np\n",
    "from superugby import cleanup\n",
    "from sklearn.model_selection import train_test_split\n",
    "from sklearn.metrics import mean_squared_error, mean_absolute_error"
   ]
  },
  {
   "cell_type": "code",
   "execution_count": 2,
   "metadata": {
    "colab": {},
    "colab_type": "code",
    "id": "8gZRyWwC_8Rz"
   },
   "outputs": [],
   "source": [
    "results = pd.read_csv(\"https://raw.githubusercontent.com/kieranbd/superrugby-predictor/master/super_rugby_oddsportal.csv\").drop('Play-off Game?', axis=1).dropna()"
   ]
  },
  {
   "cell_type": "code",
   "execution_count": 3,
   "metadata": {},
   "outputs": [],
   "source": [
    "games = 7"
   ]
  },
  {
   "cell_type": "markdown",
   "metadata": {},
   "source": [
    "Take a look at the upcoming fixtures (for weekend 15 March, 2019)"
   ]
  },
  {
   "cell_type": "code",
   "execution_count": 4,
   "metadata": {
    "colab": {
     "base_uri": "https://localhost:8080/",
     "height": 266
    },
    "colab_type": "code",
    "executionInfo": {
     "elapsed": 791,
     "status": "ok",
     "timestamp": 1551945609721,
     "user": {
      "displayName": "Kieran Donnelly",
      "photoUrl": "https://lh5.googleusercontent.com/-qOCnWQmSPhU/AAAAAAAAAAI/AAAAAAAA3YM/gLNo024IFgk/s64/photo.jpg",
      "userId": "08966570757713512847"
     },
     "user_tz": -120
    },
    "id": "dzIWDm27wuCk",
    "outputId": "9c23bc17-76ac-4b07-f3fe-17e5b91de13b"
   },
   "outputs": [
    {
     "data": {
      "text/html": [
       "<div>\n",
       "<style scoped>\n",
       "    .dataframe tbody tr th:only-of-type {\n",
       "        vertical-align: middle;\n",
       "    }\n",
       "\n",
       "    .dataframe tbody tr th {\n",
       "        vertical-align: top;\n",
       "    }\n",
       "\n",
       "    .dataframe thead th {\n",
       "        text-align: right;\n",
       "    }\n",
       "</style>\n",
       "<table border=\"1\" class=\"dataframe\">\n",
       "  <thead>\n",
       "    <tr style=\"text-align: right;\">\n",
       "      <th></th>\n",
       "      <th>Date</th>\n",
       "      <th>Home Team</th>\n",
       "      <th>Away Team</th>\n",
       "      <th>Home Score</th>\n",
       "      <th>Away Score</th>\n",
       "      <th>Home Odds</th>\n",
       "      <th>Draw Odds</th>\n",
       "      <th>Away Odds</th>\n",
       "    </tr>\n",
       "  </thead>\n",
       "  <tbody>\n",
       "    <tr>\n",
       "      <th>0</th>\n",
       "      <td>10-May-19</td>\n",
       "      <td>Blues</td>\n",
       "      <td>Hurricanes</td>\n",
       "      <td>0</td>\n",
       "      <td>0</td>\n",
       "      <td>2.87</td>\n",
       "      <td>22.18</td>\n",
       "      <td>1.43</td>\n",
       "    </tr>\n",
       "    <tr>\n",
       "      <th>1</th>\n",
       "      <td>10-May-19</td>\n",
       "      <td>Rebels</td>\n",
       "      <td>Reds</td>\n",
       "      <td>0</td>\n",
       "      <td>0</td>\n",
       "      <td>1.26</td>\n",
       "      <td>23.76</td>\n",
       "      <td>3.91</td>\n",
       "    </tr>\n",
       "    <tr>\n",
       "      <th>2</th>\n",
       "      <td>10-May-19</td>\n",
       "      <td>Bulls</td>\n",
       "      <td>Crusaders</td>\n",
       "      <td>0</td>\n",
       "      <td>0</td>\n",
       "      <td>3.81</td>\n",
       "      <td>24.48</td>\n",
       "      <td>1.27</td>\n",
       "    </tr>\n",
       "    <tr>\n",
       "      <th>3</th>\n",
       "      <td>10-May-19</td>\n",
       "      <td>Highlanders</td>\n",
       "      <td>Jaguares</td>\n",
       "      <td>0</td>\n",
       "      <td>0</td>\n",
       "      <td>1.16</td>\n",
       "      <td>30.18</td>\n",
       "      <td>5.25</td>\n",
       "    </tr>\n",
       "    <tr>\n",
       "      <th>4</th>\n",
       "      <td>10-May-19</td>\n",
       "      <td>Chiefs</td>\n",
       "      <td>Sharks</td>\n",
       "      <td>0</td>\n",
       "      <td>0</td>\n",
       "      <td>1.56</td>\n",
       "      <td>21.62</td>\n",
       "      <td>2.46</td>\n",
       "    </tr>\n",
       "    <tr>\n",
       "      <th>5</th>\n",
       "      <td>10-May-19</td>\n",
       "      <td>Lions</td>\n",
       "      <td>Waratahs</td>\n",
       "      <td>0</td>\n",
       "      <td>0</td>\n",
       "      <td>1.35</td>\n",
       "      <td>22.92</td>\n",
       "      <td>3.22</td>\n",
       "    </tr>\n",
       "    <tr>\n",
       "      <th>6</th>\n",
       "      <td>10-May-19</td>\n",
       "      <td>Brumbies</td>\n",
       "      <td>Sunwolves</td>\n",
       "      <td>0</td>\n",
       "      <td>0</td>\n",
       "      <td>1.15</td>\n",
       "      <td>30.38</td>\n",
       "      <td>5.28</td>\n",
       "    </tr>\n",
       "  </tbody>\n",
       "</table>\n",
       "</div>"
      ],
      "text/plain": [
       "        Date    Home Team   Away Team  Home Score  Away Score  Home Odds  \\\n",
       "0  10-May-19        Blues  Hurricanes           0           0       2.87   \n",
       "1  10-May-19       Rebels        Reds           0           0       1.26   \n",
       "2  10-May-19        Bulls   Crusaders           0           0       3.81   \n",
       "3  10-May-19  Highlanders    Jaguares           0           0       1.16   \n",
       "4  10-May-19       Chiefs      Sharks           0           0       1.56   \n",
       "5  10-May-19        Lions    Waratahs           0           0       1.35   \n",
       "6  10-May-19     Brumbies   Sunwolves           0           0       1.15   \n",
       "\n",
       "   Draw Odds  Away Odds  \n",
       "0      22.18       1.43  \n",
       "1      23.76       3.91  \n",
       "2      24.48       1.27  \n",
       "3      30.18       5.25  \n",
       "4      21.62       2.46  \n",
       "5      22.92       3.22  \n",
       "6      30.38       5.28  "
      ]
     },
     "execution_count": 4,
     "metadata": {},
     "output_type": "execute_result"
    }
   ],
   "source": [
    "results.head(7)"
   ]
  },
  {
   "cell_type": "markdown",
   "metadata": {},
   "source": [
    "## Engineer features which capture form\n",
    "The functions below will work row-by-row, returning the win (or loss) streak for both home and away teams.\n",
    "\n",
    "### Home and away streak\n",
    "Home streak is the active win (or loss) streak for the team playing at home, in their most recent home games.   \n",
    "Away streak is the same, but for the visiting team in their most recent away fixtures.   \n",
    "\n",
    "### Home and away margins\n",
    "Home average margin is the average margin (relative to home team) for the home team in their last n games at home. For example, a value of 5 means that the home side in this fixture is averaging a winning margin of 5 in their last n games at home.   \n",
    "\n",
    "Away average margin is the same, but for the visiting team in last n away games. A positive number means that the away side has scored more points away from home than they have conceded in last n away games.   "
   ]
  },
  {
   "cell_type": "markdown",
   "metadata": {},
   "source": [
    "## Encode all team names and nationalities\n",
    "All team names have been one hot encoding into separate columns, with additional columns for the (generalized) nationalities of the teams."
   ]
  },
  {
   "cell_type": "code",
   "execution_count": 5,
   "metadata": {
    "colab": {
     "base_uri": "https://localhost:8080/",
     "height": 563
    },
    "colab_type": "code",
    "executionInfo": {
     "elapsed": 10187,
     "status": "ok",
     "timestamp": 1551945667992,
     "user": {
      "displayName": "Kieran Donnelly",
      "photoUrl": "https://lh5.googleusercontent.com/-qOCnWQmSPhU/AAAAAAAAAAI/AAAAAAAA3YM/gLNo024IFgk/s64/photo.jpg",
      "userId": "08966570757713512847"
     },
     "user_tz": -120
    },
    "id": "c2lHu0qbI9cC",
    "outputId": "7c717ebc-7f2a-443e-d725-76dc5dadb5b4"
   },
   "outputs": [],
   "source": [
    "df = cleanup(results)"
   ]
  },
  {
   "cell_type": "code",
   "execution_count": 7,
   "metadata": {},
   "outputs": [
    {
     "data": {
      "text/html": [
       "<div>\n",
       "<style scoped>\n",
       "    .dataframe tbody tr th:only-of-type {\n",
       "        vertical-align: middle;\n",
       "    }\n",
       "\n",
       "    .dataframe tbody tr th {\n",
       "        vertical-align: top;\n",
       "    }\n",
       "\n",
       "    .dataframe thead th {\n",
       "        text-align: right;\n",
       "    }\n",
       "</style>\n",
       "<table border=\"1\" class=\"dataframe\">\n",
       "  <thead>\n",
       "    <tr style=\"text-align: right;\">\n",
       "      <th></th>\n",
       "      <th>Date</th>\n",
       "      <th>home_margin</th>\n",
       "      <th>home_win</th>\n",
       "      <th>home_streak</th>\n",
       "      <th>home_avg_marg</th>\n",
       "      <th>away_streak</th>\n",
       "      <th>away_avg_marg</th>\n",
       "      <th>home_win_prob</th>\n",
       "      <th>home_country_AUS</th>\n",
       "      <th>home_country_NZ</th>\n",
       "      <th>...</th>\n",
       "      <th>away_team_Highlanders</th>\n",
       "      <th>away_team_Hurricanes</th>\n",
       "      <th>away_team_Jaguares</th>\n",
       "      <th>away_team_Lions</th>\n",
       "      <th>away_team_Rebels</th>\n",
       "      <th>away_team_Reds</th>\n",
       "      <th>away_team_Sharks</th>\n",
       "      <th>away_team_Stormers</th>\n",
       "      <th>away_team_Sunwolves</th>\n",
       "      <th>away_team_Waratahs</th>\n",
       "    </tr>\n",
       "  </thead>\n",
       "  <tbody>\n",
       "    <tr>\n",
       "      <th>0</th>\n",
       "      <td>2019-05-10</td>\n",
       "      <td>0</td>\n",
       "      <td>False</td>\n",
       "      <td>2</td>\n",
       "      <td>6.4</td>\n",
       "      <td>3</td>\n",
       "      <td>-1.2</td>\n",
       "      <td>0.332558</td>\n",
       "      <td>0</td>\n",
       "      <td>1</td>\n",
       "      <td>...</td>\n",
       "      <td>0</td>\n",
       "      <td>1</td>\n",
       "      <td>0</td>\n",
       "      <td>0</td>\n",
       "      <td>0</td>\n",
       "      <td>0</td>\n",
       "      <td>0</td>\n",
       "      <td>0</td>\n",
       "      <td>0</td>\n",
       "      <td>0</td>\n",
       "    </tr>\n",
       "    <tr>\n",
       "      <th>4</th>\n",
       "      <td>2019-05-10</td>\n",
       "      <td>0</td>\n",
       "      <td>False</td>\n",
       "      <td>-1</td>\n",
       "      <td>-4.0</td>\n",
       "      <td>3</td>\n",
       "      <td>11.4</td>\n",
       "      <td>0.611940</td>\n",
       "      <td>0</td>\n",
       "      <td>1</td>\n",
       "      <td>...</td>\n",
       "      <td>0</td>\n",
       "      <td>0</td>\n",
       "      <td>0</td>\n",
       "      <td>0</td>\n",
       "      <td>0</td>\n",
       "      <td>0</td>\n",
       "      <td>1</td>\n",
       "      <td>0</td>\n",
       "      <td>0</td>\n",
       "      <td>0</td>\n",
       "    </tr>\n",
       "    <tr>\n",
       "      <th>6</th>\n",
       "      <td>2019-05-10</td>\n",
       "      <td>0</td>\n",
       "      <td>False</td>\n",
       "      <td>4</td>\n",
       "      <td>10.4</td>\n",
       "      <td>-2</td>\n",
       "      <td>-7.8</td>\n",
       "      <td>0.821151</td>\n",
       "      <td>1</td>\n",
       "      <td>0</td>\n",
       "      <td>...</td>\n",
       "      <td>0</td>\n",
       "      <td>0</td>\n",
       "      <td>0</td>\n",
       "      <td>0</td>\n",
       "      <td>0</td>\n",
       "      <td>0</td>\n",
       "      <td>0</td>\n",
       "      <td>0</td>\n",
       "      <td>1</td>\n",
       "      <td>0</td>\n",
       "    </tr>\n",
       "    <tr>\n",
       "      <th>5</th>\n",
       "      <td>2019-05-10</td>\n",
       "      <td>0</td>\n",
       "      <td>False</td>\n",
       "      <td>-1</td>\n",
       "      <td>-5.2</td>\n",
       "      <td>-3</td>\n",
       "      <td>-6.6</td>\n",
       "      <td>0.704595</td>\n",
       "      <td>0</td>\n",
       "      <td>0</td>\n",
       "      <td>...</td>\n",
       "      <td>0</td>\n",
       "      <td>0</td>\n",
       "      <td>0</td>\n",
       "      <td>0</td>\n",
       "      <td>0</td>\n",
       "      <td>0</td>\n",
       "      <td>0</td>\n",
       "      <td>0</td>\n",
       "      <td>0</td>\n",
       "      <td>1</td>\n",
       "    </tr>\n",
       "    <tr>\n",
       "      <th>1</th>\n",
       "      <td>2019-05-10</td>\n",
       "      <td>0</td>\n",
       "      <td>False</td>\n",
       "      <td>-1</td>\n",
       "      <td>2.6</td>\n",
       "      <td>1</td>\n",
       "      <td>-4.2</td>\n",
       "      <td>0.756286</td>\n",
       "      <td>1</td>\n",
       "      <td>0</td>\n",
       "      <td>...</td>\n",
       "      <td>0</td>\n",
       "      <td>0</td>\n",
       "      <td>0</td>\n",
       "      <td>0</td>\n",
       "      <td>0</td>\n",
       "      <td>1</td>\n",
       "      <td>0</td>\n",
       "      <td>0</td>\n",
       "      <td>0</td>\n",
       "      <td>0</td>\n",
       "    </tr>\n",
       "    <tr>\n",
       "      <th>3</th>\n",
       "      <td>2019-05-10</td>\n",
       "      <td>0</td>\n",
       "      <td>False</td>\n",
       "      <td>-1</td>\n",
       "      <td>4.0</td>\n",
       "      <td>2</td>\n",
       "      <td>-3.2</td>\n",
       "      <td>0.819033</td>\n",
       "      <td>0</td>\n",
       "      <td>1</td>\n",
       "      <td>...</td>\n",
       "      <td>0</td>\n",
       "      <td>0</td>\n",
       "      <td>1</td>\n",
       "      <td>0</td>\n",
       "      <td>0</td>\n",
       "      <td>0</td>\n",
       "      <td>0</td>\n",
       "      <td>0</td>\n",
       "      <td>0</td>\n",
       "      <td>0</td>\n",
       "    </tr>\n",
       "    <tr>\n",
       "      <th>2</th>\n",
       "      <td>2019-05-10</td>\n",
       "      <td>0</td>\n",
       "      <td>False</td>\n",
       "      <td>2</td>\n",
       "      <td>-10.4</td>\n",
       "      <td>2</td>\n",
       "      <td>3.6</td>\n",
       "      <td>0.250000</td>\n",
       "      <td>0</td>\n",
       "      <td>0</td>\n",
       "      <td>...</td>\n",
       "      <td>0</td>\n",
       "      <td>0</td>\n",
       "      <td>0</td>\n",
       "      <td>0</td>\n",
       "      <td>0</td>\n",
       "      <td>0</td>\n",
       "      <td>0</td>\n",
       "      <td>0</td>\n",
       "      <td>0</td>\n",
       "      <td>0</td>\n",
       "    </tr>\n",
       "  </tbody>\n",
       "</table>\n",
       "<p>7 rows × 44 columns</p>\n",
       "</div>"
      ],
      "text/plain": [
       "        Date  home_margin  home_win  home_streak  home_avg_marg  away_streak  \\\n",
       "0 2019-05-10            0     False            2            6.4            3   \n",
       "4 2019-05-10            0     False           -1           -4.0            3   \n",
       "6 2019-05-10            0     False            4           10.4           -2   \n",
       "5 2019-05-10            0     False           -1           -5.2           -3   \n",
       "1 2019-05-10            0     False           -1            2.6            1   \n",
       "3 2019-05-10            0     False           -1            4.0            2   \n",
       "2 2019-05-10            0     False            2          -10.4            2   \n",
       "\n",
       "   away_avg_marg  home_win_prob  home_country_AUS  home_country_NZ  ...  \\\n",
       "0           -1.2       0.332558                 0                1  ...   \n",
       "4           11.4       0.611940                 0                1  ...   \n",
       "6           -7.8       0.821151                 1                0  ...   \n",
       "5           -6.6       0.704595                 0                0  ...   \n",
       "1           -4.2       0.756286                 1                0  ...   \n",
       "3           -3.2       0.819033                 0                1  ...   \n",
       "2            3.6       0.250000                 0                0  ...   \n",
       "\n",
       "   away_team_Highlanders  away_team_Hurricanes  away_team_Jaguares  \\\n",
       "0                      0                     1                   0   \n",
       "4                      0                     0                   0   \n",
       "6                      0                     0                   0   \n",
       "5                      0                     0                   0   \n",
       "1                      0                     0                   0   \n",
       "3                      0                     0                   1   \n",
       "2                      0                     0                   0   \n",
       "\n",
       "   away_team_Lions  away_team_Rebels  away_team_Reds  away_team_Sharks  \\\n",
       "0                0                 0               0                 0   \n",
       "4                0                 0               0                 1   \n",
       "6                0                 0               0                 0   \n",
       "5                0                 0               0                 0   \n",
       "1                0                 0               1                 0   \n",
       "3                0                 0               0                 0   \n",
       "2                0                 0               0                 0   \n",
       "\n",
       "   away_team_Stormers  away_team_Sunwolves  away_team_Waratahs  \n",
       "0                   0                    0                   0  \n",
       "4                   0                    0                   0  \n",
       "6                   0                    1                   0  \n",
       "5                   0                    0                   1  \n",
       "1                   0                    0                   0  \n",
       "3                   0                    0                   0  \n",
       "2                   0                    0                   0  \n",
       "\n",
       "[7 rows x 44 columns]"
      ]
     },
     "execution_count": 7,
     "metadata": {},
     "output_type": "execute_result"
    }
   ],
   "source": [
    "df.head(7)"
   ]
  },
  {
   "cell_type": "markdown",
   "metadata": {},
   "source": [
    "## Model fitting"
   ]
  },
  {
   "cell_type": "code",
   "execution_count": null,
   "metadata": {},
   "outputs": [],
   "source": [
    "from sklearn.preprocessing import StandardScaler\n",
    "from sklearn.model_selection import GridSearchCV"
   ]
  },
  {
   "cell_type": "code",
   "execution_count": null,
   "metadata": {},
   "outputs": [],
   "source": [
    "# scale numerical features\n",
    "scaler = StandardScaler()\n",
    "\n",
    "numeric = ['home_streak', 'home_avg_marg', 'away_streak', 'away_avg_marg', 'home_win_prob']\n",
    "df[numeric] = scaler.fit_transform(df[numeric].astype('float64'))"
   ]
  },
  {
   "cell_type": "code",
   "execution_count": null,
   "metadata": {
    "colab": {},
    "colab_type": "code",
    "id": "Nip3HfwNI9cS"
   },
   "outputs": [],
   "source": [
    "X = df[games:].drop(['Date', 'home_margin', 'home_win'], axis=1).values.astype(np.float64)\n",
    "y = df[games:].home_margin.values.astype(np.float64)"
   ]
  },
  {
   "cell_type": "code",
   "execution_count": null,
   "metadata": {
    "colab": {},
    "colab_type": "code",
    "id": "Nip3HfwNI9cS"
   },
   "outputs": [],
   "source": [
    "# we will use these later:\n",
    "X_temp = df[:games].drop(['Date', 'home_margin', 'home_win'], axis=1).values.astype(np.float64)\n",
    "y_temp = df[:games].home_margin.values.astype(np.float64)"
   ]
  },
  {
   "cell_type": "code",
   "execution_count": null,
   "metadata": {},
   "outputs": [],
   "source": [
    "y.shape"
   ]
  },
  {
   "cell_type": "code",
   "execution_count": null,
   "metadata": {},
   "outputs": [],
   "source": [
    "X.shape"
   ]
  },
  {
   "cell_type": "markdown",
   "metadata": {},
   "source": [
    "## Build TPOT model"
   ]
  },
  {
   "cell_type": "code",
   "execution_count": null,
   "metadata": {},
   "outputs": [],
   "source": [
    "from sklearn.ensemble import GradientBoostingRegressor\n",
    "from sklearn.feature_selection import SelectFwe, f_regression\n",
    "from sklearn.linear_model import ElasticNetCV, LassoLarsCV\n",
    "from sklearn.pipeline import make_pipeline, make_union\n",
    "from tpot.builtins import StackingEstimator, ZeroCount"
   ]
  },
  {
   "cell_type": "code",
   "execution_count": null,
   "metadata": {},
   "outputs": [],
   "source": [
    "X_train, X_test, y_train, y_test = train_test_split(X, y, test_size=0.2, random_state=42)"
   ]
  },
  {
   "cell_type": "code",
   "execution_count": null,
   "metadata": {},
   "outputs": [],
   "source": [
    "# Average CV score on the training set was:-11.188556355715761\n",
    "pipeline = make_pipeline(\n",
    "    ZeroCount(),\n",
    "    StackingEstimator(estimator=GradientBoostingRegressor(alpha=0.99,\n",
    "                                                          learning_rate=0.01,\n",
    "                                                          loss=\"quantile\",\n",
    "                                                          max_depth=4,\n",
    "                                                          max_features=0.95,\n",
    "                                                          min_samples_leaf=17,\n",
    "                                                          min_samples_split=8,\n",
    "                                                          n_estimators=100,\n",
    "                                                          subsample=0.35)),\n",
    "    StackingEstimator(estimator=ElasticNetCV(l1_ratio=0.05, tol=0.1, cv=5)),\n",
    "    SelectFwe(score_func=f_regression, alpha=0.031),\n",
    "    LassoLarsCV(normalize=True, cv=5)\n",
    ")\n",
    "\n",
    "pipeline.fit(X_train, y_train)"
   ]
  },
  {
   "cell_type": "code",
   "execution_count": null,
   "metadata": {},
   "outputs": [],
   "source": [
    "# Use the model's predict method on the test data\n",
    "np.sqrt(mean_squared_error(pipeline.predict(X_test), y_test))"
   ]
  },
  {
   "cell_type": "code",
   "execution_count": null,
   "metadata": {},
   "outputs": [],
   "source": [
    "mean_absolute_error(y_test, pipeline.predict(X_test))"
   ]
  },
  {
   "cell_type": "markdown",
   "metadata": {},
   "source": [
    "### Try 2018 season as a test run (TESTING ONLY)"
   ]
  },
  {
   "cell_type": "code",
   "execution_count": null,
   "metadata": {},
   "outputs": [],
   "source": [
    "# save a copy of the 2019 season as a test\n",
    "mask_2018 = (df['Date'] > pd.to_datetime('2018-01-01')) & (df['Date'] <= pd.to_datetime('2019-01-01'))\n",
    "df_2018 = df[mask_2018]\n",
    "\n",
    "X_test = df_2018.drop(['Date', 'home_margin', 'home_win'], axis=1).values.astype(np.float64)\n",
    "y_test = df_2018.home_margin.values.astype(np.float64)"
   ]
  },
  {
   "cell_type": "code",
   "execution_count": null,
   "metadata": {},
   "outputs": [],
   "source": [
    "# keep all other matches as training set\n",
    "mask_pre_2018 = df['Date'] < pd.to_datetime('2018-01-01')\n",
    "df_pre_2018 = df[mask_pre_2018]\n",
    "\n",
    "X_train = df_pre_2018.drop(['Date', 'home_margin', 'home_win'], axis=1).values.astype(np.float64)\n",
    "y_train = df_pre_2018.home_margin.values.astype(np.float64)"
   ]
  },
  {
   "cell_type": "code",
   "execution_count": null,
   "metadata": {},
   "outputs": [],
   "source": [
    "results_2018 = results[mask_2018][['Home_Team', 'Away_Team', 'home_margin', 'Home_Odds', 'Away_Odds']]\n",
    "results_2018['home_win_prob'] = results_2018.Away_Odds / (results_2018.Home_Odds + results_2018.Away_Odds)\n",
    "results_2018.drop(['Home_Odds', 'Away_Odds'], axis=1, inplace=True)"
   ]
  },
  {
   "cell_type": "code",
   "execution_count": null,
   "metadata": {},
   "outputs": [],
   "source": [
    "pipeline.fit(X_train, y_train)"
   ]
  },
  {
   "cell_type": "code",
   "execution_count": null,
   "metadata": {},
   "outputs": [],
   "source": [
    "mean_absolute_error(y_test, pipeline.predict(X_test))"
   ]
  },
  {
   "cell_type": "code",
   "execution_count": null,
   "metadata": {},
   "outputs": [],
   "source": [
    "results_2018['prediction'] = np.round(pipeline.predict(X_test),0)"
   ]
  },
  {
   "cell_type": "code",
   "execution_count": null,
   "metadata": {},
   "outputs": [],
   "source": [
    "results_2018['error'] = abs(results_2018.home_margin - results_2018.prediction)\n",
    "results_2018['win_point'] = (results_2018.home_margin * results_2018.prediction>0).astype('int')\n",
    "results_2018['margin_point'] = (results_2018.error<=5).astype('int')"
   ]
  },
  {
   "cell_type": "code",
   "execution_count": null,
   "metadata": {},
   "outputs": [],
   "source": [
    "results_2018.head()"
   ]
  },
  {
   "cell_type": "code",
   "execution_count": null,
   "metadata": {},
   "outputs": [],
   "source": [
    "# how often is the winner correctly predicted?\n",
    "results_2018.win_point.agg('mean')"
   ]
  },
  {
   "cell_type": "code",
   "execution_count": null,
   "metadata": {},
   "outputs": [],
   "source": [
    "# how often is the scoreline predicted within 5 points?\n",
    "results_2018.margin_point.agg('mean')"
   ]
  },
  {
   "cell_type": "code",
   "execution_count": null,
   "metadata": {},
   "outputs": [],
   "source": [
    "# compare win points to success rate of bookmakers\n",
    "home_wins = (results_2018['home_margin'] > 0).values"
   ]
  },
  {
   "cell_type": "code",
   "execution_count": null,
   "metadata": {},
   "outputs": [],
   "source": [
    "home_favourites = (results_2018.home_win_prob>.5).values"
   ]
  },
  {
   "cell_type": "code",
   "execution_count": null,
   "metadata": {},
   "outputs": [],
   "source": [
    "np.mean(home_wins == home_favourites)"
   ]
  },
  {
   "cell_type": "markdown",
   "metadata": {},
   "source": [
    "---"
   ]
  },
  {
   "cell_type": "markdown",
   "metadata": {
    "colab_type": "text",
    "id": "gLHinnhzI9c6"
   },
   "source": [
    "## Make predictions for upcoming week"
   ]
  },
  {
   "cell_type": "code",
   "execution_count": null,
   "metadata": {},
   "outputs": [],
   "source": [
    "# fit to full data set\n",
    "pipeline.fit(X, y)"
   ]
  },
  {
   "cell_type": "code",
   "execution_count": null,
   "metadata": {
    "colab": {},
    "colab_type": "code",
    "id": "Oaf4jO-7Lzd0"
   },
   "outputs": [],
   "source": [
    "temp = np.vstack((pipeline.predict(X_temp).reshape(games), results['Home_Team'][:games], results['Away_Team'][:games])).T"
   ]
  },
  {
   "cell_type": "code",
   "execution_count": null,
   "metadata": {
    "colab": {},
    "colab_type": "code",
    "id": "smWtk-ptM1P3"
   },
   "outputs": [],
   "source": [
    "preds_df = pd.DataFrame(temp, columns=[\"Home_Margin\", \"Home_Team\", \"Away_Team\"])"
   ]
  },
  {
   "cell_type": "code",
   "execution_count": null,
   "metadata": {
    "colab": {
     "base_uri": "https://localhost:8080/",
     "height": 266
    },
    "colab_type": "code",
    "executionInfo": {
     "elapsed": 807,
     "status": "ok",
     "timestamp": 1551946869131,
     "user": {
      "displayName": "Kieran Donnelly",
      "photoUrl": "https://lh5.googleusercontent.com/-qOCnWQmSPhU/AAAAAAAAAAI/AAAAAAAA3YM/gLNo024IFgk/s64/photo.jpg",
      "userId": "08966570757713512847"
     },
     "user_tz": -120
    },
    "id": "Q1sEAiR-M5Va",
    "outputId": "f63b4b87-ac17-4a40-c8d7-2f24f2442ded"
   },
   "outputs": [],
   "source": [
    "preds_df[\"Home_Margin\"] = preds_df.Home_Margin.apply(lambda x: int(np.round(x, 0)))\n",
    "preds_df"
   ]
  },
  {
   "cell_type": "code",
   "execution_count": null,
   "metadata": {},
   "outputs": [],
   "source": []
  }
 ],
 "metadata": {
  "colab": {
   "collapsed_sections": [],
   "name": "Super_Rugby_Predictor_James_22_Feb.ipynb",
   "provenance": [],
   "toc_visible": true,
   "version": "0.3.2"
  },
  "kernelspec": {
   "display_name": "Python 3",
   "language": "python",
   "name": "python3"
  },
  "language_info": {
   "codemirror_mode": {
    "name": "ipython",
    "version": 3
   },
   "file_extension": ".py",
   "mimetype": "text/x-python",
   "name": "python",
   "nbconvert_exporter": "python",
   "pygments_lexer": "ipython3",
   "version": "3.6.8"
  }
 },
 "nbformat": 4,
 "nbformat_minor": 2
}
